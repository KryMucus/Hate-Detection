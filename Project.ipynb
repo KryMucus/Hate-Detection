{
 "cells": [
  {
   "cell_type": "markdown",
   "metadata": {},
   "source": [
    "\n",
    "# Project: Design a machine-learning-based system for detecting text-based COVID-related fake news using BOW and a naive Bayes \n",
    "\n",
    "Dataset : New Combined Files"
   ]
  },
  {
   "cell_type": "markdown",
   "metadata": {},
   "source": [
    "pip install pandas\n",
    "pip install openpyxl"
   ]
  },
  {
   "cell_type": "markdown",
   "metadata": {},
   "source": [
    "# 1. Dataset Preparation"
   ]
  },
  {
   "cell_type": "markdown",
   "metadata": {},
   "source": [
    "### Let's start by parsing the HTML encoded characters in the datasets.\n"
   ]
  },
  {
   "cell_type": "code",
   "execution_count": 246,
   "metadata": {},
   "outputs": [],
   "source": [
    "from openpyxl import load_workbook\n",
    "import html\n",
    "\n",
    "# Load the workbook and select the active worksheet\n",
    "for i in range (1,9):\n",
    "    wb = load_workbook(f'Group{i}.xlsx')\n",
    "    ws = wb.active\n",
    "\n",
    "    # Iterate over cells in the 'Content' column (assuming it's the first column)\n",
    "    for row in range(1, ws.max_row + 1):\n",
    "        cell = ws.cell(row=row, column=1)\n",
    "        if isinstance(cell.value, str):\n",
    "            cell.value = html.unescape(cell.value)\n",
    "\n",
    "    # Save changes back to the file\n",
    "    wb.save(f'Group{i}_modified.xlsx')"
   ]
  },
  {
   "cell_type": "code",
   "execution_count": 247,
   "metadata": {},
   "outputs": [],
   "source": [
    "from nltk.tokenize import word_tokenize\n",
    "from nltk.corpus import stopwords\n",
    "from nltk.stem.porter import *\n",
    "import string\n",
    "import nltk\n",
    "from sklearn.feature_extraction.text import CountVectorizer\n",
    "from sklearn.feature_extraction.text import TfidfVectorizer\n",
    "from sklearn.metrics import confusion_matrix\n",
    "import seaborn\n",
    "from textstat.textstat import *\n",
    "from sklearn.linear_model import LogisticRegression\n",
    "from sklearn.model_selection import train_test_split\n",
    "from sklearn.metrics import f1_score\n",
    "from sklearn.feature_selection import SelectFromModel\n",
    "from sklearn.metrics import classification_report\n",
    "from sklearn.metrics import accuracy_score\n",
    "from sklearn.svm import LinearSVC\n",
    "from sklearn.ensemble import RandomForestClassifier\n",
    "from sklearn.naive_bayes import GaussianNB\n",
    "import numpy as np\n",
    "from nltk.sentiment.vader import SentimentIntensityAnalyzer as VS\n",
    "import warnings\n",
    "warnings.simplefilter(action='ignore', category=FutureWarning)"
   ]
  },
  {
   "cell_type": "markdown",
   "metadata": {},
   "source": [
    "## A. Group 1 "
   ]
  },
  {
   "cell_type": "code",
   "execution_count": 248,
   "metadata": {},
   "outputs": [
    {
     "data": {
      "text/html": [
       "<div>\n",
       "<style scoped>\n",
       "    .dataframe tbody tr th:only-of-type {\n",
       "        vertical-align: middle;\n",
       "    }\n",
       "\n",
       "    .dataframe tbody tr th {\n",
       "        vertical-align: top;\n",
       "    }\n",
       "\n",
       "    .dataframe thead th {\n",
       "        text-align: right;\n",
       "    }\n",
       "</style>\n",
       "<table border=\"1\" class=\"dataframe\">\n",
       "  <thead>\n",
       "    <tr style=\"text-align: right;\">\n",
       "      <th></th>\n",
       "      <th>Unnamed: 0</th>\n",
       "      <th>Unnamed: 1</th>\n",
       "      <th>Unnamed: 2</th>\n",
       "      <th>Unnamed: 3</th>\n",
       "      <th>Unnamed: 4</th>\n",
       "      <th>Unnamed: 5</th>\n",
       "      <th>Unnamed: 6</th>\n",
       "      <th>Not Fake = 0</th>\n",
       "      <th>Unnamed: 8</th>\n",
       "      <th>Unnamed: 9</th>\n",
       "      <th>...</th>\n",
       "      <th>Unnamed: 16</th>\n",
       "      <th>Unnamed: 17</th>\n",
       "      <th>Unnamed: 18</th>\n",
       "      <th>Unnamed: 19</th>\n",
       "      <th>Unnamed: 20</th>\n",
       "      <th>Final Pass</th>\n",
       "      <th>Unnamed: 22</th>\n",
       "      <th>Unnamed: 23</th>\n",
       "      <th>Unnamed: 24</th>\n",
       "      <th>Unnamed: 25</th>\n",
       "    </tr>\n",
       "  </thead>\n",
       "  <tbody>\n",
       "    <tr>\n",
       "      <th>0</th>\n",
       "      <td>NaN</td>\n",
       "      <td>NaN</td>\n",
       "      <td>NaN</td>\n",
       "      <td>NaN</td>\n",
       "      <td>NaN</td>\n",
       "      <td>NaN</td>\n",
       "      <td>NaN</td>\n",
       "      <td>Fake = 1</td>\n",
       "      <td>NaN</td>\n",
       "      <td>NaN</td>\n",
       "      <td>...</td>\n",
       "      <td>NaN</td>\n",
       "      <td>NaN</td>\n",
       "      <td>NaN</td>\n",
       "      <td>NaN</td>\n",
       "      <td>NaN</td>\n",
       "      <td>NaN</td>\n",
       "      <td>NaN</td>\n",
       "      <td>NaN</td>\n",
       "      <td>NaN</td>\n",
       "      <td>NaN</td>\n",
       "    </tr>\n",
       "    <tr>\n",
       "      <th>1</th>\n",
       "      <td>TWEETS</td>\n",
       "      <td>NaN</td>\n",
       "      <td>AGATHA</td>\n",
       "      <td>EMMA</td>\n",
       "      <td>WILL</td>\n",
       "      <td>MINH</td>\n",
       "      <td>NaN</td>\n",
       "      <td>AGATHA</td>\n",
       "      <td>EMMA</td>\n",
       "      <td>WILL</td>\n",
       "      <td>...</td>\n",
       "      <td>NaN</td>\n",
       "      <td>NaN</td>\n",
       "      <td>NaN</td>\n",
       "      <td>NaN</td>\n",
       "      <td>NaN</td>\n",
       "      <td>Tweets</td>\n",
       "      <td>NaN</td>\n",
       "      <td>NaN</td>\n",
       "      <td>Note Fake</td>\n",
       "      <td>Fake</td>\n",
       "    </tr>\n",
       "    <tr>\n",
       "      <th>2</th>\n",
       "      <td>US regulators give full approval to Pfizer COV...</td>\n",
       "      <td>NaN</td>\n",
       "      <td>Not Fake</td>\n",
       "      <td>Fake</td>\n",
       "      <td>Not Fake</td>\n",
       "      <td>Fake</td>\n",
       "      <td>NaN</td>\n",
       "      <td>NaN</td>\n",
       "      <td>NaN</td>\n",
       "      <td>NaN</td>\n",
       "      <td>...</td>\n",
       "      <td>NaN</td>\n",
       "      <td>NaN</td>\n",
       "      <td>NaN</td>\n",
       "      <td>NaN</td>\n",
       "      <td>NaN</td>\n",
       "      <td>Not Fake</td>\n",
       "      <td>NaN</td>\n",
       "      <td>NaN</td>\n",
       "      <td>NaN</td>\n",
       "      <td>NaN</td>\n",
       "    </tr>\n",
       "    <tr>\n",
       "      <th>3</th>\n",
       "      <td>\"Researchers in The Netherlands and Germany ha...</td>\n",
       "      <td>NaN</td>\n",
       "      <td>Not Fake</td>\n",
       "      <td>Fake</td>\n",
       "      <td>Not Fake</td>\n",
       "      <td>Fake</td>\n",
       "      <td>NaN</td>\n",
       "      <td>NaN</td>\n",
       "      <td>NaN</td>\n",
       "      <td>NaN</td>\n",
       "      <td>...</td>\n",
       "      <td>NaN</td>\n",
       "      <td>NaN</td>\n",
       "      <td>NaN</td>\n",
       "      <td>NaN</td>\n",
       "      <td>NaN</td>\n",
       "      <td>Not Fake</td>\n",
       "      <td>NaN</td>\n",
       "      <td>NaN</td>\n",
       "      <td>NaN</td>\n",
       "      <td>NaN</td>\n",
       "    </tr>\n",
       "    <tr>\n",
       "      <th>4</th>\n",
       "      <td>#Iran: #Coronavirus Fatalities Exceed 386,900 ...</td>\n",
       "      <td>NaN</td>\n",
       "      <td>Not Fake</td>\n",
       "      <td>Not Fake</td>\n",
       "      <td>Fake</td>\n",
       "      <td>Not Fake</td>\n",
       "      <td>NaN</td>\n",
       "      <td>NaN</td>\n",
       "      <td>NaN</td>\n",
       "      <td>NaN</td>\n",
       "      <td>...</td>\n",
       "      <td>NaN</td>\n",
       "      <td>NaN</td>\n",
       "      <td>NaN</td>\n",
       "      <td>NaN</td>\n",
       "      <td>NaN</td>\n",
       "      <td>Not Fake</td>\n",
       "      <td>NaN</td>\n",
       "      <td>NaN</td>\n",
       "      <td>NaN</td>\n",
       "      <td>NaN</td>\n",
       "    </tr>\n",
       "  </tbody>\n",
       "</table>\n",
       "<p>5 rows × 26 columns</p>\n",
       "</div>"
      ],
      "text/plain": [
       "                                          Unnamed: 0  Unnamed: 1 Unnamed: 2  \\\n",
       "0                                                NaN         NaN        NaN   \n",
       "1                                             TWEETS         NaN     AGATHA   \n",
       "2  US regulators give full approval to Pfizer COV...         NaN   Not Fake   \n",
       "3  \"Researchers in The Netherlands and Germany ha...         NaN   Not Fake   \n",
       "4  #Iran: #Coronavirus Fatalities Exceed 386,900 ...         NaN   Not Fake   \n",
       "\n",
       "  Unnamed: 3 Unnamed: 4 Unnamed: 5  Unnamed: 6 Not Fake = 0 Unnamed: 8  \\\n",
       "0        NaN        NaN        NaN         NaN     Fake = 1        NaN   \n",
       "1       EMMA       WILL       MINH         NaN       AGATHA       EMMA   \n",
       "2       Fake   Not Fake       Fake         NaN          NaN        NaN   \n",
       "3       Fake   Not Fake       Fake         NaN          NaN        NaN   \n",
       "4   Not Fake       Fake   Not Fake         NaN          NaN        NaN   \n",
       "\n",
       "  Unnamed: 9  ... Unnamed: 16 Unnamed: 17 Unnamed: 18 Unnamed: 19 Unnamed: 20  \\\n",
       "0        NaN  ...         NaN         NaN         NaN         NaN         NaN   \n",
       "1       WILL  ...         NaN         NaN         NaN         NaN         NaN   \n",
       "2        NaN  ...         NaN         NaN         NaN         NaN         NaN   \n",
       "3        NaN  ...         NaN         NaN         NaN         NaN         NaN   \n",
       "4        NaN  ...         NaN         NaN         NaN         NaN         NaN   \n",
       "\n",
       "  Final Pass  Unnamed: 22  Unnamed: 23  Unnamed: 24  Unnamed: 25  \n",
       "0        NaN          NaN          NaN          NaN          NaN  \n",
       "1     Tweets          NaN          NaN    Note Fake         Fake  \n",
       "2   Not Fake          NaN          NaN          NaN          NaN  \n",
       "3   Not Fake          NaN          NaN          NaN          NaN  \n",
       "4   Not Fake          NaN          NaN          NaN          NaN  \n",
       "\n",
       "[5 rows x 26 columns]"
      ]
     },
     "execution_count": 248,
     "metadata": {},
     "output_type": "execute_result"
    }
   ],
   "source": [
    "import pandas as pd\n",
    "import matplotlib as plt\n",
    "from bs4 import BeautifulSoup\n",
    "\n",
    "\n",
    "df_1 = pd.read_excel(\"Group1_modified.xlsx\")\n",
    "df_1.dataframeName = 'Group 1'\n",
    "df_1.head()"
   ]
  },
  {
   "cell_type": "markdown",
   "metadata": {},
   "source": [
    "### We are only interested in two columns :\n",
    "* The first one, the actual tweet content\n",
    "* The 22nd, the final label"
   ]
  },
  {
   "cell_type": "code",
   "execution_count": 249,
   "metadata": {},
   "outputs": [
    {
     "data": {
      "text/html": [
       "<div>\n",
       "<style scoped>\n",
       "    .dataframe tbody tr th:only-of-type {\n",
       "        vertical-align: middle;\n",
       "    }\n",
       "\n",
       "    .dataframe tbody tr th {\n",
       "        vertical-align: top;\n",
       "    }\n",
       "\n",
       "    .dataframe thead th {\n",
       "        text-align: right;\n",
       "    }\n",
       "</style>\n",
       "<table border=\"1\" class=\"dataframe\">\n",
       "  <thead>\n",
       "    <tr style=\"text-align: right;\">\n",
       "      <th></th>\n",
       "      <th>Content</th>\n",
       "      <th>Label</th>\n",
       "    </tr>\n",
       "  </thead>\n",
       "  <tbody>\n",
       "    <tr>\n",
       "      <th>0</th>\n",
       "      <td>NaN</td>\n",
       "      <td>NaN</td>\n",
       "    </tr>\n",
       "    <tr>\n",
       "      <th>1</th>\n",
       "      <td>TWEETS</td>\n",
       "      <td>Tweets</td>\n",
       "    </tr>\n",
       "    <tr>\n",
       "      <th>2</th>\n",
       "      <td>US regulators give full approval to Pfizer COV...</td>\n",
       "      <td>Not Fake</td>\n",
       "    </tr>\n",
       "    <tr>\n",
       "      <th>3</th>\n",
       "      <td>\"Researchers in The Netherlands and Germany ha...</td>\n",
       "      <td>Not Fake</td>\n",
       "    </tr>\n",
       "    <tr>\n",
       "      <th>4</th>\n",
       "      <td>#Iran: #Coronavirus Fatalities Exceed 386,900 ...</td>\n",
       "      <td>Not Fake</td>\n",
       "    </tr>\n",
       "  </tbody>\n",
       "</table>\n",
       "</div>"
      ],
      "text/plain": [
       "                                             Content     Label\n",
       "0                                                NaN       NaN\n",
       "1                                             TWEETS    Tweets\n",
       "2  US regulators give full approval to Pfizer COV...  Not Fake\n",
       "3  \"Researchers in The Netherlands and Germany ha...  Not Fake\n",
       "4  #Iran: #Coronavirus Fatalities Exceed 386,900 ...  Not Fake"
      ]
     },
     "execution_count": 249,
     "metadata": {},
     "output_type": "execute_result"
    }
   ],
   "source": [
    "#Name these columns\n",
    "df_1.columns=[\"Content\",\"\",\"\",\"\",\"\",\"\",\"\",\"\",\"\",\"\",\"\",\"\",\"\",\"\",\"\",\"\",\"\",\"\",\"\",\"\",\"\",\"Label\",\"\",\"\",\"\",\"\"]\n",
    "#Keep only those\n",
    "df_1 = df_1[['Content','Label']]\n",
    "df_1.head()"
   ]
  },
  {
   "cell_type": "markdown",
   "metadata": {},
   "source": [
    "We still have two unused rows (indexes in pandas)"
   ]
  },
  {
   "cell_type": "code",
   "execution_count": 250,
   "metadata": {},
   "outputs": [
    {
     "data": {
      "text/html": [
       "<div>\n",
       "<style scoped>\n",
       "    .dataframe tbody tr th:only-of-type {\n",
       "        vertical-align: middle;\n",
       "    }\n",
       "\n",
       "    .dataframe tbody tr th {\n",
       "        vertical-align: top;\n",
       "    }\n",
       "\n",
       "    .dataframe thead th {\n",
       "        text-align: right;\n",
       "    }\n",
       "</style>\n",
       "<table border=\"1\" class=\"dataframe\">\n",
       "  <thead>\n",
       "    <tr style=\"text-align: right;\">\n",
       "      <th></th>\n",
       "      <th>Content</th>\n",
       "      <th>Label</th>\n",
       "    </tr>\n",
       "  </thead>\n",
       "  <tbody>\n",
       "    <tr>\n",
       "      <th>2</th>\n",
       "      <td>US regulators give full approval to Pfizer COV...</td>\n",
       "      <td>Not Fake</td>\n",
       "    </tr>\n",
       "    <tr>\n",
       "      <th>3</th>\n",
       "      <td>\"Researchers in The Netherlands and Germany ha...</td>\n",
       "      <td>Not Fake</td>\n",
       "    </tr>\n",
       "    <tr>\n",
       "      <th>4</th>\n",
       "      <td>#Iran: #Coronavirus Fatalities Exceed 386,900 ...</td>\n",
       "      <td>Not Fake</td>\n",
       "    </tr>\n",
       "    <tr>\n",
       "      <th>5</th>\n",
       "      <td>(#PMOI/#MEK #Iran)&amp;(#NCRI): #COVID Tehran Univ...</td>\n",
       "      <td>Not Fake</td>\n",
       "    </tr>\n",
       "    <tr>\n",
       "      <th>6</th>\n",
       "      <td>@AndyPan03390600 @IsoTupe @jonatho84952843 @ZO...</td>\n",
       "      <td>Not Fake</td>\n",
       "    </tr>\n",
       "  </tbody>\n",
       "</table>\n",
       "</div>"
      ],
      "text/plain": [
       "                                             Content     Label\n",
       "2  US regulators give full approval to Pfizer COV...  Not Fake\n",
       "3  \"Researchers in The Netherlands and Germany ha...  Not Fake\n",
       "4  #Iran: #Coronavirus Fatalities Exceed 386,900 ...  Not Fake\n",
       "5  (#PMOI/#MEK #Iran)&(#NCRI): #COVID Tehran Univ...  Not Fake\n",
       "6  @AndyPan03390600 @IsoTupe @jonatho84952843 @ZO...  Not Fake"
      ]
     },
     "execution_count": 250,
     "metadata": {},
     "output_type": "execute_result"
    }
   ],
   "source": [
    "df_1 = df_1.drop(index=[0,1])\n",
    "df_1.head()"
   ]
  },
  {
   "cell_type": "markdown",
   "metadata": {},
   "source": [
    "## Group 2"
   ]
  },
  {
   "cell_type": "code",
   "execution_count": 251,
   "metadata": {},
   "outputs": [
    {
     "data": {
      "text/html": [
       "<div>\n",
       "<style scoped>\n",
       "    .dataframe tbody tr th:only-of-type {\n",
       "        vertical-align: middle;\n",
       "    }\n",
       "\n",
       "    .dataframe tbody tr th {\n",
       "        vertical-align: top;\n",
       "    }\n",
       "\n",
       "    .dataframe thead th {\n",
       "        text-align: right;\n",
       "    }\n",
       "</style>\n",
       "<table border=\"1\" class=\"dataframe\">\n",
       "  <thead>\n",
       "    <tr style=\"text-align: right;\">\n",
       "      <th></th>\n",
       "      <th>tweet_text</th>\n",
       "      <th>Unnamed: 1</th>\n",
       "    </tr>\n",
       "  </thead>\n",
       "  <tbody>\n",
       "    <tr>\n",
       "      <th>0</th>\n",
       "      <td>Dear #antivaxxer: When I say I'm spiritual, I ...</td>\n",
       "      <td>Not Fake</td>\n",
       "    </tr>\n",
       "    <tr>\n",
       "      <th>1</th>\n",
       "      <td>You should defo get it, I got the Pfizer one ...</td>\n",
       "      <td>Not Fake</td>\n",
       "    </tr>\n",
       "    <tr>\n",
       "      <th>2</th>\n",
       "      <td>Lol literally nobody cares what some vegan an...</td>\n",
       "      <td>Not Fake</td>\n",
       "    </tr>\n",
       "    <tr>\n",
       "      <th>3</th>\n",
       "      <td>Everyone knows that vaccines can, very occasio...</td>\n",
       "      <td>Not Fake</td>\n",
       "    </tr>\n",
       "    <tr>\n",
       "      <th>4</th>\n",
       "      <td>Done install microchip.\\n#Pfizer</td>\n",
       "      <td>Fake</td>\n",
       "    </tr>\n",
       "  </tbody>\n",
       "</table>\n",
       "</div>"
      ],
      "text/plain": [
       "                                          tweet_text Unnamed: 1\n",
       "0  Dear #antivaxxer: When I say I'm spiritual, I ...   Not Fake\n",
       "1   You should defo get it, I got the Pfizer one ...   Not Fake\n",
       "2   Lol literally nobody cares what some vegan an...   Not Fake\n",
       "3  Everyone knows that vaccines can, very occasio...   Not Fake\n",
       "4                   Done install microchip.\\n#Pfizer       Fake"
      ]
     },
     "execution_count": 251,
     "metadata": {},
     "output_type": "execute_result"
    }
   ],
   "source": [
    "df_2 = pd.read_excel(\"Group2_modified.xlsx\")\n",
    "df_2.dataframeName = 'Group 2'\n",
    "df_2.head()"
   ]
  },
  {
   "cell_type": "markdown",
   "metadata": {},
   "source": [
    "This one will be much easier to deal with, let's just rename the columns to keep it coherent, for now."
   ]
  },
  {
   "cell_type": "code",
   "execution_count": 252,
   "metadata": {},
   "outputs": [
    {
     "data": {
      "text/html": [
       "<div>\n",
       "<style scoped>\n",
       "    .dataframe tbody tr th:only-of-type {\n",
       "        vertical-align: middle;\n",
       "    }\n",
       "\n",
       "    .dataframe tbody tr th {\n",
       "        vertical-align: top;\n",
       "    }\n",
       "\n",
       "    .dataframe thead th {\n",
       "        text-align: right;\n",
       "    }\n",
       "</style>\n",
       "<table border=\"1\" class=\"dataframe\">\n",
       "  <thead>\n",
       "    <tr style=\"text-align: right;\">\n",
       "      <th></th>\n",
       "      <th>Content</th>\n",
       "      <th>Label</th>\n",
       "    </tr>\n",
       "  </thead>\n",
       "  <tbody>\n",
       "    <tr>\n",
       "      <th>0</th>\n",
       "      <td>Dear #antivaxxer: When I say I'm spiritual, I ...</td>\n",
       "      <td>Not Fake</td>\n",
       "    </tr>\n",
       "    <tr>\n",
       "      <th>1</th>\n",
       "      <td>You should defo get it, I got the Pfizer one ...</td>\n",
       "      <td>Not Fake</td>\n",
       "    </tr>\n",
       "    <tr>\n",
       "      <th>2</th>\n",
       "      <td>Lol literally nobody cares what some vegan an...</td>\n",
       "      <td>Not Fake</td>\n",
       "    </tr>\n",
       "    <tr>\n",
       "      <th>3</th>\n",
       "      <td>Everyone knows that vaccines can, very occasio...</td>\n",
       "      <td>Not Fake</td>\n",
       "    </tr>\n",
       "    <tr>\n",
       "      <th>4</th>\n",
       "      <td>Done install microchip.\\n#Pfizer</td>\n",
       "      <td>Fake</td>\n",
       "    </tr>\n",
       "  </tbody>\n",
       "</table>\n",
       "</div>"
      ],
      "text/plain": [
       "                                             Content     Label\n",
       "0  Dear #antivaxxer: When I say I'm spiritual, I ...  Not Fake\n",
       "1   You should defo get it, I got the Pfizer one ...  Not Fake\n",
       "2   Lol literally nobody cares what some vegan an...  Not Fake\n",
       "3  Everyone knows that vaccines can, very occasio...  Not Fake\n",
       "4                   Done install microchip.\\n#Pfizer      Fake"
      ]
     },
     "execution_count": 252,
     "metadata": {},
     "output_type": "execute_result"
    }
   ],
   "source": [
    "df_2.columns= [\"Content\",\"Label\"]\n",
    "df_2.head()"
   ]
  },
  {
   "cell_type": "markdown",
   "metadata": {},
   "source": [
    "## Group 3"
   ]
  },
  {
   "cell_type": "code",
   "execution_count": 253,
   "metadata": {},
   "outputs": [
    {
     "data": {
      "text/html": [
       "<div>\n",
       "<style scoped>\n",
       "    .dataframe tbody tr th:only-of-type {\n",
       "        vertical-align: middle;\n",
       "    }\n",
       "\n",
       "    .dataframe tbody tr th {\n",
       "        vertical-align: top;\n",
       "    }\n",
       "\n",
       "    .dataframe thead th {\n",
       "        text-align: right;\n",
       "    }\n",
       "</style>\n",
       "<table border=\"1\" class=\"dataframe\">\n",
       "  <thead>\n",
       "    <tr style=\"text-align: right;\">\n",
       "      <th></th>\n",
       "      <th>Tweet</th>\n",
       "      <th>Brian</th>\n",
       "      <th>Georgia</th>\n",
       "      <th>Raidah</th>\n",
       "      <th>Do we all agree?</th>\n",
       "    </tr>\n",
       "  </thead>\n",
       "  <tbody>\n",
       "    <tr>\n",
       "      <th>0</th>\n",
       "      <td>No, you can‚Äôt sue a manufacturer if you get ...</td>\n",
       "      <td>Not Fake</td>\n",
       "      <td>Not Fake</td>\n",
       "      <td>Not Fake</td>\n",
       "      <td>NaN</td>\n",
       "    </tr>\n",
       "    <tr>\n",
       "      <th>1</th>\n",
       "      <td>Norton Healthcare has updated their visitor po...</td>\n",
       "      <td>Not Fake</td>\n",
       "      <td>Not Fake</td>\n",
       "      <td>Not Fake</td>\n",
       "      <td>NaN</td>\n",
       "    </tr>\n",
       "    <tr>\n",
       "      <th>2</th>\n",
       "      <td>Not Yet Vaccinated? You Should Get Vaccinated!...</td>\n",
       "      <td>Not Fake</td>\n",
       "      <td>Not Fake</td>\n",
       "      <td>Not Fake</td>\n",
       "      <td>NaN</td>\n",
       "    </tr>\n",
       "    <tr>\n",
       "      <th>3</th>\n",
       "      <td>Nova Scotia Health will be running an outreach...</td>\n",
       "      <td>Not Fake</td>\n",
       "      <td>Not Fake</td>\n",
       "      <td>Not Fake</td>\n",
       "      <td>NaN</td>\n",
       "    </tr>\n",
       "    <tr>\n",
       "      <th>4</th>\n",
       "      <td>NSW‚Äôs total vaccine count is tonight sitting...</td>\n",
       "      <td>Not Fake</td>\n",
       "      <td>Not Fake</td>\n",
       "      <td>Not Fake</td>\n",
       "      <td>NaN</td>\n",
       "    </tr>\n",
       "  </tbody>\n",
       "</table>\n",
       "</div>"
      ],
      "text/plain": [
       "                                               Tweet    Brian    Georgia  \\\n",
       "0  No, you can‚Äôt sue a manufacturer if you get ...  Not Fake  Not Fake   \n",
       "1  Norton Healthcare has updated their visitor po...  Not Fake  Not Fake   \n",
       "2  Not Yet Vaccinated? You Should Get Vaccinated!...  Not Fake  Not Fake   \n",
       "3  Nova Scotia Health will be running an outreach...  Not Fake  Not Fake   \n",
       "4  NSW‚Äôs total vaccine count is tonight sitting...  Not Fake  Not Fake   \n",
       "\n",
       "    Raidah   Do we all agree?  \n",
       "0  Not Fake               NaN  \n",
       "1  Not Fake               NaN  \n",
       "2  Not Fake               NaN  \n",
       "3  Not Fake               NaN  \n",
       "4  Not Fake               NaN  "
      ]
     },
     "execution_count": 253,
     "metadata": {},
     "output_type": "execute_result"
    }
   ],
   "source": [
    "df_3 = pd.read_excel(\"Group3_modified.xlsx\")\n",
    "df_3.dataframeName = 'Group 3'\n",
    "df_3.head()"
   ]
  },
  {
   "cell_type": "markdown",
   "metadata": {},
   "source": [
    "Here, we can see a column corresponding to the consensus. \n",
    "From the head of the dataset, it seems like all team members always agree. \n",
    "Let's check if that's true."
   ]
  },
  {
   "cell_type": "code",
   "execution_count": 254,
   "metadata": {},
   "outputs": [
    {
     "data": {
      "text/plain": [
       "count    0.0\n",
       "mean     NaN\n",
       "std      NaN\n",
       "min      NaN\n",
       "25%      NaN\n",
       "50%      NaN\n",
       "75%      NaN\n",
       "max      NaN\n",
       "Name: Do we all agree?, dtype: float64"
      ]
     },
     "execution_count": 254,
     "metadata": {},
     "output_type": "execute_result"
    }
   ],
   "source": [
    "df_3['Do we all agree?'].describe()"
   ]
  },
  {
   "cell_type": "markdown",
   "metadata": {},
   "source": [
    "There are actually 2 tweets for which an agreement hasnt been reached. Looking at the dataset 'manually', we can see that Raidah's opinion is most consensual on these two tweets, so we'll keep that column as Label."
   ]
  },
  {
   "cell_type": "code",
   "execution_count": 255,
   "metadata": {},
   "outputs": [
    {
     "data": {
      "text/html": [
       "<div>\n",
       "<style scoped>\n",
       "    .dataframe tbody tr th:only-of-type {\n",
       "        vertical-align: middle;\n",
       "    }\n",
       "\n",
       "    .dataframe tbody tr th {\n",
       "        vertical-align: top;\n",
       "    }\n",
       "\n",
       "    .dataframe thead th {\n",
       "        text-align: right;\n",
       "    }\n",
       "</style>\n",
       "<table border=\"1\" class=\"dataframe\">\n",
       "  <thead>\n",
       "    <tr style=\"text-align: right;\">\n",
       "      <th></th>\n",
       "      <th>Content</th>\n",
       "      <th>Label</th>\n",
       "    </tr>\n",
       "  </thead>\n",
       "  <tbody>\n",
       "    <tr>\n",
       "      <th>0</th>\n",
       "      <td>No, you can‚Äôt sue a manufacturer if you get ...</td>\n",
       "      <td>Not Fake</td>\n",
       "    </tr>\n",
       "    <tr>\n",
       "      <th>1</th>\n",
       "      <td>Norton Healthcare has updated their visitor po...</td>\n",
       "      <td>Not Fake</td>\n",
       "    </tr>\n",
       "    <tr>\n",
       "      <th>2</th>\n",
       "      <td>Not Yet Vaccinated? You Should Get Vaccinated!...</td>\n",
       "      <td>Not Fake</td>\n",
       "    </tr>\n",
       "    <tr>\n",
       "      <th>3</th>\n",
       "      <td>Nova Scotia Health will be running an outreach...</td>\n",
       "      <td>Not Fake</td>\n",
       "    </tr>\n",
       "    <tr>\n",
       "      <th>4</th>\n",
       "      <td>NSW‚Äôs total vaccine count is tonight sitting...</td>\n",
       "      <td>Not Fake</td>\n",
       "    </tr>\n",
       "  </tbody>\n",
       "</table>\n",
       "</div>"
      ],
      "text/plain": [
       "                                             Content     Label\n",
       "0  No, you can‚Äôt sue a manufacturer if you get ...  Not Fake\n",
       "1  Norton Healthcare has updated their visitor po...  Not Fake\n",
       "2  Not Yet Vaccinated? You Should Get Vaccinated!...  Not Fake\n",
       "3  Nova Scotia Health will be running an outreach...  Not Fake\n",
       "4  NSW‚Äôs total vaccine count is tonight sitting...  Not Fake"
      ]
     },
     "execution_count": 255,
     "metadata": {},
     "output_type": "execute_result"
    }
   ],
   "source": [
    "df_3.columns=['Content',\"Brian\",'Georgia','Label','Agreement']\n",
    "df_3 = df_3[['Content','Label']]\n",
    "df_3.head()"
   ]
  },
  {
   "cell_type": "markdown",
   "metadata": {},
   "source": [
    "# Group 4 "
   ]
  },
  {
   "cell_type": "code",
   "execution_count": 256,
   "metadata": {},
   "outputs": [
    {
     "data": {
      "text/html": [
       "<div>\n",
       "<style scoped>\n",
       "    .dataframe tbody tr th:only-of-type {\n",
       "        vertical-align: middle;\n",
       "    }\n",
       "\n",
       "    .dataframe tbody tr th {\n",
       "        vertical-align: top;\n",
       "    }\n",
       "\n",
       "    .dataframe thead th {\n",
       "        text-align: right;\n",
       "    }\n",
       "</style>\n",
       "<table border=\"1\" class=\"dataframe\">\n",
       "  <thead>\n",
       "    <tr style=\"text-align: right;\">\n",
       "      <th></th>\n",
       "      <th>Content</th>\n",
       "      <th>Label</th>\n",
       "    </tr>\n",
       "  </thead>\n",
       "  <tbody>\n",
       "    <tr>\n",
       "      <th>0</th>\n",
       "      <td>\"A new vaccine from US company Novavax, which ...</td>\n",
       "      <td>Not Fake</td>\n",
       "    </tr>\n",
       "    <tr>\n",
       "      <th>1</th>\n",
       "      <td>This moron says the üíâ killing ppl are ‚Äúli...</td>\n",
       "      <td>Not Fake</td>\n",
       "    </tr>\n",
       "    <tr>\n",
       "      <th>2</th>\n",
       "      <td>Crazy! Three sisters die from Covid in one wee...</td>\n",
       "      <td>Not Fake</td>\n",
       "    </tr>\n",
       "    <tr>\n",
       "      <th>3</th>\n",
       "      <td>How's that mass civil disobedience campaign ag...</td>\n",
       "      <td>Fake</td>\n",
       "    </tr>\n",
       "    <tr>\n",
       "      <th>4</th>\n",
       "      <td>My two healthy relatives died only after injec...</td>\n",
       "      <td>Not Fake</td>\n",
       "    </tr>\n",
       "  </tbody>\n",
       "</table>\n",
       "</div>"
      ],
      "text/plain": [
       "                                             Content     Label\n",
       "0  \"A new vaccine from US company Novavax, which ...  Not Fake\n",
       "1  This moron says the üíâ killing ppl are ‚Äúli...  Not Fake\n",
       "2  Crazy! Three sisters die from Covid in one wee...  Not Fake\n",
       "3  How's that mass civil disobedience campaign ag...      Fake\n",
       "4  My two healthy relatives died only after injec...  Not Fake"
      ]
     },
     "execution_count": 256,
     "metadata": {},
     "output_type": "execute_result"
    }
   ],
   "source": [
    "df_4 = pd.read_excel(\"Group4_modified.xlsx\")\n",
    "df_4.dataframeName = 'Group 4'\n",
    "df_4.columns = ['Content','Label']\n",
    "df_4.head()"
   ]
  },
  {
   "cell_type": "markdown",
   "metadata": {},
   "source": [
    "# Group 5"
   ]
  },
  {
   "cell_type": "code",
   "execution_count": 257,
   "metadata": {},
   "outputs": [
    {
     "data": {
      "text/html": [
       "<div>\n",
       "<style scoped>\n",
       "    .dataframe tbody tr th:only-of-type {\n",
       "        vertical-align: middle;\n",
       "    }\n",
       "\n",
       "    .dataframe tbody tr th {\n",
       "        vertical-align: top;\n",
       "    }\n",
       "\n",
       "    .dataframe thead th {\n",
       "        text-align: right;\n",
       "    }\n",
       "</style>\n",
       "<table border=\"1\" class=\"dataframe\">\n",
       "  <thead>\n",
       "    <tr style=\"text-align: right;\">\n",
       "      <th></th>\n",
       "      <th>Content</th>\n",
       "      <th>Label</th>\n",
       "    </tr>\n",
       "  </thead>\n",
       "  <tbody>\n",
       "    <tr>\n",
       "      <th>0</th>\n",
       "      <td>NaN</td>\n",
       "      <td>NaN</td>\n",
       "    </tr>\n",
       "    <tr>\n",
       "      <th>1</th>\n",
       "      <td>- That's common for everyone.It wasn't like th...</td>\n",
       "      <td>not fake</td>\n",
       "    </tr>\n",
       "    <tr>\n",
       "      <th>2</th>\n",
       "      <td>.@BCNagesh_bjp is trying to appear that he is ...</td>\n",
       "      <td>fake</td>\n",
       "    </tr>\n",
       "    <tr>\n",
       "      <th>3</th>\n",
       "      <td>.@kprather88 , the aerosol expert, has suggest...</td>\n",
       "      <td>fake</td>\n",
       "    </tr>\n",
       "    <tr>\n",
       "      <th>4</th>\n",
       "      <td>‘You’re blowing this’: Melania criticises Trum...</td>\n",
       "      <td>fake</td>\n",
       "    </tr>\n",
       "  </tbody>\n",
       "</table>\n",
       "</div>"
      ],
      "text/plain": [
       "                                             Content     Label\n",
       "0                                                NaN       NaN\n",
       "1  - That's common for everyone.It wasn't like th...  not fake\n",
       "2  .@BCNagesh_bjp is trying to appear that he is ...      fake\n",
       "3  .@kprather88 , the aerosol expert, has suggest...      fake\n",
       "4  ‘You’re blowing this’: Melania criticises Trum...      fake"
      ]
     },
     "execution_count": 257,
     "metadata": {},
     "output_type": "execute_result"
    }
   ],
   "source": [
    "df_5 = pd.read_excel(\"Group5_modified.xlsx\")\n",
    "df_5.dataframeName = 'Group 5'\n",
    "df_5.columns = ['Content','Label']\n",
    "df_5.drop(index=0)\n",
    "df_5.head()"
   ]
  },
  {
   "cell_type": "markdown",
   "metadata": {},
   "source": [
    "# Group 6"
   ]
  },
  {
   "cell_type": "markdown",
   "metadata": {},
   "source": [
    "Sadly there are two sheets in Group6.xlsx, one of which explaining the thought process behind the labelling. I will start by splitting it in two different files."
   ]
  },
  {
   "cell_type": "code",
   "execution_count": 258,
   "metadata": {},
   "outputs": [
    {
     "data": {
      "text/plain": [
       "' # Load the Excel file\\nfile_path = \\'Group6_modified.xlsx\\'\\nexcel_file = pd.ExcelFile(file_path)\\n\\n# Extract names of all sheets\\nsheet_names = excel_file.sheet_names\\n\\n# Check if there are at least two sheets\\nif len(sheet_names) < 2:\\n    raise ValueError(\"There should be at least two sheets in the Excel file.\")\\n\\n# Loop through each sheet and save it as a separate Excel file\\nfor index, sheet_name in enumerate(sheet_names):\\n    # Read the sheet into a dataframe\\n    df = pd.read_excel(file_path, sheet_name=sheet_name)\\n    \\n    # Define a new filename for the split Excel file\\n    new_file_name = f\"{sheet_name}.xlsx\"\\n    \\n    # Save the sheet data to a new Excel file\\n    df.to_excel(new_file_name, index=False)\\n    \\n    print(f\"Sheet \\'{sheet_name}\\' saved to \\'{new_file_name}\\'.\")\\n '"
      ]
     },
     "execution_count": 258,
     "metadata": {},
     "output_type": "execute_result"
    }
   ],
   "source": [
    "\"\"\" # Load the Excel file\n",
    "file_path = 'Group6_modified.xlsx'\n",
    "excel_file = pd.ExcelFile(file_path)\n",
    "\n",
    "# Extract names of all sheets\n",
    "sheet_names = excel_file.sheet_names\n",
    "\n",
    "# Check if there are at least two sheets\n",
    "if len(sheet_names) < 2:\n",
    "    raise ValueError(\"There should be at least two sheets in the Excel file.\")\n",
    "\n",
    "# Loop through each sheet and save it as a separate Excel file\n",
    "for index, sheet_name in enumerate(sheet_names):\n",
    "    # Read the sheet into a dataframe\n",
    "    df = pd.read_excel(file_path, sheet_name=sheet_name)\n",
    "    \n",
    "    # Define a new filename for the split Excel file\n",
    "    new_file_name = f\"{sheet_name}.xlsx\"\n",
    "    \n",
    "    # Save the sheet data to a new Excel file\n",
    "    df.to_excel(new_file_name, index=False)\n",
    "    \n",
    "    print(f\"Sheet '{sheet_name}' saved to '{new_file_name}'.\")\n",
    " \"\"\""
   ]
  },
  {
   "cell_type": "code",
   "execution_count": 259,
   "metadata": {},
   "outputs": [
    {
     "data": {
      "text/html": [
       "<div>\n",
       "<style scoped>\n",
       "    .dataframe tbody tr th:only-of-type {\n",
       "        vertical-align: middle;\n",
       "    }\n",
       "\n",
       "    .dataframe tbody tr th {\n",
       "        vertical-align: top;\n",
       "    }\n",
       "\n",
       "    .dataframe thead th {\n",
       "        text-align: right;\n",
       "    }\n",
       "</style>\n",
       "<table border=\"1\" class=\"dataframe\">\n",
       "  <thead>\n",
       "    <tr style=\"text-align: right;\">\n",
       "      <th></th>\n",
       "      <th>Content</th>\n",
       "      <th>Label</th>\n",
       "    </tr>\n",
       "  </thead>\n",
       "  <tbody>\n",
       "    <tr>\n",
       "      <th>0</th>\n",
       "      <td>#Pfizer admitting that #COVID-19 #vaccine #she...</td>\n",
       "      <td>FAKE</td>\n",
       "    </tr>\n",
       "    <tr>\n",
       "      <th>1</th>\n",
       "      <td>We will keep reminding you of our rights,worth...</td>\n",
       "      <td>NOT FAKE</td>\n",
       "    </tr>\n",
       "    <tr>\n",
       "      <th>2</th>\n",
       "      <td>It is the duty of the govt. to provide the com...</td>\n",
       "      <td>NOT FAKE</td>\n",
       "    </tr>\n",
       "    <tr>\n",
       "      <th>3</th>\n",
       "      <td>The one Sunday where I actually have a legit e...</td>\n",
       "      <td>NOT FAKE</td>\n",
       "    </tr>\n",
       "    <tr>\n",
       "      <th>4</th>\n",
       "      <td>Caused not create!\\n Viruses don’t just escape...</td>\n",
       "      <td>FAKE</td>\n",
       "    </tr>\n",
       "  </tbody>\n",
       "</table>\n",
       "</div>"
      ],
      "text/plain": [
       "                                             Content      Label\n",
       "0  #Pfizer admitting that #COVID-19 #vaccine #she...      FAKE \n",
       "1  We will keep reminding you of our rights,worth...  NOT FAKE \n",
       "2  It is the duty of the govt. to provide the com...  NOT FAKE \n",
       "3  The one Sunday where I actually have a legit e...  NOT FAKE \n",
       "4  Caused not create!\\n Viruses don’t just escape...      FAKE "
      ]
     },
     "execution_count": 259,
     "metadata": {},
     "output_type": "execute_result"
    }
   ],
   "source": [
    "df_6 = pd.read_excel(\"Group6_modified.xlsx\", sheet_name=\"FINAL Labelled Dataset\")\n",
    "df_6.dataframeName = 'Group 6'\n",
    "df_6.columns = ['Label','Content']\n",
    "# Switch columns values\n",
    "m = df_6['Label'] != \"NX\"\n",
    "df_6.loc[m, ['Label','Content']] = df_6.loc[m, ['Content','Label']].values\n",
    "# Switch columns names\n",
    "df_6.columns= [\"Content\",\"Label\"]\n",
    "df_6.head()"
   ]
  },
  {
   "cell_type": "markdown",
   "metadata": {},
   "source": [
    "# Group 7"
   ]
  },
  {
   "cell_type": "code",
   "execution_count": 260,
   "metadata": {},
   "outputs": [
    {
     "data": {
      "text/html": [
       "<div>\n",
       "<style scoped>\n",
       "    .dataframe tbody tr th:only-of-type {\n",
       "        vertical-align: middle;\n",
       "    }\n",
       "\n",
       "    .dataframe tbody tr th {\n",
       "        vertical-align: top;\n",
       "    }\n",
       "\n",
       "    .dataframe thead th {\n",
       "        text-align: right;\n",
       "    }\n",
       "</style>\n",
       "<table border=\"1\" class=\"dataframe\">\n",
       "  <thead>\n",
       "    <tr style=\"text-align: right;\">\n",
       "      <th></th>\n",
       "      <th>Content</th>\n",
       "      <th>Label</th>\n",
       "    </tr>\n",
       "  </thead>\n",
       "  <tbody>\n",
       "    <tr>\n",
       "      <th>0</th>\n",
       "      <td>We are still averaging &gt;500 COVID deaths per d...</td>\n",
       "      <td>Not Fake</td>\n",
       "    </tr>\n",
       "    <tr>\n",
       "      <th>1</th>\n",
       "      <td>I know that there are several liberals who onl...</td>\n",
       "      <td>Not Fake</td>\n",
       "    </tr>\n",
       "    <tr>\n",
       "      <th>2</th>\n",
       "      <td>@AnnastaciaMP Lol and covid just disappeared j...</td>\n",
       "      <td>Fake</td>\n",
       "    </tr>\n",
       "    <tr>\n",
       "      <th>3</th>\n",
       "      <td>@ProudSocialist @tiffanyjewel10 Nothing would ...</td>\n",
       "      <td>Fake</td>\n",
       "    </tr>\n",
       "    <tr>\n",
       "      <th>4</th>\n",
       "      <td>How about a little inquiry into your governmen...</td>\n",
       "      <td>Fake</td>\n",
       "    </tr>\n",
       "  </tbody>\n",
       "</table>\n",
       "</div>"
      ],
      "text/plain": [
       "                                             Content     Label\n",
       "0  We are still averaging >500 COVID deaths per d...  Not Fake\n",
       "1  I know that there are several liberals who onl...  Not Fake\n",
       "2  @AnnastaciaMP Lol and covid just disappeared j...      Fake\n",
       "3  @ProudSocialist @tiffanyjewel10 Nothing would ...      Fake\n",
       "4  How about a little inquiry into your governmen...      Fake"
      ]
     },
     "execution_count": 260,
     "metadata": {},
     "output_type": "execute_result"
    }
   ],
   "source": [
    "df_7 = pd.read_excel(\"Group7_modified.xlsx\")\n",
    "df_7.dataframeName = 'Group 7'\n",
    "df_7.columns = ['Content','Label']\n",
    "df_7.drop(index=0)\n",
    "df_7.head()"
   ]
  },
  {
   "cell_type": "markdown",
   "metadata": {},
   "source": [
    "# Group 8\n",
    "I need to get rid of the first few lines"
   ]
  },
  {
   "cell_type": "code",
   "execution_count": 261,
   "metadata": {},
   "outputs": [
    {
     "data": {
      "text/html": [
       "<div>\n",
       "<style scoped>\n",
       "    .dataframe tbody tr th:only-of-type {\n",
       "        vertical-align: middle;\n",
       "    }\n",
       "\n",
       "    .dataframe tbody tr th {\n",
       "        vertical-align: top;\n",
       "    }\n",
       "\n",
       "    .dataframe thead th {\n",
       "        text-align: right;\n",
       "    }\n",
       "</style>\n",
       "<table border=\"1\" class=\"dataframe\">\n",
       "  <thead>\n",
       "    <tr style=\"text-align: right;\">\n",
       "      <th></th>\n",
       "      <th>Content</th>\n",
       "      <th>Label</th>\n",
       "    </tr>\n",
       "  </thead>\n",
       "  <tbody>\n",
       "    <tr>\n",
       "      <th>0</th>\n",
       "      <td>RED = FAKE</td>\n",
       "      <td>NaN</td>\n",
       "    </tr>\n",
       "    <tr>\n",
       "      <th>1</th>\n",
       "      <td>BLUE = NOT FAKE</td>\n",
       "      <td>NaN</td>\n",
       "    </tr>\n",
       "    <tr>\n",
       "      <th>2</th>\n",
       "      <td>NaN</td>\n",
       "      <td>NaN</td>\n",
       "    </tr>\n",
       "    <tr>\n",
       "      <th>3</th>\n",
       "      <td>Tweet Text</td>\n",
       "      <td>NaN</td>\n",
       "    </tr>\n",
       "    <tr>\n",
       "      <th>4</th>\n",
       "      <td>According to Chynna Ortaleza, the lockdown aff...</td>\n",
       "      <td>Not Fake</td>\n",
       "    </tr>\n",
       "  </tbody>\n",
       "</table>\n",
       "</div>"
      ],
      "text/plain": [
       "                                             Content     Label\n",
       "0                                         RED = FAKE       NaN\n",
       "1                                    BLUE = NOT FAKE       NaN\n",
       "2                                                NaN       NaN\n",
       "3                                         Tweet Text       NaN\n",
       "4  According to Chynna Ortaleza, the lockdown aff...  Not Fake"
      ]
     },
     "execution_count": 261,
     "metadata": {},
     "output_type": "execute_result"
    }
   ],
   "source": [
    "df_8 = pd.read_excel(\"Group8_modified.xlsx\")\n",
    "df_8.dataframeName = 'Group 8'\n",
    "df_8.columns = ['Content','Label']\n",
    "df_8.head()"
   ]
  },
  {
   "cell_type": "markdown",
   "metadata": {},
   "source": [
    "# Group 9"
   ]
  },
  {
   "cell_type": "code",
   "execution_count": 262,
   "metadata": {},
   "outputs": [
    {
     "data": {
      "text/html": [
       "<div>\n",
       "<style scoped>\n",
       "    .dataframe tbody tr th:only-of-type {\n",
       "        vertical-align: middle;\n",
       "    }\n",
       "\n",
       "    .dataframe tbody tr th {\n",
       "        vertical-align: top;\n",
       "    }\n",
       "\n",
       "    .dataframe thead th {\n",
       "        text-align: right;\n",
       "    }\n",
       "</style>\n",
       "<table border=\"1\" class=\"dataframe\">\n",
       "  <thead>\n",
       "    <tr style=\"text-align: right;\">\n",
       "      <th></th>\n",
       "      <th>Content</th>\n",
       "      <th>Label</th>\n",
       "    </tr>\n",
       "  </thead>\n",
       "  <tbody>\n",
       "    <tr>\n",
       "      <th>0</th>\n",
       "      <td>Reported that nasal Covid19 vaccine that using...</td>\n",
       "      <td>Fake</td>\n",
       "    </tr>\n",
       "    <tr>\n",
       "      <th>1</th>\n",
       "      <td>22 people died of COVID-19</td>\n",
       "      <td>Not Fake</td>\n",
       "    </tr>\n",
       "    <tr>\n",
       "      <th>2</th>\n",
       "      <td>@MTA is honoring the 400+ employees who died f...</td>\n",
       "      <td>Not Fake</td>\n",
       "    </tr>\n",
       "    <tr>\n",
       "      <th>3</th>\n",
       "      <td>Man allegedly died from COVID-19 vaccine, fami...</td>\n",
       "      <td>Not Fake</td>\n",
       "    </tr>\n",
       "    <tr>\n",
       "      <th>4</th>\n",
       "      <td>With all due respect to the Queen, kinda feels...</td>\n",
       "      <td>Not Fake</td>\n",
       "    </tr>\n",
       "  </tbody>\n",
       "</table>\n",
       "</div>"
      ],
      "text/plain": [
       "                                             Content     Label\n",
       "0  Reported that nasal Covid19 vaccine that using...      Fake\n",
       "1                         22 people died of COVID-19  Not Fake\n",
       "2  @MTA is honoring the 400+ employees who died f...  Not Fake\n",
       "3  Man allegedly died from COVID-19 vaccine, fami...  Not Fake\n",
       "4  With all due respect to the Queen, kinda feels...  Not Fake"
      ]
     },
     "execution_count": 262,
     "metadata": {},
     "output_type": "execute_result"
    }
   ],
   "source": [
    "df_9 = pd.read_excel(\"Group9_modified.xlsx\")\n",
    "df_9.dataframeName = 'Group 9'\n",
    "df_9.columns=['Number',\"Content\",'Label','IRR']\n",
    "df_9 = df_9[['Content','Label']]\n",
    "df_9.head()"
   ]
  },
  {
   "cell_type": "markdown",
   "metadata": {},
   "source": [
    "# Merging the Dataset\n",
    "Now all the dataset have the same formats, let's merge them before preprocessing"
   ]
  },
  {
   "cell_type": "code",
   "execution_count": 263,
   "metadata": {},
   "outputs": [
    {
     "data": {
      "text/html": [
       "<div>\n",
       "<style scoped>\n",
       "    .dataframe tbody tr th:only-of-type {\n",
       "        vertical-align: middle;\n",
       "    }\n",
       "\n",
       "    .dataframe tbody tr th {\n",
       "        vertical-align: top;\n",
       "    }\n",
       "\n",
       "    .dataframe thead th {\n",
       "        text-align: right;\n",
       "    }\n",
       "</style>\n",
       "<table border=\"1\" class=\"dataframe\">\n",
       "  <thead>\n",
       "    <tr style=\"text-align: right;\">\n",
       "      <th></th>\n",
       "      <th>Content</th>\n",
       "      <th>Label</th>\n",
       "    </tr>\n",
       "  </thead>\n",
       "  <tbody>\n",
       "    <tr>\n",
       "      <th>count</th>\n",
       "      <td>5205</td>\n",
       "      <td>5200</td>\n",
       "    </tr>\n",
       "    <tr>\n",
       "      <th>unique</th>\n",
       "      <td>4304</td>\n",
       "      <td>19</td>\n",
       "    </tr>\n",
       "    <tr>\n",
       "      <th>top</th>\n",
       "      <td>BREAKING: The $12 million DeSantis spent on hi...</td>\n",
       "      <td>Not Fake</td>\n",
       "    </tr>\n",
       "    <tr>\n",
       "      <th>freq</th>\n",
       "      <td>48</td>\n",
       "      <td>2669</td>\n",
       "    </tr>\n",
       "  </tbody>\n",
       "</table>\n",
       "</div>"
      ],
      "text/plain": [
       "                                                  Content     Label\n",
       "count                                                5205      5200\n",
       "unique                                               4304        19\n",
       "top     BREAKING: The $12 million DeSantis spent on hi...  Not Fake\n",
       "freq                                                   48      2669"
      ]
     },
     "execution_count": 263,
     "metadata": {},
     "output_type": "execute_result"
    }
   ],
   "source": [
    "merged_df = pd.concat([df_1, df_2, df_3, df_4, df_5, df_6,df_7, df_8, df_9], ignore_index=True)\n",
    "merged_df.describe()"
   ]
  },
  {
   "cell_type": "code",
   "execution_count": 264,
   "metadata": {},
   "outputs": [
    {
     "data": {
      "text/html": [
       "<div>\n",
       "<style scoped>\n",
       "    .dataframe tbody tr th:only-of-type {\n",
       "        vertical-align: middle;\n",
       "    }\n",
       "\n",
       "    .dataframe tbody tr th {\n",
       "        vertical-align: top;\n",
       "    }\n",
       "\n",
       "    .dataframe thead th {\n",
       "        text-align: right;\n",
       "    }\n",
       "</style>\n",
       "<table border=\"1\" class=\"dataframe\">\n",
       "  <thead>\n",
       "    <tr style=\"text-align: right;\">\n",
       "      <th></th>\n",
       "      <th>Content</th>\n",
       "      <th>Label</th>\n",
       "    </tr>\n",
       "  </thead>\n",
       "  <tbody>\n",
       "    <tr>\n",
       "      <th>count</th>\n",
       "      <td>601</td>\n",
       "      <td>600</td>\n",
       "    </tr>\n",
       "    <tr>\n",
       "      <th>unique</th>\n",
       "      <td>599</td>\n",
       "      <td>4</td>\n",
       "    </tr>\n",
       "    <tr>\n",
       "      <th>top</th>\n",
       "      <td>Xi will meet Putin on his first go to outdoors...</td>\n",
       "      <td>NOT FAKE</td>\n",
       "    </tr>\n",
       "    <tr>\n",
       "      <th>freq</th>\n",
       "      <td>2</td>\n",
       "      <td>322</td>\n",
       "    </tr>\n",
       "  </tbody>\n",
       "</table>\n",
       "</div>"
      ],
      "text/plain": [
       "                                                  Content     Label\n",
       "count                                                 601       600\n",
       "unique                                                599         4\n",
       "top     Xi will meet Putin on his first go to outdoors...  NOT FAKE\n",
       "freq                                                    2       322"
      ]
     },
     "execution_count": 264,
     "metadata": {},
     "output_type": "execute_result"
    }
   ],
   "source": [
    "df_6.describe()"
   ]
  },
  {
   "cell_type": "markdown",
   "metadata": {},
   "source": [
    "# Preprocessing\n",
    "\n",
    "1. Converting the labels to lower case\n",
    "2. Converting the label to 0 or 1\n",
    "3. Getting rid of special characters in the content\n",
    "4. Implementing Bag of Words"
   ]
  },
  {
   "cell_type": "markdown",
   "metadata": {},
   "source": [
    "1. Converting the labels to lower case"
   ]
  },
  {
   "cell_type": "code",
   "execution_count": 265,
   "metadata": {},
   "outputs": [
    {
     "data": {
      "text/html": [
       "<div>\n",
       "<style scoped>\n",
       "    .dataframe tbody tr th:only-of-type {\n",
       "        vertical-align: middle;\n",
       "    }\n",
       "\n",
       "    .dataframe tbody tr th {\n",
       "        vertical-align: top;\n",
       "    }\n",
       "\n",
       "    .dataframe thead th {\n",
       "        text-align: right;\n",
       "    }\n",
       "</style>\n",
       "<table border=\"1\" class=\"dataframe\">\n",
       "  <thead>\n",
       "    <tr style=\"text-align: right;\">\n",
       "      <th></th>\n",
       "      <th>Content</th>\n",
       "      <th>Label</th>\n",
       "    </tr>\n",
       "  </thead>\n",
       "  <tbody>\n",
       "    <tr>\n",
       "      <th>0</th>\n",
       "      <td>US regulators give full approval to Pfizer COV...</td>\n",
       "      <td>not fake</td>\n",
       "    </tr>\n",
       "    <tr>\n",
       "      <th>1</th>\n",
       "      <td>\"Researchers in The Netherlands and Germany ha...</td>\n",
       "      <td>not fake</td>\n",
       "    </tr>\n",
       "    <tr>\n",
       "      <th>2</th>\n",
       "      <td>#Iran: #Coronavirus Fatalities Exceed 386,900 ...</td>\n",
       "      <td>not fake</td>\n",
       "    </tr>\n",
       "    <tr>\n",
       "      <th>3</th>\n",
       "      <td>(#PMOI/#MEK #Iran)&amp;(#NCRI): #COVID Tehran Univ...</td>\n",
       "      <td>not fake</td>\n",
       "    </tr>\n",
       "    <tr>\n",
       "      <th>4</th>\n",
       "      <td>@AndyPan03390600 @IsoTupe @jonatho84952843 @ZO...</td>\n",
       "      <td>not fake</td>\n",
       "    </tr>\n",
       "  </tbody>\n",
       "</table>\n",
       "</div>"
      ],
      "text/plain": [
       "                                             Content     Label\n",
       "0  US regulators give full approval to Pfizer COV...  not fake\n",
       "1  \"Researchers in The Netherlands and Germany ha...  not fake\n",
       "2  #Iran: #Coronavirus Fatalities Exceed 386,900 ...  not fake\n",
       "3  (#PMOI/#MEK #Iran)&(#NCRI): #COVID Tehran Univ...  not fake\n",
       "4  @AndyPan03390600 @IsoTupe @jonatho84952843 @ZO...  not fake"
      ]
     },
     "execution_count": 265,
     "metadata": {},
     "output_type": "execute_result"
    }
   ],
   "source": [
    "merged_df = merged_df[merged_df['Label'].apply(lambda x: isinstance(x, (str, bytes)))]\n",
    "merged_df['Label'] = merged_df['Label'].apply(str.lower)\n",
    "merged_df.head()"
   ]
  },
  {
   "cell_type": "markdown",
   "metadata": {},
   "source": [
    "2. Converting the label to 0 or 1"
   ]
  },
  {
   "cell_type": "code",
   "execution_count": 266,
   "metadata": {},
   "outputs": [
    {
     "data": {
      "text/plain": [
       "Binarised Label\n",
       "0    3474\n",
       "1    1722\n",
       "2       4\n",
       "Name: count, dtype: int64"
      ]
     },
     "execution_count": 266,
     "metadata": {},
     "output_type": "execute_result"
    }
   ],
   "source": [
    "def binarise(label):\n",
    "    if label.replace(\" \", \"\") == \"fake\" :\n",
    "        return 1\n",
    "    elif (label.replace(\" \", \"\") == \"notfake\") or label.replace(\" \", \"\") == \"not-fake\" :\n",
    "        return 0\n",
    "    else :\n",
    "        return 2\n",
    "\n",
    "merged_df['Binarised Label'] = merged_df['Label'].apply(binarise)\n",
    "merged_df['Binarised Label'].value_counts()\n"
   ]
  },
  {
   "cell_type": "markdown",
   "metadata": {},
   "source": [
    "### We see that there are 4 labels that are not \"fake\" or \"not fake\"\n",
    "Let's look at those outliers"
   ]
  },
  {
   "cell_type": "code",
   "execution_count": 267,
   "metadata": {},
   "outputs": [
    {
     "data": {
      "text/plain": [
       "Label\n",
       "not fake                    3430\n",
       "fake                        1688\n",
       "not fake                      42\n",
       "fake                          34\n",
       "not-fake                       2\n",
       "unknown                        2\n",
       "fake but partically true       1\n",
       "no fake                        1\n",
       "Name: count, dtype: int64"
      ]
     },
     "execution_count": 267,
     "metadata": {},
     "output_type": "execute_result"
    }
   ],
   "source": [
    "merged_df[\"Label\"].value_counts()"
   ]
  },
  {
   "cell_type": "markdown",
   "metadata": {},
   "source": [
    "It appears that all of these outliers corresponds to tweets that haven't successfully been labeled.\""
   ]
  },
  {
   "cell_type": "markdown",
   "metadata": {},
   "source": [
    "# Stemming, Tokenization... "
   ]
  },
  {
   "cell_type": "markdown",
   "metadata": {},
   "source": [
    "stopwords : https://gist.githubusercontent.com/sebleier/554280/raw/7e0e4a1ce04c2bb7bd41089c9821dbcf6d0c786c/NLTK's%2520list%2520of%2520english%2520stopwords"
   ]
  },
  {
   "cell_type": "code",
   "execution_count": 268,
   "metadata": {},
   "outputs": [],
   "source": [
    "stopwords = ['i', 'me', 'my', 'myself', 'we', 'our', 'ours', 'ourselves', 'you', 'your', 'yours', 'yourself', 'yourselves', 'he', 'him', 'his', 'himself', 'she', 'her', 'hers', 'herself', 'it', 'its', 'itself', 'they', 'them', 'their', 'theirs', 'themselves', 'what', 'which', 'who', 'whom', 'this', 'that', 'these', 'those', 'am', 'is', 'are', 'was', 'were', 'be', 'been', 'being', 'have', 'has', 'had', 'having', 'do', 'does', 'did', 'doing', 'a', 'an', 'the', 'and', 'but', 'if', 'or', 'because', 'as', 'until', 'while', 'of', 'at', 'by', 'for', 'with', 'about', 'against', 'between', 'into', 'through', 'during', 'before', 'after', 'above', 'below', 'to', 'from', 'up', 'down', 'in', 'out', 'on', 'off', 'over', 'under', 'again', 'further', 'then', 'once', 'here', 'there', 'when', 'where', 'why', 'how', 'all', 'any', 'both', 'each', 'few', 'more', 'most', 'other', 'some', 'such', 'no', 'nor', 'not', 'only', 'own', 'same', 'so', 'than', 'too', 'very', 's', 't', 'can', 'will', 'just', 'don', 'should', 'now',\"#ff\", \"ff\", \"rt\"]"
   ]
  },
  {
   "cell_type": "code",
   "execution_count": 269,
   "metadata": {},
   "outputs": [],
   "source": [
    "# Make sure all the content column is made of strings\n",
    "\n",
    "merged_df[\"Content\"] = merged_df[\"Content\"].apply(str)"
   ]
  },
  {
   "cell_type": "markdown",
   "metadata": {},
   "source": [
    "### Next part is inspired by : https://github.com/NakulLakhotia/Hate-Speech-Detection-in-Social-Media-using-Python/blob/master/final_customization.ipynb"
   ]
  },
  {
   "cell_type": "markdown",
   "metadata": {},
   "source": [
    "I did not remove hashtags, as some of them should prove useful in order to label the data."
   ]
  },
  {
   "cell_type": "code",
   "execution_count": 270,
   "metadata": {},
   "outputs": [
    {
     "name": "stdout",
     "output_type": "stream",
     "text": [
      "                                             Content  \\\n",
      "0  US regulators give full approval to Pfizer COV...   \n",
      "1  \"Researchers in The Netherlands and Germany ha...   \n",
      "2  #Iran: #Coronavirus Fatalities Exceed 386,900 ...   \n",
      "3  (#PMOI/#MEK #Iran)&(#NCRI): #COVID Tehran Univ...   \n",
      "4  @AndyPan03390600 @IsoTupe @jonatho84952843 @ZO...   \n",
      "5  @DailyMailUK Not needed, even if a healthy chi...   \n",
      "6  @JohnPas4285 @BuffaloBills @OxfordPennant Ther...   \n",
      "7  Bigtime vaccine FAILURES. 87 fully vaccinated ...   \n",
      "8  Breakthrough! BS vaccine not working! Dumb sci...   \n",
      "9  Casar also pushes back on this week\\'s \"frustr...   \n",
      "\n",
      "                                                 BoW  \n",
      "0  [us, regulators, give, full, approval, pfizer,...  \n",
      "1  [researchers, netherlands, germany, warned, pf...  \n",
      "2  [iran, coronavirus, fatalities, exceed, cities...  \n",
      "3  [pmoi, mek, iran, ncri, covid, tehran, univers...  \n",
      "4  [proven, deaths, caused, vaccine, need, read, ...  \n",
      "5  [needed, even, healthy, child, gets, covid, re...  \n",
      "6  [wait, time, donate, blood, receiving, covid, ...  \n",
      "7  [bigtime, vaccine, failures, fully, vaccinated...  \n",
      "8  [breakthrough, bs, vaccine, working, dumb, sci...  \n",
      "9  [casar, also, pushes, back, week, frustrating,...  \n"
     ]
    }
   ],
   "source": [
    "## 1. Removal of punctuation and capitlization\n",
    "## 2. Tokenizing\n",
    "## 3. Removal of stopwords\n",
    "## 4. Stemming\n",
    "\n",
    "stemmer = PorterStemmer()\n",
    "\n",
    "total_bow = []\n",
    "\n",
    "def preprocess(tweet):\n",
    "    # Removal of extra spaces\n",
    "    tweet = re.sub(r'\\s+', ' ', tweet)\n",
    "    # Remove hashtags\n",
    "    #tweet = re.sub(r'#\\w+', ' ', tweet)\n",
    "    # Removal of @name [mention]\n",
    "    tweet = re.sub(r'@[\\w\\-]+', ' ', tweet)\n",
    "    # Removal of links [https://abc.com]\n",
    "    tweet = re.sub(r'http[s]?://(?:[a-zA-Z]|[0-9]|[$-_@.&+]|[!*\\\\(\\\\),]|(?:%[0-9a-fA-F][0-9a-fA-F]))+', ' ', tweet)\n",
    "    # Removal of punctuations and numbers\n",
    "    tweet = re.sub(r'[^a-zA-Z]', ' ', tweet)\n",
    "    # Remove whitespace with a single space\n",
    "    tweet = re.sub(r'\\s+', ' ', tweet)\n",
    "    # Remove leading and trailing whitespace\n",
    "    tweet = tweet.strip()\n",
    "    # Removal of capitalization\n",
    "    tweet = tweet.lower()\n",
    "    # Tokenizing\n",
    "    tokenized_tweet = tweet.split()\n",
    "    # Stopwords removal\n",
    "    tweet_bow = []\n",
    "    for word in tokenized_tweet:\n",
    "        if word not in stopwords :\n",
    "            #No stemming involved in BOW\n",
    "            #stemmed_word = stemmer.stem(word)\n",
    "            #processed_tweet.append(stemmed_word)\n",
    "            tweet_bow.append(word)\n",
    "            if word not in total_bow :\n",
    "                total_bow.append(word)\n",
    "    # Join the processed words back into a single string\n",
    "    # return ' '.join(processed_tweet)\n",
    "    return tweet_bow\n",
    "\n",
    "merged_df['BoW'] = merged_df[\"Content\"].apply(preprocess)  \n",
    "\n",
    "print(merged_df[[\"Content\",\"BoW\"]].head(10))"
   ]
  },
  {
   "cell_type": "markdown",
   "metadata": {},
   "source": [
    "## Let's view the total bag of words :"
   ]
  },
  {
   "cell_type": "code",
   "execution_count": 271,
   "metadata": {},
   "outputs": [
    {
     "name": "stdout",
     "output_type": "stream",
     "text": [
      "['us', 'regulators', 'give', 'full', 'approval', 'pfizer', 'covid', 'vaccine', 'immune', 'suppressant', 'medications', 'make', 'deadly', 'researchers', 'netherlands', 'germany', 'warned', 'biontech', 'coronavirus', 'disease', 'induces', 'complex', 'reprogramming', 'innate', 'responses', 'iran', 'fatalities', 'exceed', 'citiestehran', 'university', 'medical', 'sciences', 'number', 'people', 'received', 'doses', 'less', 'population', 'one', 'hundred', 'countries', 'better', 'situation', 'pmoi', 'mek', 'ncri', 'tehran', 'two', 'state', 'run', 'media', 'freeiran', 'proven', 'deaths', 'caused', 'need', 'read', 'information', 'entirety', 'proper', 'context', 'needed', 'even', 'healthy', 'child', 'gets', 'recover', 'gain', 'natural', 'immunity', 'compared', 'killed', 'children', 'already', 'wait', 'time', 'donate', 'blood', 'receiving', 'xa', 'moderna', 'janssen', 'johnson', 'find', 'answers', 'donation', 'faqs', 'bigtime', 'failures', 'fully', 'vaccinated', 'died', 'breakthrough', 'bs', 'working', 'dumb', 'scientist', 'doctors', 'united', 'states', 'google', 'works', 'lazy', 'ass', 'sofia', 'kenin', 'withdraws', 'u', 'open', 'testing', 'positive', 'casar', 'also', 'pushes', 'back', 'week', 'frustrating', 'level', 'policy', 'regarding', 'mandates', 'says', 'supportive', 'anything', 'city', 'get', 'employees', 'clinical', 'studies', 'israel', 'cleveland', 'clinic', 'england', 'demonstrated', 'beyond', 'doubt', 'sars', 'cov', 'provides', 'robust', 'durable', 'protection', 'm', 'suing', 'employer', 'mandate', 'real', 'amd', 'safe', 'effective', 'masks', 'work', 'however', 'vaccination', 'helps', 'keep', 'getting', 'vaccines', 'currently', 'available', 'preventing', 'important', 'tools', 'stop', 'pandemic', 'learn', 'fox', 'news', 'side', 'segment', 'tries', 'answer', 'anti', 'conspiracy', 'theories', 'pushed', 'gaslighting', 'america', 'fda', 'actually', 'approve', 'future', 'exist', 'yet', 'personal', 'choice', 'experts', 'agree', 'free', 'today', 'great', 'piece', 'challenges', 'measuring', 'efficacy', 'waning', 'higher', 'quality', 'around', 'issues', 'half', 'employers', 'workers', 'paid', 'leave', 'effects', 'health', 'officials', 'japan', 'thursday', 'announced', 'halting', 'use', 'million', 'sites', 'reported', 'finding', 'contaminated', 'vials', 'healthcare', 'would', 'rather', 'quit', 'fired', 'concern', 'hospitals', 'leaders', 'hospital', 'systems', 'said', 'club', 'forum', 'hitchcock', 'insists', 'vax', 'pro', 'opening', 'bloody', 'country', 'made', 'decision', 'share', 'story', 'journalist', 'hypocritical', 'thank', 'honesty', 'speedy', 'recovery', 'holy', 'heck', 'look', 'neutralizes', 'strains', 'cure', 'miracles', 'yes', 'inescapable', 'antibody', 'discovery', 'known', 'scitechdaily', 'hospitalizations', 'jumped', 'previous', 'day', 'group', 'anyone', 'dose', 'soon', 'considered', 'location', 'near', 'many', 'updated', 'july', 'source', 'org', 'science', 'ma', 'spoke', 'w', 'challenging', 'dr', 'ryan', 'cole', 'claims', 'takes', 'papers', 'true', 'wraps', 'misinformation', 'conflates', 'things', 'misrepresents', 'data', 'point', 'calling', 'never', 'intentionally', 'hurt', 'someoneif', 'wear', 'mask', 'refuse', 'say', 'assisted', 'death', 'see', 'ithouston', 'reports', 'first', 'pediatric', 'youth', 'underlying', 'conditions', 'cnn', 'combing', 'entire', 'ind', 'nda', 'pf', 'zr', 'jab', 'exactly', 'going', 'contradictory', 'wording', 'speculating', 'll', 'bottom', 'report', 'tired', 'arguing', 'fb', 'rushed', 'lol', 'strain', 'studying', 'virus', 'since', 'like', 'idiot', 'republicans', 'tried', 'injecting', 'bleach', 'treat', 'taking', 'de', 'worming', 'medication', 'horses', 'extremely', 'sick', 'ne', 'ohio', 'easy', 'place', 'move', 'metrohealth', 'leading', 'cases', 'rapidly', 'rising', 'uh', 'ceos', 'worry', 'could', 'lead', 'staff', 'reduction', 'require', 'daily', 'tests', 'pay', 'put', 'burden', 'prove', 'public', 'threat', 'increase', 'insurance', 'copays', 'double', 'jabbed', 'still', 'self', 'isolate', 'told', 'nhs', 'test', 'trace', 'protect', 'others', 'spreading', 'support', 'implied', 'held', 'strong', 'low', 'spring', 'steadily', 'declined', 'mid', 'june', 'end', 'delta', 'became', 'predominant', 'makes', 'complete', 'sense', 'addition', 'confidentiality', 'agreement', 'shows', 'potential', 'candidates', 'transferred', 'north', 'carolina', 'nineteen', 'days', 'prior', 'official', 'emergence', 'early', 'uk', 'scientists', 'hvivo', 'infected', 'well', 'young', 'volunteers', 'worlk', 'reinfect', 'quarantine', 'ideally', 'stopped', 'variants', 'escaping', 'india', 'completed', 'administering', 'least', 'eligible', 'adult', 'crossed', 'crore', 'cumulative', 'vaccinations', 'across', 'moves', 'suspend', 'abundance', 'caution', 'contamination', 'company', 'suspends', 'fears', 'withheld', 'lakh', 'foreign', 'materials', 'found', 'per', 'friendly', 'reminder', 'associated', 'x', 'risk', 'heart', 'damage', 'latest', 'government', 'yellow', 'card', 'scheme', 'adverse', 'reactions', 'small', 'without', 'parental', 'consent', 'clear', 'poor', 'hand', 'magnets', 'japanese', 'ministry', 'taken', 'due', 'reacts', 'current', 'outbreak', 'previously', 'recovered', 'recent', 'mostly', 'new', 'study', 'understand', 'responsethe', 'security', 'agency', 'funding', 'consortium', 'research', 'partners', 'individuals', 'respond', 'canada', 'approves', 'ages', 'o', 'truly', 'wuhan', 'problem', 'almost', 'years', 'richard', 'fleming', 'bioweapon', 'oxford', 'academy', 'yr', 'old', 'walk', 'site', 'using', 'ivermectin', 'paste', 'used', 'worm', 'flawed', 'attempt', 'suggestion', 'way', 'spike', 'dog', 'take', 'pills', 'pregnant', 'women', 'risks', 'unknown', 'religious', 'rightdemands', 'fealty', 'must', 'deniedno', 'god', 'remember', 'status', 'certificate', 'ordered', 'wanting', 'away', 'europa', 'league', 'year', 'arrive', 'magnetic', 'labeled', 'cray', 'turns', 'right', 'wtf', 'paul', 'carson', 're', 'really', 'making', 'versus', 'swedish', 'antibodies', 'protecting', 'reinfection', 'including', 'variant', 'superior', 'induced', 'reduce', 'vital', 'cell', 'nzpol', 'auspol', 'lockdownnz', 'nz', 'jabs', 'comirnaty', 'unvaccinated', 'times', 'likely', 'die', 'adjusted', 'hospitalized', 'immunization', 'via', 'update', 'system', 'initially', 'changed', 'visitor', 'guests', 'show', 'proof', 'longer', 'requirement', 'myths', 'facts', 'truth', 'please', 'consider', 'appointment', 'vast', 'majority', 'absolutely', 'fine', 'authors', 'showing', 'increased', 'clots', 'much', 'lower', 'nbc', 'reporting', 'suggests', 'levels', 'infect', 'therefore', 'contributing', 'summer', 'surge', 'americans', 'within', 'presidential', 'election', 'campaign', 'democratic', 'candidate', 'kamala', 'harris', 'refused', 'discouraged', 'trump', 'green', 'party', 'jill', 'stein', 'stated', 'opposes', 'wish', 'foundation', 'granting', 'wishes', 'aug', 'tucker', 'carlson', 'tonight', 'man', 'kearney', 'nebraska', 'hours', 'august', 'south', 'wales', 'australia', 'seizing', 'tens', 'thousands', 'parents', 'forcibly', 'vaccinating', 'stadium', 'rand', 'got', 'despite', 'resisting', 'hypocrite', 'press', 'briefing', 'centers', 'control', 'prevention', 'failing', 'superspreaders', 'actual', 'pet', 'scanner', 'detected', 'microchip', 'person', 'arm', 'five', 'jetblue', 'pilots', 'result', 'intention', 'sacrificing', 'life', 'freedom', 'adolescence', 'daughters', 'properly', 'stay', 'home', 'president', 'macron', 'france', 'friend', 'daughter', 'physician', 'assistant', 'york', 'fellow', 'pa', 'extreme', 'allergic', 'reaction', 'called', 'stevens', 'syndrome', 'four', 'british', 'airways', 'orange', 'county', 'supervisor', 'wagner', 'expressed', 'genuine', 'tracking', 'devices', 'asked', 'presence', 'board', 'meeting', 'cloe', 'giani', 'giavazzi', 'tennis', 'star', 'head', 'developed', 'pharmaceutical', 'female', 'sterilization', 'contains', 'aborted', 'fetal', 'cells', 'threw', 'otherwise', 'tennessee', 'nurse', 'tiffany', 'dover', 'passed', 'yorkers', 'sign', 'access', 'shark', 'allies', 'conservation', 'estimated', 'wild', 'sharks', 'squalene', 'chemical', 'liver', 'produce', 'cannibalism', 'among', 'recipients', 'alabama', 'december', 'portuguese', 'named', 'sonia', 'azevedo', 'russian', 'vladimir', 'putin', 'second', 'baby', 'girl', 'virginia', 'given', 'connecticut', 'offering', 'drinks', 'starting', 'may', 'nov', 'gov', 'andrew', 'cuomo', 'bad', 'appeared', 'successful', 'donald', 'tenure', 'sale', 'dark', 'web', 'robert', 'f', 'kennedy', 'jr', 'won', 'supreme', 'court', 'case', 'mandatory', 'law', 'allows', 'videos', 'los', 'angeles', 'sheriff', 'department', 'special', 'needs', 'mrna', 'capable', 'altering', 'damaging', 'human', 'dna', 'according', 'sloan', 'kettering', 'institute', 'interfere', 'tumor', 'suppressing', 'genes', 'promote', 'cancer', 'luciferase', 'april', 'obliged', 'donating', 'vape', 'cartridge', 'containing', 'single', 'disqualify', 'policyholders', 'benefits', 'experimental', 'become', 'months', 'administration', 'create', 'shown', 'cause', 'resulting', 'lungs', 'viral', 'showed', 'stuck', 'arms', 'purportedly', 'demonstrating', 'contained', 'metal', 'ingredients', 'page', 'warns', 'unprotected', 'sex', 'genetic', 'manipulation', 'birth', 'defects', 'elisa', 'granato', 'part', 'trial', 'shortly', 'administered', 'scientific', 'proved', 'causal', 'link', 'herpes', 'california', 'resident', 'several', 'youngsters', 'required', 'allowed', 'return', 'school', 'margaret', 'keenan', 'recipient', 'featured', 'earlier', 'providing', 'evidence', 'wrongdoing', 'deception', 'promised', 'readily', 'astrazeneca', 'seven', 'senegal', 'chief', 'doctor', 'inter', 'milan', 'christian', 'eriksen', 'cardiac', 'arrest', 'men', 'inject', 'penis', 'size', 'blue', 'horseshoe', 'crabs', 'production', 'fall', 'federal', 'released', 'plans', 'force', 'every', 'citizen', 'photograph', 'canine', 'demonstrates', 'national', 'code', 'red', 'restricted', 'travel', 'voting', 'commerce', 'undergo', 'three', 'month', 'lockdown', 'regulated', 'automated', 'social', 'distancing', 'text', 'accurately', 'outlines', 'biotechnology', 'linked', 'anthony', 'fauci', 'bill', 'gates', 'george', 'soros', 'jeffrey', 'epstein', 'ceo', 'albert', 'bourla', 'photographs', 'circulated', 'house', 'speaker', 'nancy', 'pelosi', 'democrat', 'needle', 'sealed', 'cap', 'approved', 'drug', 'thalidomide', 'rigorously', 'tested', 'prescribed', 'ultimately', 'malformations', 'newborns', 'born', 'tragedy', 'possible', 'undetermined', 'emergency', 'authorizations', 'michael', 'yeadon', 'wrote', 'extinguish', 'officer', 'israeli', 'elderly', 'owns', 'stock', 'developer', 'inc', 'marvelous', 'marvin', 'hagler', 'march', 'pope', 'francis', 'urged', 'following', 'prayer', 'precious', 'jesus', 'christ', 'touch', 'amen', 'development', 'november', 'funded', 'operation', 'warp', 'speed', 'along', 'coalition', 'dubbed', 'id', 'seeks', 'world', 'merriam', 'webster', 'expanded', 'definition', 'vaxxer', 'light', 'confirmed', 'causes', 'neurological', 'cdc', 'refusing', 'form', 'racism', 'harms', 'color', 'contain', 'product', 'numbers', 'detectable', 'quick', 'response', 'qr', 'video', 'shared', 'online', 'took', 'lives', 'left', 'disabled', 'cigarettes', 'food', 'experiencing', 'severe', 'carry', 'load', 'council', 'dead', 'reduced', 'organs', 'failure', 'document', 'reads', 'high', 'serious', 'suffered', 'symptoms', 'unaccountable', 'unexplained', 'reasons', 'ask', 'gp', 'general', 'practitioner', 'immediately', 'mutations', 'responsible', 'american', 'toxic', 'protein', 'damages', 'graphene', 'percent', 'imagine', 'body', 'avoid', 'diclofenac', 'anaesthesia', 'chance', 'charles', 'hoffe', 'posted', 'facebook', 'proteins', 'elicited', 'technology', 'microscopic', 'scattered', 'permanently', 'tissue', 'peer', 'reviewed', 'benefit', 'ratio', 'simply', 'prevent', 'incur', 'europe', 'eudravigilance', 'directly', 'dying', 'phe', 'admissions', 'useless', 'advisor', 'patrick', 'vallance', 'tell', 'family', 'friends', 'eat', 'durian', 'garden', 'next', 'eating', 'necessary', 'know', 'cautious', 'pity', 'lose', 'moment', 'ignorance', 'except', 'wake', 'breaking', 'contents', 'inside', 'exposed', 'virtually', 'oxide', 'poisonous', 'destroys', 'literally', 'everything', 'greatest', 'exposure', 'barred', 'flying', 'metals', 'nanotechnology', 'smaller', 'biochips', 'testified', 'live', 'something', 'stats', 'safety', 'c', 'd', 'surveyed', 'event', 'missing', 'routine', 'duties', 'seeing', 'www', 'ausvaxsafety', 'au', 'survival', 'journal', 'medicine', 'finds', 'becoming', 'weeks', 'miscarriage', 'rate', 'call', 'withdrawal', 'covidvaccines', 'come', 'animals', 'covidvaccine', 'visit', 'wasn', 'obvious', 'common', 'area', 'dietetics', 'practice', 'believe', 'wellness', 'fascist', 'decrease', 'reality', 'increasing', 'hmm', 'trust', 'guinea', 'pigs', 'various', 'stages', 'manufacturing', 'historic', 'line', 'peta', 'members', 'puppies', 'choosing', 'trying', 'lmao', 'apparently', 'adjacent', 'saying', 'naturally', 'thus', 'forced', 'particular', 'unnecessarily', 'bitch', 'non', 'partisan', 'want', 'horse', 'dewormer', 'instead', 'cult', 'dy', 'ng', 'good', 'thing', 'ineffective', 'argument', 'long', 'term', 'protesters', 'vaxx', 'mybodymychoice', 'movement', 'healthprotesters', 'fuck', 'alone', 've', 'earth', 'choices', 'thk', 'trumps', 'chip', 'track', 'hoax', 'shitting', 'insides', 'close', 'enough', 'protest', 'large', 'se', 'think', 'big', 'far', 'political', 'able', 'phase', 'responsibility', 'everyone', 'ab', 'yyc', 'infections', 'fake', 'lying', 'republican', 'politics', 'abortion', 'stream', 'theorists', 'hesitant', 'passports', 'issue', 'growing', 'naturalimmunity', 'acquired', 'denying', 'newflash', 'mutating', 'nothing', 'doesn', 'help', 'chinese', 'dangerous', 'admit', 'vaxers', 'false', 'powerful', 'dont', 'jane', 'ruby', 'expert', 'researcher', 'anomalies', 'commandant', 'marine', 'corps', 'david', 'berger', 'rebuked', 'secretary', 'defense', 'lloyd', 'james', 'austin', 'iii', 'madnate', 'protestors', 'try', 'storm', 'former', 'bbc', 'headquarters', 'protestor', 'declares', 'inalienable', 'speak', 'freely', 'randomly', 'bandits', 'mit', 'harvard', 'might', 'alter', 'admits', 'karen', 'kingston', 'points', 'documentation', 'lipid', 'particle', 'marker', 'website', 'allegedly', 'pxode', 'nanoparticles', 'welcome', 'earn', 'extra', 'cash', 'neighbors', 'ffns', 'anonymously', 'name', 'submit', 'gives', 'win', 'monthly', 'sweestakes', 'aurs', 'looked', 'gene', 'therapy', 'resist', 'follow', 'introduce', 'amendments', 'defund', 'govt', 'enforce', 'cbc', 'guidelines', 'schools', 'interesting', 'seems', 'relief', 'receive', 'ouchies', 'best', 'altogether', 'exercise', 'let', 'beat', 'none', 'strangers', 'stick', 'cocktail', 'countless', 'short', 'guys', 'tv', 'mhra', 'yellowcard', 'adcerse', 'correct', 'cancel', 'planned', 'trip', 'repeat', 'vaers', 'recorded', 'sharp', 'suddenly', 'message', 'mild', 'unproven', 'b', 'manipulated', 'shots', 'miscarriages', 'disguised', 'words', 'director', 'rochelle', 'walensky', 'narrative', 'destructed', 'chased', 'settle', 'fightback', 'forcing', 'sydney', 'jumping', 'jack', 'graphic', 'title', 'ideas', 'cover', 'editor', 'option', 'willing', 'soul', 'intact', 'else', 'minute', 'explain', 'layman', 'terms', 'injections', 'deserves', 'unbiased', 'consenting', 'experiments', 'nurembergcode', 'surprise', 'frustrate', 'underreported', 'delete', 'ridiculous', 'super', 'disrespectful', 'click', 'article', 'sic', 'worse', 'pushing', 'hard', 'knowing', 'distanciation', 'nations', 'iceland', 'yesterday', 'filling', 'vial', 'box', 'cannot', 'manufacture', 'date', 'lab', 'thinking', 'emoji', 'ppl', 'sad', 'realization', 'dontshootthemessenger', 'injected', 'saline', 'suspicious', 'everybody', 'paris', 'protesting', 'tyranny', 'lockdowns', 'related', 'total', 'aged', 'reference', 'younger', 'entirely', 'kill', 'censored', 'statistically', 'odd', 'barely', 'mutated', 'rolled', 'whole', 'greek', 'alphabet', 'somehow', 'blame', 'logic', 'folks', 'saver', 'encourage', 'mutate', 'age', 'groups', 'easily', 'dutch', 'nurses', 'ur', 'pure', 'poison', 'jos', 'luis', 'sevillano', 'toxin', 'tht', 'generates', 'clotting', 'thrombi', 'hs', 'bn', 'pcr', 'swbs', 'face', 'jovenel', 'moise', 'haiti', 'john', 'magufuli', 'tanzania', 'hamed', 'bakayoko', 'ivory', 'coast', 'ambrose', 'dlamini', 'eswatini', 'pierre', 'nkurunziza', 'burundi', 'office', 'opposing', 'camps', 'sell', 'solution', 'butthatsnoneofmybusiness', 'makeup', 'g', 'lies', 'secret', 'resistance', 'begins', 'mount', 'plan', 'french', 'citizens', 'vs', 'finally', 'fifteenth', 'describe', 'excited', 'grab', 'drink', 'vaccineswork', 'unlike', 'knows', 'price', 'duration', 'incidence', 'events', 'gave', 'fight', 'viruses', 'stronger', 'greater', 'perhaps', 'misunderstanding', 'remains', 'authorisation', 'announcement', 'isn', 'ya', 'sounds', 'vaccinate', 'catch', 'notices', 'morning', 'vaxxed', 'targeting', 'antivaxxers', 'qld', 'advice', 'delay', 'book', 'seriously', 'ill', 'maximum', 'reliable', 'sources', 'eight', 'local', 'drop', 'january', 'biden', 'shot', 'olds', 'selected', 'centres', 'closest', 'shameful', 'bravo', 'sets', 'vaccinemandate', 'oct', 'hit', 'record', 'scrambled', 'set', 'tents', 'ccplions', 'philadelphia', 'education', 'moved', 'hybrid', 'classes', 'review', 'course', 'list', 'determine', 'meet', 'indiafightscoronacongratulations', 'major', 'milestone', 'achieved', 'largestvaccinedrive', 'kudos', 'pm', 'ji', 'kristina', 'zeh', 'frontlines', 'driven', 'decided', 'last', 'governor', 'polis', 'decisions', 'requirements', 'personnel', 'colorado', 'vulnerable', 'populations', 'sun', 'either', 'dimwit', 'liar', 'approvals', 'covering', 'branded', 'identical', 'check', 'ons', 'scroll', 'little', 'biological', 'reason', 'affect', 'fertility', 'completes', 'request', 'expected', 'usa', 'highest', 'widely', 'dangers', 'vaccinebetter', 'worked', 'aboutcovid', 'infection', 'explains', 'compare', 'adults', 'icu', 'additionally', 'info', 'sue', 'manufacturer', 'injury', 'file', 'countermeasures', 'compensation', 'program', 'ochsner', 'hospitalization', 'continue', 'remain', 'alarming', 'admitted', 'okay', 'six', 'gainesville', 'join', 'lawsuit', 'nc', 'treated', 'icus', 'another', 'ones', 'love', 'paho', 'inequity', 'achilles', 'heel', 'americas', 'past', 'disasters', 'rushing', 'colossally', 'stupid', 'resistant', 'emerge', 'insider', 'predicted', 'develop', 'multiple', 'nashville', 'wgbtalk', 'instagram', 'post', 'executive', 'hasn', 'pft', 'jerry', 'jordan', 'pressing', 'philly', 'expand', 'include', 'asymptomatic', 'students', 'superintendent', 'william', 'hite', 'acting', 'commissioner', 'pfzer', 'sure', 'mfsavoices', 'justiceseeking', 'planning', 'go', 'aapex', 'las', 'vegas', 'negative', 'tirebusiness', 'pnd', 'poll', 'cast', 'vote', 'pools', 'vaxed', 'condemming', 'bonnie', 'henry', 'exemptions', 'passport', 'order', 'forget', 'circulating', 'pritzker', 'affects', 'nursing', 'unable', 'unwilling', 'teachers', 'arrives', 'amid', 'outbreaks', 'hundreds', 'exposures', 'riders', 'cuyahoga', 'valley', 'scenic', 'railroad', 'pole', 'adventure', 'ride', 'ps', 'covaxin', 'plus', 'icmr', 'studya', 'indian', 'bharat', 'biotech', 'grady', 'judd', 'heartfelt', 'comments', 'losing', 'deputy', 'friday', 'spryfield', 'cancelled', 'runners', 'participating', 'broad', 'street', 'spectators', 'strongly', 'attending', 'race', 'permitted', 'start', 'finish', 'newsom', 'believes', 'removed', 'hope', 'circus', 'recall', 'enact', 'sweeping', 'question', 'genuinely', 'florida', 'handling', 'though', 'lax', 'restrictions', 'luck', 'climate', 'density', 'neither', 'wanted', 'um', 'norway', 'particularly', 'slots', 'jake', 'casino', 'islandia', 'inviting', 'smart', 'bruce', 'arians', 'stricter', 'rules', 'bucs', 'crap', 'brazilian', 'butt', 'aren', 'allowing', 'cracks', 'laughing', 'happy', 'bro', 'kidding', 'p', 'nice', 'caseload', 'soars', 'winter', 'king', 'philip', 'plainville', 'wrentham', 'norfolk', 'families', 'pop', 'monday', 'regional', 'surrounded', 'oregon', 'packed', 'patients', 'nyuers', 'faculty', 'administrators', 'done', 'community', 'uploading', 'haven', 'late', 'recommend', 'breastfeeding', 'reproductive', 'immunologist', 'shares', 'codes', 'central', 'feature', 'quebec', 'sept', 'businesses', 'bars', 'clubs', 'restaurants', 'care', 'messed', 'ky', 'firefighter', 'regret', 'illness', 'colombia', 'comes', 'saturday', 'coverage', 'minors', 'duque', 'seoul', 'drive', 'thru', 'unlv', 'stan', 'fulton', 'building', 'closed', 'normal', 'thurs', 'paper', 'gone', 'stoke', 'paranoia', 'evolve', 'direction', 'remotely', 'justifies', 'stance', 'raw', 'lots', 'kinds', 'establishes', 'instance', 'fever', 'pyrexia', 'th', 'analysis', 'print', 'subject', 'committee', 'sec', 'recommended', 'trials', 'reliance', 'closure', 'hangs', 'projected', 'nearly', 'dec', 'nation', 'closely', 'watched', 'forecasting', 'model', 'distribute', 'pill', 'joe', 'pledge', 'thesun', 'september', 'blitz', 'ever', 'sensible', 'forward', 'entry', 'stamp', 'happens', 'bother', 'moleg', 'nl', 'average', 'weekly', 'convince', 'loved', 'holding', 'dispel', 'microchips', 'impact', 'pregnancy', 'police', 'complaints', 'filed', 'politicians', 'hacked', 'trinidad', 'tobago', 'novel', 'additional', 'details', 'turkey', 'rollout', 'chaotic', 'confusing', 'effectiveness', 'dropped', 'accounted', 'published', 'tuesday', 'gonna', 'unfortunately', 'coin', 'jea', 'hosting', 'outside', 'downtown', 'jacksonville', 'honor', 'uf', 'leon', 'haley', 'member', 'responder', 'kentucky', 'changes', 'mind', 'contracting', 'lex', 'lexington', 'vid', 'cred', 'gavi', 'alliance', 'yt', 'rest', 'snippet', 'immunology', 'boosters', 'boostershots', 'scienceteacher', 'watch', 'yale', 'tom', 'murray', 'kids', 'white', 'coordinator', 'jeff', 'zients', 'reporters', 'critical', 'progress', 'millions', 'lucky', 'transmit', 'physical', 'gadgets', 'air', 'variety', 'kills', 'normally', 'amazon', 'struggling', 'everett', 'frustrated', 'quits', 'largest', 'rise', 'vigilant', 'geaux', 'cps', 'folk', 'remind', 'surging', 'fooled', 'modeller', 'climbing', 'quite', 'steeply', 'southern', 'illinois', 'waking', 'whew', 'results', 'didn', 'j', 'booster', 'increases', 'nine', 'fold', 'timeline', 'venezuela', 'crisis', 'poonawalla', 'fun', 'regulator', 'mukesh', 'ambani', 'application', 'conduct', 'recombinant', 'based', 'williams', 'capita', 'transmission', 'note', 'occurred', 'unc', 'reminding', 'indoor', 'spaces', 'resources', 'quickly', 'correctly', 'identified', 'often', 'cold', 'paired', 'exploring', 'worth', 'pondering', 'wouldn', 'worst', 'enemy', 'choose', 'wisely', 'views', 'matter', 'bit', 'st', 'contact', 'turn', 'visiting', 'places', 'bexley', 'weekend', 'nearest', 'heard', 'suggesting', 'wanes', 'substantially', 'claim', 'lasts', 'different', 'conclusions', 'explainer', 'zycov', 'zydus', 'cadila', 'october', 'ongoing', 'basis', 'dependent', 'supplies', 'letsdothis', 'scotland', 'register', 'registration', 'portal', 'kabc', 'dies', 'riverside', 'youngest', 'pediatrics', 'cautions', 'label', 'atheists', 'adapt', 'evangelical', 'opposed', 'otterbein', 'authorizes', 'older', 'nsw', 'lga', 'authorised', 'breakingnews', 'mississippi', 'college', 'votes', 'wide', 'unite', 'fightcorona', 'indiafightscorona', 'staysafe', 'getvaccinatednow', 'indiaat', 'achieves', 'onaugust', 'blog', 'kerala', 'crosses', 'modi', 'calls', 'momentous', 'feat', 'inoculated', 'tweets', 'minister', 'mansukh', 'mandaviya', 'complications', 'dwarfed', 'raise', 'condition', 'bleeding', 'corona', 'coronavirusupdates', 'pandemiceffect', 'vaccinesideeffects', 'covidisnotover', 'trypanophobic', 'tryst', 'sarscov', 'publichealth', 'russia', 'protects', 'dips', 'potent', 'deterrent', 'change', 'strength', 'activated', 'defenses', 'authorities', 'concerned', 'onam', 'celebrations', 'zyduscadila', 'statewide', 'figures', 'dashboard', 'presents', 'biggest', 'clot', 'dyk', 'receipts', 'clinicians', 'seen', 'ron', 'desantis', 'criticized', 'touting', 'treatment', 'top', 'donor', 'invested', 'dollars', 'microcosm', 'wrong', 'georgia', 'cop', 'grifols', 'pharmamar', 'stage', 'drugs', 'gen', 'crowd', 'haltonon', 'uptake', 'residents', 'sooner', 'appointments', 'idiocracy', 'developing', 'myocarditis', 'inflammation', 'western', 'cape', 'bringing', 'marincounty', 'includes', 'rd', 'severely', 'immunocompromised', 'bay', 'officers', 'reaffirm', 'myanmar', 'minority', 'muslim', 'rohingya', 'spokesman', 'ruling', 'military', 'adding', 'behind', 'inoculation', 'junta', 'bengali', 'rakhine', 'living', 'dorms', 'release', 'sent', 'west', 'indies', 'opinion', 'ministers', 'incredibly', 'defensive', 'whenever', 'challenged', 'credit', 'shirk', 'pharmacist', 'hebert', 'clients', 'pharmacy', 'driving', 'homes', 'facilities', 'door', 'reliancelifesciences', 'nod', 'clinicaltrials', 'bank', 'suspect', 'fraud', 'disaster', 'hotline', 'sask', 'easier', 'clinics', 'stickittocovid', 'vaccinessavelives', 'ruralmattersclinic', 'listing', 'saudiarabia', 'sends', 'cargo', 'plane', 'tunisia', 'carrying', 'saudi', 'texas', 'abbott', 'blocking', 'gregabbott', 'texashealthandsafetycode', 'wfpl', 'louisville', 'grandmother', 'final', 'winner', 'sweepstakesa', 'millionaire', 'winning', 'sweepstakes', 'andy', 'beshear', 'afte', 'wholechild', 'teens', 'survey', 'whiteevangelicalrepublicans', 'experience', 'chills', 'tiredness', 'headache', 'redness', 'swelling', 'pain', 'joint', 'muscle', 'primary', 'provider', 'reuters', 'oilfield', 'services', 'firm', 'schlumberger', 'nv', 'asking', 'disclose', 'customers', 'mandating', 'job', 'slb', 'judge', 'overstepped', 'authority', 'ban', 'averages', 'attempts', 'fact', 'fdadministration', 'marketed', 'niaid', 'nih', 'claimed', 'monetary', 'stake', 'initial', 'animal', 'simultaneously', 'mean', 'damn', 'mice', 'authorized', 'participants', 'history', 'excluded', 'interact', 'account', 'black', 'hispanic', 'counterparts', 'leaving', 'spreads', 'aides', 'ethnicity', 'leanings', 'brand', 'nope', 'meanwhile', 'relative', 'untrue', 'indirectly', 'legislation', 'applied', 'authorization', 'k', 'institutions', 'individual', 'offered', 'clearly', 'started', 'advanced', 'convenience', 'dah', 'authorize', 'persons', 'confined', 'jails', 'etc', 'son', 'rip', 'rare', 'chances', 'hello', 'introducing', 'travelling', 'qu', 'bec', 'photo', 'issued', 'canadian', 'province', 'recognized', 'averaging', 'leads', 'coronaviruses', 'mers', 'weren', 'discovered', 'decades', 'skeptics', 'hcq', 'sheep', 'dewormers', 'gop', 'failed', 'incomplete', 'alberta', 'type', 'lot', 'issuing', 'civic', 'address', 'organization', 'reportedly', 'monoclonal', 'airline', 'cruise', 'ship', 'companies', 'dealing', 'travelers', 'cards', 'colleges', 'tackling', 'vaxxers', 'spread', 'difficult', 'kind', 'stupidity', 'fear', 'massive', 'bionech', 'combined', 'mmm', 'buying', 'fighting', 'beaumont', 'opens', 'third', 'ben', 'anderson', 'wife', 'credits', 'beware', 'catching', 'covishield', 'ads', 'coronavac', 'covax', 'subscribe', 'gtv', 'adolescents', 'gotten', 'billions', 'thanks', 'collaborative', 'efforts', 'biopharmaceutical', 'manufacturers', 'global', 'equity', 'bodies', 'stacked', 'ceiling', 'creates', 'backlog', 'funeral', 'crematories', 'considering', 'understaffed', 'signs', 'slowing', 'presenter', 'lisa', 'shaw', 'coroner', 'mother', 'headaches', 'brain', 'led', 'urges', 'channel', 'denham', 'pericarditis', 'campus', 'mcgill', 'recommends', 'whose', 'compromised', 'moderately', 'perthnow', 'happening', 'specific', 'locations', 'dates', 'chicago', 'ap', 'educators', 'kindergarten', 'beginning', 'worn', 'indoors', 'outpaced', 'east', 'availability', 'identity', 'gap', 'china', 'billion', 'commission', 'inactivated', 'maintained', 'protective', 'power', 'guangdong', 'sinopharm', 'sinovac', 'claiming', 'discrimination', 'vancouver', 'bc', 'fitness', 'coach', 'regrets', 'column', 'coming', 'willfully', 'shrink', 'congress', 'appropriated', 'ramp', 'spent', 'expanding', 'capacity', 'neighbor', 'helping', 'administers', 'brazil', 'nndc', 'spiking', 'lapd', 'skirt', 'dept', 'inquired', 'loudoun', 'co', 'handdrummer', 'thu', 'inquest', 'lasted', 'hour', 'exemption', 'afterward', 'straightforward', 'wrath', 'developmentsin', 'worker', 'woman', 'dove', 'sierra', 'leone', 'steps', 'countrywide', 'sierraleone', 'africa', 'vaccineread', 'peeni', 'henare', 'disappointed', 'ori', 'racist', 'itv', 'burnout', 'compound', 'shortage', 'compounding', 'prepares', 'masking', 'updates', 'coronavirusliveupdates', 'urgent', 'highly', 'hospitalisation', 'shelf', 'frame', 'thrown', 'medsafe', 'southgate', 'abused', 'essentially', 'delivers', 'modify', 'ramping', 'toss', 'district', 'councillor', 'region', 'rates', 'miss', 'pt', 'pastor', 'schemes', 'provide', 'trouble', 'church', 'twins', 'westfield', 'centre', 'ready', 'christina', 'parks', 'phd', 'cellular', 'molecular', 'biology', 'deltavariant', 'sat', 'misconceptions', 'talks', 'concerns', 'parts', 'jb', 'eua', 'allow', 'storage', 'expire', 'erie', 'attorney', 'flynn', 'warning', 'felony', 'charge', 'eu', 'digital', 'depending', 'regs', 'az', 'neg', 'hrs', 'rapid', 'created', 'credentials', 'verify', 'adhere', 'preventive', 'measures', 'limit', 'society', 'wash', 'hands', 'frequently', 'distance', 'mouth', 'coughing', 'sneezing', 'percentage', 'minnesotan', 'safer', 'healthier', 'minnesotans', 'rewards', 'huge', 'strides', 'victorian', 'grabajab', 'devon', 'whilst', 'pass', 'anytime', 'grants', 'feds', 'faster', 'reopen', 'mitigation', 'bangkok', 'santa', 'clara', 'minimize', 'ford', 'delays', 'offices', 'weighs', 'fraser', 'offers', 'secondary', 'campuses', 'admission', 'dino', 'car', 'passenger', 'receives', 'broward', 'chesterfield', 'halfway', 'journey', 'stlmade', 'contaminants', 'batch', 'hospitalisations', 'hitting', 'battle', 'holds', 'promise', 'ending', 'removing', 'policymakers', 'urge', 'sharing', 'bans', 'dallas', 'fort', 'greg', 'wednesday', 'banning', 'regardless', 'dozens', 'districts', 'probation', 'comply', 'favor', 'workplaces', 'gaining', 'traction', 'suggest', 'ways', 'dispensary', 'joints', 'healthierandstrongercommunities', 'throttle', 'implementing', 'countywide', 'gift', 'offer', 'khou', 'harry', 'styles', 'musician', 'implement', 'tour', 'contagious', 'continues', 'sweep', 'abroad', 'fantastic', 'ctv', 'monitor', 'action', 'teacher', 'aka', 'icymi', 'medicaid', 'incentive', 'idaho', 'feel', 'weight', 'confidence', 'reinstated', 'requiring', 'settings', 'granted', 'upload', 'cunyfirst', 'academic', 'heaps', 'controversy', 'field', 'injection', 'releasing', 'significant', 'achievement', 'landmark', 'provisional', 'cowin', 'modihaitohmumkinhai', 'vaccinationupdate', 'jcvi', 'view', 'manatee', 'doubled', 'sarasota', 'tweeted', 'core', 'cr', 'reach', 'mark', 'narendra', 'narendramodi', 'vaccinationdrive', 'goes', 'sodomy', 'gay', 'lgbtq', 'nearing', 'debate', 'whether', 'unborn', 'safely', 'worldwide', 'especially', 'managing', 'diabetes', 'strengthens', 'ninefold', 'drugmaker', 'suspended', 'unused', 'raising', 'supply', 'accelerate', 'discovering', 'precaution', 'portions', 'modernavaccines', 'jasper', 'annex', 'raises', 'binding', 'statement', 'multilateral', 'taskforce', 'scaling', 'toolsa', 'kansas', 'kanye', 'announces', 'upcoming', 'listening', 'team', 'attendees', 'enter', 'kchd', 'attest', 'kent', 'union', 'phased', 'semester', 'opportunity', 'finalize', 'push', 'lapeer', 'threats', 'statistics', 'bristol', 'undertaken', 'legal', 'albertacoronavirus', 'albertapolitics', 'lethbridge', 'lethbridgechamberofcommerce', 'proofofvaccination', 'universityofalberta', 'announcing', 'contractors', 'llhd', 'encourages', 'opportunities', 'relevant', 'ontario', 'certificates', 'units', 'acknowledge', 'measure', 'lucknow', 'decides', 'administer', 'cushman', 'citynews', 'ottawa', 'missouri', 'dhss', 'palestinian', 'fire', 'vips', 'memorial', 'hermann', 'michelle', 'warren', 'mom', 'later', 'urging', 'submission', 'monroe', 'reservation', 'qualify', 'unemployment', 'circumstances', 'tenn', 'entertainment', 'industry', 'rebound', 'beds', 'fill', 'feels', 'ncr', 'readers', 'commentary', 'catholics', 'releases', 'komo', 'analyzing', 'explore', 'attitudes', 'behaviors', 'infodemiology', 'hesitancy', 'kuwait', 'cross', 'sectional', 'kff', 'lgbt', 'thirds', 'plymouth', 'condemned', 'carried', 'vaccinehealth', 'sajid', 'javid', 'understanding', 'harrisburg', 'lancaster', 'partnership', 'upmc', 'options', 'recently', 'spurs', 'threefold', 'launched', 'mass', 'arriving', 'afghans', 'dulles', 'international', 'airport', 'fleeing', 'taliban', 'senior', 'dear', 'antivaxxer', 'spiritual', 'tarot', 'ground', 'quartz', 'essence', 'lavender', 'oil', 'replace', 'defo', 'honestly', 'whatever', 'cool', 'buddies', 'tho', 'tbh', 'mine', 'ago', 'nobody', 'cares', 'vegan', 'australian', 'occasionally', 'bet', 'lateral', 'flow', 'lateralflowtest', 'install', 'computer', 'infinite', 'darpa', 'beast', 'means', 'pandemics', 'jokes', 'enjoying', 'floating', 'bloodstream', 'trusted', 'kicked', 'designed', 'ad', 'shame', 'save', 'bed', 'ignore', 'danger', 'getvaccinated', 'priority', 'scanning', 'device', 'scans', 'position', 'overlords', 'plot', 'takeover', 'humans', 'parasite', 'beneficial', 'treating', 'patent', 'profit', 'abortions', 'texasabortionban', 'whatnowgop', 'pharma', 'money', 'attention', 'medicating', 'intended', 'livestock', 'antivaxx', 'professors', 'sake', 'cures', 'documented', 'hydroxychloroquine', 'budesonide', 'someone', 'blocked', 'cheaper', 'idea', 'differences', 'dosage', 'formula', 'nigeria', 'illegal', 'suggestions', 'insightful', 'abiodun', 'odusote', 'covidvaccination', 'deadline', 'funders', 'fly', 'boycott', 'qantas', 'nomandatoryvaxforqantas', 'herd', 'eradication', 'private', 'hotel', 'owner', 'hotels', 'adopt', 'similar', 'policies', 'virgin', 'hotelsandmotels', 'tourism', 'hospitality', 'holiday', 'businesstravel', 'comparing', 'hepatitis', 'difference', 'lifetime', 'stops', 'nomandatoryvaccines', 'arabia', 'attend', 'workplace', 'ventilation', 'mitigate', 'chasing', 'zero', 'premiers', 'border', 'closures', 'curfews', 'facial', 'recognition', 'software', 'introduction', 'rebelnews', 'computers', 'vice', 'versa', 'alpha', 'phones', 'built', 'starlink', 'maybe', 'leadership', 'driver', 'licenses', 'fifty', 'insist', 'voters', 'insinuate', 'applebee', 'pretty', 'fingers', 'pray', 'ain', 'electronic', 'hey', 'probably', 'theory', 'recommendation', 'categorizing', 'forever', 'rarely', 'reduces', 'manageable', 'fuels', 'threatening', 'commit', 'genocide', 'dramatic', 'fuel', 'msg', 'checked', 'fueling', 'fed', 'patents', 'cdnpoli', 'mt', 'kidneys', 'delayed', 'unpleasant', 'diagnosed', 'infertility', 'actively', 'moms', 'assistance', 'btw', 'periods', 'remained', 'unchanged', 'encouraging', 'determined', 'scholars', 'dc', 'anymore', 'terribly', 'prevents', 'omaha', 'necovid', 'inthistogether', 'selfish', 'clownish', 'yahoos', 'pinning', 'closer', 'cent', 'overruled', 'gladys', 'berejiklian', 'sufficient', 'telling', 'triggered', 'prion', 'wants', 'unaware', 'trigger', 'lifelong', 'acute', 'onset', 'ocd', 'autoimmune', 'diseases', 'par', 'affecting', 'filled', 'brother', 'suffer', 'consequences', 'limited', 'onsets', 'disorders', 'cancers', 'clotshot', 'thought', 'bunch', 'conjecture', 'mysteriously', 'act', 'kanti', 'survive', 'waves', 'roll', 'yeyi', 'abasiyeke', 'acc', 'mortality', 'lagging', 'victims', 'til', 'darwinism', 'perfect', 'unvaxxed', 'scam', 'persists', 'attacked', 'killing', 'speaking', 'met', 'scared', 'amazing', 'stephane', 'bancel', 'r', 'expects', 'quadrivalent', 'seasonal', 'flu', 'market', 'rsv', 'combo', 'severity', 'listen', 'accept', 'tradition', 'twitter', 'dot', 'com', 'original', 'stuff', 'deep', 'shills', 'suppressed', 'causing', 'escape', 'enhancement', 'unlogical', 'recognize', 'valid', 'manchester', 'metrolink', 'contracted', 'covered', 'artificial', 'shouldn', 'relaxing', 'edward', 'cliff', 'brian', 'fernandes', 'nyt', 'emerges', 'prevalent', 'kenya', 'nairobi', 'sep', 'emerged', 'widespread', 'spreaders', 'conducting', 'tackle', 'eos', 'imposing', 'stringent', 'opting', 'regular', 'extraordinarily', 'scary', 'nkw', 'basically', 'prob', 'active', 'pretending', 'forged', 'justification', 'nd', 'felt', 'sleep', 'cvnts', 'hahahaha', 'vaxwilldonoharm', 'iwillbeabletofly', 'refer', 'mobile', 'primarily', 'moronic', 'superspreader', 'labordayweekend', 'horrific', 'timestamped', 'uninformed', 'evil', 'intentions', 'conservative', 'looks', 'tinfoil', 'hats', 'riddance', 'covidiot', 'maga', 'abortionban', 'novaccinemandates', 'inexpensive', 'paying', 'irresponsible', 'expensive', 'patience', 'virtual', 'honeytraps', 'shoot', 'tranquilliser', 'darts', 'groundup', 'war', 'loses', 'credibility', 'definitely', 'backs', 'whatsoever', 'fantasy', 'cope', 'checks', 'davidmabuza', 'outdated', 'alternative', 'unvaxed', 'cost', 'talk', 'feb', 'sorry', 'denied', 'always', 'advocated', 'voluntary', 'strict', 'implementation', 'incentivizing', 'plausible', 'singapore', 'todayonline', 'visitors', 'principle', 'utilitarianism', 'implies', 'rights', 'smallpox', 'eradicated', 'protected', 'croatia', 'weddings', 'concerts', 'unless', 'boarding', 'greatly', 'lethal', 'leaky', 'humoral', 'tantamount', 'add', 'pressure', 'targeted', 'selection', 'barrage', 'joined', 'directions', 'covidvic', 'springst', 'percentages', 'batshit', 'crazy', 'snot', 'regularly', 'snotmonsters', 'gladysoutbreak', 'correlates', 'vermont', 'troopers', 'accused', 'involved', 'resigned', 'investigation', 'educate', 'controlling', 'assume', 'vaccinepassports', 'seeking', 'argues', 'min', 'podcast', 'predicts', 'regime', 'twiv', 'memo', 'sunscreen', 'skin', 'autumn', 'cut', 'drastically', 'faking', 'step', 'essential', 'saved', 'entertain', 'hon', 'mangwiro', 'unnecessary', 'discuss', 'maternity', 'illogical', 'keytonyc', 'enjoy', 'dining', 'effect', 'nerve', 'disorder', 'warn', 'astrazenecasideeffects', 'astrazenecavaccine', 'vaccinesideeffect', 'regions', 'ironic', 'poorest', 'route', 'fared', 'christians', 'sooo', 'ok', 'odds', 'impacts', 'organ', 'prefer', 'mitigations', 'although', 'lesser', 'degree', 'wearing', 'picked', 'links', 'included', 'multiply', 'affective', 'melbournes', 'northern', 'suburbs', 'demanding', 'astrazenica', 'plenty', 'demand', 'stinks', 'main', 'loss', 'occur', 'unlikely', 'shocking', 'infertile', 'harm', 'debunk', 'conspiracies', 'script', 'repeaters', 'effectively', 'novavax', 'rodney', 'penn', 'prize', 'rna', 'enabled', 'sensationalizing', 'la', 'clickbait', 'seem', 'spite', 'overwhelming', 'reading', 'comparison', 'variation', 'susceptible', 'serum', 'neutralising', 'sensitive', 'produced', 'certainly', 'contagiousness', 'precautions', 'frequent', 'appear', 'fundamentally', 'usually', 'jobs', 'matters', 'temporary', 'tiny', 'ouch', 'grasp', 'wider', 'hopefully', 'instructs', 'doesnt', 'immunize', 'pseudo', 'buys', 'stifles', 'opinions', 'lie', 'lifted', 'reminded', 'ripping', 'apart', 'rationale', 'motivation', 'success', 'diminish', 'onwards', 'varies', 'denmark', 'locking', 'anxiously', 'graphs', 'demonstrate', 'picture', 'mam', 'kindly', 'traders', 'fulfill', 'ensure', 'wallet', 'signed', 'hedera', 'distributed', 'ledger', 'checkvax', 'service', 'labour', 'desperate', 'indonesia', 'uttar', 'pradesh', 'vacc', 'tracing', 'contacts', 'hse', 'movements', 'efficient', 'imperatives', 'somebody', 'app', 'store', 'wasted', 'bil', 'crappy', 'together', 'household', 'nowhere', 'waste', 'class', 'tax', 'fund', 'drain', 'epidemiological', 'continuing', 'prudent', 'buildings', 'resided', 'hong', 'kong', 'incubation', 'period', 'ctn', 'aware', 'posed', 'krause', 'intensified', 'isolating', 'remdesivir', 'prophylactic', 'decline', 'considers', 'misuse', 'raised', 'discussed', 'nphet', 'giving', 'notified', 'deal', 'nswhealth', 'const', 'antigen', 'diff', 'metro', 'focus', 'facility', 'areas', 'identify', 'venues', 'ended', 'dosed', 'downloading', 'interstate', 'supported', 'hutton', 'wallsend', 'cleaning', 'saw', 'ie', 'football', 'game', 'sha', 'draconian', 'arrested', 'q', 'hinshaw', 'discontinued', 'isolation', 'madison', 'commissioners', 'hold', 'specifically', 'possibility', 'quarantines', 'mtnews', 'immunized', 'loads', 'enabling', 'lowering', 'deemed', 'restrict', 'cease', 'hangzhou', 'quarantined', 'went', 'ct', 'scan', 'saskatchewan', 'pupils', 'happened', 'gathering', 'peers', 'northantstogether', 'successfully', 'contacted', 'advised', 'accordingly', 'principals', 'fragments', 'wastewater', 'moe', 'newborough', 'symptomatic', 'latrobe', 'gippsnews', 'logged', 'octa', 'samples', 'surprising', 'transmissibility', 'nbcnews', 'enormous', 'crowds', 'attract', 'taipei', 'mayor', 'hou', 'yi', 'banqiao', 'middle', 'concede', 'misread', 'sweden', 'flung', 'prone', 'raging', 'importance', 'pair', 'sides', 'divide', 'sarawak', 'devastating', 'suspected', 'travellers', 'broken', 'obtained', 'trendsspy', 'indicates', 'significantly', 'preventives', 'versions', 'milder', 'professionals', 'keeping', 'records', 'breakthroughs', 'fatal', 'insufficient', 'positives', 'sequenced', 'doh', 'aspect', 'malfeasance', 'handled', 'effort', 'ensuing', 'stretched', 'continued', 'twice', 'ireland', 'proving', 'certification', 'mortgages', 'chronic', 'neglects', 'crucial', 'timely', 'lambda', 'infectious', 'dominates', 'ca', 'lied', 'scare', 'tactics', 'h', 'kenney', 'pathetic', 'sudden', 'jun', 'surprised', 'tricky', 'fairness', 'diminishes', 'risking', 'facing', 'handle', 'looking', 'christmas', 'respectively', 'corresponding', 'ssi', 'shelves', 'largely', 'sold', 'complicates', 'routines', 'growth', 'tapering', 'goldman', 'taper', 'transmissible', 'afghanistan', 'wave', 'uptick', 'deadass', 'dystopian', 'movie', 'walking', 'round', 'protests', 'fashion', 'rich', 'striking', 'hurricanes', 'destroying', 'followers', 'idiots', 'removal', 'caught', 'kept', 'alive', 'ankeny', 'promotes', 'colludes', 'qanon', 'helped', 'aus', 'vic', 'banegaswasthindia', 'randeep', 'guleria', 'aiims', 'log', 'hostility', 'combine', 'appalling', 'mountain', 'corridors', 'attack', 'guardsman', 'playing', 'governors', 'catering', 'antivaxers', 'antimaskers', 'lowest', 'iq', 'occupy', 'fees', 'transplant', 'turned', 'packs', 'agenda', 'ton', 'anyway', 'finance', 'ward', 'oxygen', 'supplementation', 'afternoonbriefing', 'kj', 'ns', 'patient', 'langkawi', 'transfer', 'beachfront', 'datai', 'upping', 'breakthru', 'unsymptomatic', 'devoid', 'completely', 'ravaged', 'lfr', 'turnaround', 'aced', 'fumble', 'virologist', 'everywhere', 'antvaxxers', 'maths', 'foolish', 'frm', 'hygiene', 'plug', 'ears', 'scream', 'achieve', 'hardly', 'tough', 'unfair', 'sight', 'reflective', 'campaigns', 'aliens', 'abduct', 'oh', 'rid', 'base', 'mention', 'haulers', 'undersupply', 'initiative', 'adequate', 'reached', 'paranoid', 'hear', 'curfew', 'punitive', 'meant', 'punish', 'lgas', 'refuses', 'larger', 'peak', 'eases', 'hunter', 'fair', 'omar', 'khorshid', 'noted', 'doherty', 'modelling', 'seemed', 'ignored', 'warnings', 'easing', 'overwhelmed', 'secures', 'victoria', 'notice', 'running', 'alboforpm', 'brad', 'hazzard', 'potentially', 'outdoor', 'reaches', 'target', 'toward', 'strategy', 'attempting', 'monitoring', 'restricting', 'dine', 'pore', 'association', 'kerry', 'chant', 'reopening', 'premier', 'insisted', 'numbe', 'couple', 'homelessness', 'pc', 'concentrations', 'town', 'freedoms', 'incl', 'rescue', 'dogs', 'sector', 'illiterate', 'content', 'helpless', 'souls', 'recommendations', 'procured', 'arrived', 'philippines', 'ntf', 'implementer', 'czar', 'carlito', 'galvez', 'forging', 'tripartite', 'agreements', 'lgus', 'queensland', 'kicking', 'boosting', 'stocks', 'tapers', 'corflutormarania', 'doubleedgesuperspikevaxaxe', 'vaxenebriatoliniap', 'chris', 'fearne', 'originally', 'spa', 'pfe', 'azn', 'gps', 'crying', 'putting', 'emphasis', 'legitimate', 'stockpile', 'mountains', 'profits', 'immunisation', 'onward', 'spikevax', 'vaxzevria', 'stimulate', 'minor', 'landed', 'naia', 'strategies', 'washing', 'ooa', 'prsonnel', 'balayan', 'mps', 'pat', 'ojie', 'matira', 'cndctd', 'oplan', 'bandillo', 'iatf', 'protocols', 'facemask', 'shield', 'strictly', 'observed', 'pblic', 'loctd', 'brgy', 'dist', 'bats', 'relaxed', 'boost', 'ibc', 'tech', 'broadcast', 'mbks', 'appoints', 'ambassadors', 'observe', 'sop', 'compliance', 'seating', 'confirm', 'retail', 'inline', 'provincial', 'triple', 'pems', 'danilo', 'almadrigo', 'cespo', 'direct', 'supervision', 'pltcol', 'simon', 'damolkis', 'oic', 'conducted', 'inspection', 'establishment', 'centro', 'mall', 'vigan', 'pcpl', 'nelvin', 'pondoc', 'traffic', 'investigator', 'recorida', 'minimum', 'standard', 'barangay', 'baybay', 'san', 'roque', 'ozamiz', 'wildfire', 'amongst', 'eradicate', 'confirms', 'airborne', 'particles', 'mechanism', 'breath', 'unfiltered', 'droplets', 'herdimmunity', 'occurs', 'portion', 'becomes', 'locked', 'sickness', 'rampant', 'secondly', 'standpoint', 'endemic', 'steady', 'pace', 'disingenuous', 'treatments', 'tool', 'present', 'complicated', 'anywhere', 'happen', 'appropriately', 'managed', 'reducing', 'lessen', 'outdoors', 'crowded', 'zealand', 'taiwan', 'accomplishing', 'stemming', 'construction', 'jeroen', 'weinmar', 'suck', 'shut', 'sitting', 'smokos', 'endless', 'wholly', 'curbs', 'creator', 'stopping', 'era', 'hotelquarantine', 'passengers', 'returning', 'chart', 'provided', 'highs', 'pre', 'bruh', 'shit', 'yeah', 'suuure', 'eliminated', 'factor', 'math', 'hype', 'watching', 'heavily', 'skyrocketing', 'gibraltar', 'minimal', 'stopmaskingkids', 'cabal', 'bitchute', 'odysee', 'faces', 'kid', 'cbs', 'extends', 'bubble', 'pause', 'ease', 'trend', 'untrustworthy', 'announce', 'smiles', 'brightly', 'reassure', 'angry', 'reassured', 'stern', 'holidays', 'bogus', 'count', 'ten', 'e', 'counting', 'accurate', 'break', 'amount', 'indicate', 'peaking', 'instances', 'gs', 'costly', 'consuming', 'feasible', 'value', 'staffing', 'attitude', 'providers', 'psychotic', 'misdiagnosing', 'inflate', 'guy', 'accident', 'stating', 'untruth', 'duhhh', 'drivers', 'cars', 'followed', 'delusional', 'denialists', 'predominantly', 'necessarily', 'merely', 'suffering', 'skews', 'nephew', 'london', 'respiratory', 'typing', 'swinging', 'dick', 'toys', 'clusters', 'strange', 'fry', 'afraid', 'lifeline', 'shuddering', 'shrug', 'culling', 'bow', 'shed', 'tear', 'usage', 'stays', 'flat', 'guess', 'peaked', 'fewer', 'v', 'melbourne', 'disproportionate', 'busy', 'ahh', 'murdoch', 'lorded', 'stabilised', 'plagued', 'forgetting', 'vics', 'beer', 'picnics', 'sunday', 'thisisnotjournalism', 'pick', 'squabbling', 'guaranteed', 'liberal', 'mantra', 'nswpol', 'revise', 'presser', 'word', 'pleasingly', 'maah', 'irrelevant', 'ffs', 'thoughts', 'prayers', 'lost', 'fri', 'hr', 'pressers', 'icac', 'minns', 'golfing', 'heat', 'vitamin', 'ins', 'rosalie', 'cull', 'regulatory', 'process', 'walks', 'rigorous', 'approving', 'commercialising', 'falling', 'tasmania', 'begin', 'glad', 'origin', 'pronounced', 'bearing', 'atrocities', 'tuskegee', 'enforced', 'thai', 'thailand', 'teenagers', 'zp', 'therapeutics', 'divisi', 'ms', 'reveals', 'ex', 'girlfriend', 'kris', 'smith', 'hypothetical', 'yo', 'coerced', 'precision', 'culture', 'smoking', 'alcohol', 'obesity', 'profile', 'talking', 'began', 'menstrual', 'desperation', 'astounding', 'psychological', 'fragility', 'frightening', 'swollen', 'balls', 'egregious', 'noticed', 'cycle', 'learned', 'shes', 'nicki', 'minaj', 'counter', 'artois', 'problems', 'listings', 'unsafe', 'testicle', 'impotence', 'creating', 'bullshit', 'sackprint', 'swelled', 'cousin', 'trini', 'testes', 'shatters', 'ache', 'logical', 'reasoning', 'multitude', 'similarities', 'simple', 'conclude', 'appears', 'regularity', 'gbs', 'swine', 'feeling', 'supremacy', 'inhaling', 'ppm', 'exceptions', 'rule', 'sadly', 'bedridden', 'eventually', 'perished', 'dilation', 'listed', 'hungry', 'attendance', 'unexpectedly', 'entitled', 'investigating', 'funny', 'teenage', 'simping', 'corporate', 'overlap', 'admitt', 'waiting', 'plays', 'payout', 'vexed', 'changing', 'skip', 'buster', 'viz', 'came', 'image', 'burnt', 'comic', 'wins', 'pumpkin', 'impotency', 'tweet', 'sort', 'boris', 'brains', 'located', 'trousers', 'room', 'mistakes', 'concept', 'yelling', 'spell', 'grade', 'fatality', 'roughly', 'moderate', 'stand', 'yall', 'sister', 'realize', 'goodness', 'chooses', 'crystal', 'malpractice', 'survivor', 'fucking', 'certain', 'uses', 'referred', 'psychic', 'boobs', 'weird', 'drs', 'freak', 'spouted', 'accountability', 'misinforming', 'experienced', 'wholeeeee', 'antivax', 'issa', 'mess', 'interest', 'confers', 'types', 'bug', 'keeps', 'evolving', 'existing', 'recovers', 'restore', 'settembre', 'factors', 'bells', 'palsy', 'aunt', 'dip', 'sandwich', 'invented', 'spanish', 'sony', 'walkman', 'influenza', 'epidemic', 'colour', 'n', 'btc', 'network', 'hersheys', 'choc', 'bar', 'sheeple', 'build', 'lemon', 'surrounding', 'forgot', 'polio', 'mnr', 'qualifies', 'smh', 'fucked', 'silly', 'shape', 'basic', 'downplaying', 'acquiring', 'ideal', 'duty', 'herald', 'aotearoa', 'astonishing', 'teamof', 'betterlatethannever', 'utterly', 'section', 'terrified', 'hell', 'pos', 'shld', 'nyc', 'wore', 'intubated', 'sky', 'weimar', 'zinc', 'deficiency', 'smell', 'strengthen', 'deficient', 'panic', 'pathetically', 'soothing', 'propaganda', 'economy', 'transtasman', 'paused', 'marry', 'bigger', 'happier', 'definitive', 'summary', 'universal', 'subtlety', 'orders', 'surely', 'hy', 'istandwithdan', 'brigade', 'isnt', 'mental', 'ofcourse', 'discussing', 'student', 'bubbles', 'creative', 'defector', 'revealed', 'admitting', 'eventho', 'colleague', 'casual', 'naturl', 'chiropractic', 'supports', 'informed', 'suppression', 'addressing', 'practitioners', 'badidahotakes', 'branden', 'disappear', 'forms', 'gma', 'constantly', 'uc', 'diego', 'briefings', 'homeland', 'intelligence', 'dumbed', 'pictures', 'piss', 'smarter', 'reputable', 'npr', 'ny', 'washington', 'mon', 'faith', 'husband', 'planet', 'disagrees', 'discharged', 'discharge', 'longcovidkids', 'undesirables', 'consistently', 'fails', 'tenants', 'jersey', 'delaying', 'rental', 'evictions', 'increas', 'withholding', 'crime', 'humanity', 'jerseycity', 'sincerequestion', 'resource', 'potatoes', 'awful', 'mindset', 'unhealthy', 'insane', 'rags', 'roles', 'dpread', 'infia', 'tge', 'dynastic', 'fascists', 'newspapers', 'instigation', 'brown', 'sepoys', 'battalion', 'publish', 'trash', 'childhood', 'substantial', 'offline', 'exams', 'enrolled', 'learning', 'distant', 'accommodation', 'complying', 'supporting', 'grievances', 'conductgjuonlineexams', 'forces', 'rationing', 'marked', 'reversal', 'jason', 'approach', 'frontline', 'verge', 'collapse', 'handout', 'candy', 'interrelated', 'exact', 'resarched', 'wary', 'laurie', 'garrett', 'viewers', 'host', 'downplayed', 'foxnewskills', 'foxnewslies', 'paramedics', 'beside', 'respected', 'globe', 'crossings', 'fairly', 'speculated', 'councils', 'overtake', 'abbottfailedtexas', 'material', 'alex', 'jones', 'silencing', 'disinformation', 'ballinger', 'ft', 'meetings', 'minds', 'ark', 'charging', 'amelio', 'typically', 'pricing', 'surpasses', 'rabid', 'deniers', 'comfortable', 'patronizing', 'broader', 'attenuate', 'bring', 'francisco', 'criminal', 'charts', 'heavy', 'curves', 'tentatively', 'abandoning', 'experiment', 'realistic', 'timed', 'mueller', 'collusion', 'hillary', 'clinton', 'lawyers', 'jan', 'express', 'worried', 'sinister', 'spin', 'parent', 'excess', 'palaszczuk', 'typical', 'journalism', 'weeds', 'scored', 'ronny', 'floriduh', 'coined', 'phrase', 'requires', 'contract', 'publicly', 'traded', 'soaring', 'business', 'usual', 'practically', 'beg', 'boss', 'clean', 'masked', 'trained', 'cuts', 'adjust', 'attributable', 'proves', 'art', 'thrives', 'economic', 'stress', 'fills', 'oneself', 'balm', 'expression', 'duress', 'music', 'poetry', 'painting', 'takeflight', 'tms', 'dealt', 'relationship', 'bradley', 'themorningshow', 'tokens', 'barrrowed', 'invest', 'crypto', 'path', 'trendingnow', 'cryptocurency', 'pleasehelp', 'flatten', 'curve', 'impotent', 'testicles', 'married', 'wedding', 'bullied', 'hayley', 'wears', 'echoed', 'responded', 'abc', 'punching', 'bags', 'courts', 'streets', 'maskless', 'gathered', 'salem', 'oppose', 'eric', 'clapton', 'play', 'rolling', 'stone', 'kemp', 'facilitating', 'hpv', 'mandated', 'jacobson', 'massachussetts', 'champ', 'ventilators', 'mobilise', 'communities', 'toddler', 'findourkidsavaccine', 'stories', 'anecdotes', 'buried', 'articles', 'prescient', 'written', 'rejected', 'eau', 'cardiomyopathy', 'luckily', 'eliquis', 'vyndaqel', 'arizona', 'sues', 'constitution', 'omg', 'hillsborough', 'stances', 'financial', 'knew', 'sound', 'harsh', 'cruel', 'mentioning', 'detail', 'batley', 'grammar', 'mob', 'hiding', 'peddle', 'nutty', 'accounced', 'chosen', 'detained', 'indefinitely', 'norton', 'nationalimmunizationmonth', 'nova', 'scotia', 'outreach', 'captain', 'spry', 'firmly', 'rooted', 'activities', 'performances', 'gyms', 'miserable', 'determines', 'render', 'healthnews', 'healthshots', 'collects', 'avoided', 'unveil', 'ibetfordnationwillbethrilledwiththat', 'onetermdougie', 'onpoli', 'joins', 'muniland', 'coronavirusvaccine', 'covidvaccinesinindia', 'pellissippi', 'series', 'pentagon', 'troops', 'asap', 'ayesha', 'jassiem', 'sit', 'fence', 'european', 'partner', 'seek', 'pinal', 'lamb', 'reviews', 'wise', 'stresses', 'polk', 'doug', 'mandatelow', 'triggering', 'ezike', 'montgomery', 'ema', 'cramton', 'bowl', 'costs', 'rcdoh', 'palisades', 'ctr', 'schedule', 'appt', 'minnesota', 'studied', 'outweigh', 'passes', 'wing', 'rewrite', 'messaging', 'ring', 'bell', 'senator', 'wisconsin', 'pneumonia', 'stable', 'placed', 'ventilator', 'excuse', 'crumbles', 'bloodclots', 'disclosures', 'customer', 'grow', 'inquires', 'sfu', 'uvic', 'tru', 'declare', 'ubc', 'idiotstakeivermectinstop', 'southwest', 'weak', 'wanderlust', 'travelgram', 'traveltheworld', 'stark', 'praises', 'arthritis', 'lupus', 'flares', 'vaccinationlearn', 'supercars', 'compulsory', 'repcosc', 'tempe', 'approvalmore', 'texans', 'slow', 'virusreduce', 'itprotect', 'variantsfind', 'drawing', 'immigration', 'equal', 'renfrew', 'hopes', 'serve', 'nudge', 'guidance', 'standards', 'putkids', 'callyourpediatrician', 'questions', 'fanshawe', 'shortfull', 'depend', 'governments', 'shipping', 'mn', 'sen', 'andre', 'jacque', 'sponsored', 'bills', 'respect', 'gamma', 'guiana', 'miners', 'fuelling', 'fourth', 'territorial', 'divided', 'pete', 'opponent', 'newsbreak', 'breast', 'milk', 'mothers', 'tomorrow', 'knaresborough', 'homecare', 'road', 'skipton', 'gateway', 'gargrave', 'bd', 'ud', 'sped', 'millennial', 'progressive', 'savvy', 'socially', 'connected', 'innovative', 'pragmatic', 'practical', 'experiences', 'impacted', 'victorians', 'inundate', 'hubs', 'safest', 'volumes', 'jabhave', 'appointmentyou', 'barrhead', 'eastwood', 'clicking', 'mates', 'investigated', 'sir', 'allan', 'macnab', 'earliermore', 'tripping', 'lining', 'toronto', 'kits', 'fpandemic', 'fit', 'fand', 'ffrom', 'likelihood', 'needing', 'dramatically', 'expands', 'moratorium', 'inequality', 'ihs', 'monthsac', 'leader', 'tripled', 'weeka', 'center', 'lagos', 'begun', 'aims', 'protec', 'pharmaceuticalcompanies', 'healthcareprofits', 'intellectualproperty', 'ip', 'globalsouth', 'lottery', 'illinoisans', 'ends', 'philosophical', 'vaccinepassport', 'conferences', 'airlines', 'needless', 'preventable', 'freaking', 'uva', 'steven', 'zeichner', 'xiang', 'jin', 'meng', 'fusion', 'peptide', 'focusing', 'intensive', 'premature', 'nuse', 'shortages', 'reaching', 'resurgence', 'saving', 'booking', 'wa', 'commander', 'dawson', 'towards', 'cornwallpride', 'midday', 'stithians', 'wadebridge', 'penzance', 'showground', 'delivered', 'mexico', 'coordination', 'mexican', 'nhm', 'meghalaya', 'takeyourbestshot', 'millionreasons', 'institutes', 'orcutt', 'afternoon', 'technical', 'advisory', 'marketing', 'thats', 'prep', 'liability', 'involving', 'willful', 'misconduct', 'roman', 'catholic', 'diocese', 'requested', 'parishioners', 'bnt', 'topic', 'front', 'throughout', 'panel', 'bipoc', 'amended', 'euas', 'lift', 'battles', 'mutant', 'opened', 'biotnech', 'mistake', 'atlantic', 'taught', 'valuable', 'lesson', 'uncontrolled', 'poses', 'arsenal', 'advocates', 'woefully', 'wyoming', 'gymnasium', 'chester', 'phac', 'illustrates', 'advantage', 'enterprise', 'excellent', 'tl', 'chapter', 'goal', 'darnall', 'surgery', 'sheffield', 'qh', 'resume', 'ukhsa', 'launches', 'akron', 'detroit', 'zoo', 'derived', 'llama', 'aimed', 'root', 'sentiment', 'denialism', 'pretend', 'quicker', 'bureaucracy', 'hindered', 'hill', 'underfunding', 'resulted', 'shitty', 'violence', 'lately', 'extremist', 'escalate', 'mukeshambani', 'owned', 'conglomerate', 'indigenous', 'somewhere', 'blacks', 'latinos', 'whites', 'mike', 'vaccintion', 'royal', 'cornwall', 'sundays', 'greenwich', 'unwell', 'wondering', 'stonybrook', 'intermediate', 'dakota', 'meade', 'counts', 'isabelle', 'bankholidayweekend', 'taming', 'remarks', 'waterloo', 'nwtpoli', 'nwt', 'wane', 'memory', 'clonal', 'johns', 'hopkins', 'slightly', 'pdt', 'debates', 'role', 'played', 'socialmedia', 'overwhelmingly', 'extracurricular', 'library', 'pounds', 'myth', 'sooooo', 'commonly', 'considerably', 'sploh', 'vam', 'dam', 'en', 'dejansko', 'prijavijo', 'vse', 'unclear', 'moh', 'deliveries', 'harder', 'ama', 'skeptical', 'vaccineresistant', 'sakes', 'influence', 'murderbymisrule', 'teddebundy', 'doc', 'letter', 'reissued', 'biologic', 'license', 'pending', 'dosecentral', 'birmingham', 'gb', 'download', 'inyourarea', 'louis', 'orleans', 'advising', 'morally', 'fetus', 'misinformed', 'formulation', 'heads', 'harbingers', 'titled', 'uploaded', 'error', 'comm', 'regards', 'specifies', 'impossible', 'reinfected', 'sheets', 'incorrect', 'thousand', 'systemof', 'reveal', 'peru', 'sagasti', 'february', 'weakens', 'corporations', 'enforcement', 'rick', 'mayo', 'carefully', 'researched', 'guide', 'confirmation', 'bias', 'difficulty', 'outcomes', 'falsely', 'believed', 'purpose', 'teach', 'stabilises', 'employee', 'registered', 'pharmacies', 'lina', 'hidalgo', 'conference', 'crew', 'night', 'dinosaurs', 'popping', 'dinosaur', 'park', 'qualified', 'booked', 'shipped', 'maker', 'gregory', 'poland', 'internist', 'vaccinesa', 'tyson', 'chicken', 'plants', 'unitedstates', 'miami', 'calculations', 'busses', 'indians', 'epidemiologist', 'jp', 'muliyil', 'gilbert', 'professor', 'modeled', 'giye', 'covidvaccinenw', 'search', 'cheshirewest', 'hi', 'northwich', 'hartford', 'methodist', 'avoidable', 'getvaccinatednowcolorado', 'phillips', 'affected', 'dedicated', 'caregivers', 'warriors', 'compares', 'spending', 'molly', 'bideford', 'tracker', 'illnesses', 'johnsonjohnson', 'sharply', 'infinitesimal', 'angus', 'reid', 'canadians', 'indifferent', 'sympathy', 'northwestern', 'served', 'prescribing', 'translations', 'processes', 'officially', 'mcj', 'departments', 'languages', 'inoculations', 'prisons', 'corrections', 'prospect', 'bali', 'task', 'remaining', 'beebe', 'chasanov', 'advances', 'sciencelearn', 'fascinating', 'apes', 'proportion', 'writes', 'evaluate', 'vep', 'bahrain', 'reiterated', 'elderlyread', 'mainland', 'nipahvirus', 'virological', 'elements', 'weakened', 'eligibility', 'safehawk', 'treasure', 'forgotten', 'african', 'struggle', 'mistrust', 'bubbled', 'burned', 'mysterious', 'virginian', 'pilot', 'federally', 'industries', 'moco', 'colleagues', 'classroom', 'pediatricians', 'struggles', 'machine', 'draw', 'efficiently', 'optimise', 'suppliesread', 'pediatrician', 'radio', 'complication', 'appeals', 'mayors', 'discussion', 'overcoming', 'succumb', 'convert', 'scannable', 'pull', 'cellphone', 'evacuees', 'upon', 'arrival', 'kabul', 'steve', 'sara', 'walsh', 'religion', 'lookout', 'vaccin', 'stopthespread', 'focussing', 'useful', 'companion', 'concepts', 'milliliter', 'attracted', 'explanations', 'blanket', 'denial', 'orwellian', 'lay', 'groundwork', 'privatising', 'mp', 'shri', 'accounts', 'houses', 'lpg', 'blessed', 'modijiat', 'nowplaying', 'johnny', 'sizzle', 'martina', 'established', 'correlate', 'advise', 'accepted', 'substitute', 'coding', 'zipping', 'contrarians', 'discover', 'hovering', 'absence', 'absences', 'hmmm', 'fool', 'plp', 'aids', 'table', 'hide', 'healthinsurance', 'benefitsofhealthinsurance', 'multilingual', 'language', 'currentaffairs', 'espa', 'ol', 'noticias', 'wondered', 'matt', 'gaetz', 'indicted', 'atty', 'tristan', 'snell', 'ballooned', 'corruption', 'embezzlement', 'funds', 'trafficking', 'indictments', 'anticipated', 'italy', 'spain', 'govuk', 'ourworldindata', 'abby', 'cartus', 'writing', 'plague', 'perform', 'morals', 'freedomtoinfect', 'aussie', 'shores', 'purchased', 'awaiting', 'moron', 'foxnews', 'dipshit', 'sisters', 'concluded', 'conclusion', 'civil', 'disobedience', 'quitting', 'relatives', 'motherfuckers', 'uprising', 'rn', 'violation', 'reddit', 'gamefi', 'gamedev', 'votenoonthe', 'indiedevdog', 'discount', 'unsold', 'pvt', 'expiry', 'looms', 'delivering', 'babies', 'staffers', 'levin', 'deadliness', 'audience', 'sa', 'perfectly', 'injuries', 'honest', 'journos', 'wokes', 'borisjohnson', 'nadhimzahawi', 'chriswhitty', 'socialismoesmiseria', 'gillick', 'competency', 'disruption', 'felix', 'tshisekedi', 'farrel', 'scamdemic', 'bull', 'deathbed', 'smashed', 'avocado', 'tnxp', 'tonix', 'liable', 'whitty', 'monster', 'boys', 'cured', 'lure', 'restart', 'exports', 'males', 'hospitalised', 'cv', 'creators', 'spokesperson', 'bishop', 'lancet', 'preeminent', 'publication', 'encyclopaedia', 'reckons', 'stumped', 'lifesite', 'transmitting', 'lewis', 'upstate', 'worsening', 'scraps', 'threaten', 'resign', 'coerce', 'improved', 'pakistan', 'ranked', 'ptigovt', 'ncoc', 'cooperation', 'irresponsibly', 'linking', 'trends', 'innovation', 'technews', 'prison', 'correctional', 'ferry', 'overturn', 'jay', 'inslee', 'backing', 'decide', 'confused', 'controversial', 'scenario', 'shouting', 'terminates', 'valneva', 'distressed', 'taxpayer', 'willy', 'shrivel', 'grim', 'shoots', 'horrifyingly', 'halted', 'caring', 'corelation', 'abuse', 'trap', 'hot', 'pants', 'dance', 'mcgowan', 'celebrate', 'abba', 'banner', 'guard', 'actions', 'prof', 'balance', 'vague', 'flashback', 'espn', 'allison', 'yahoo', 'ukgov', 'cancels', 'cutting', 'edge', 'scottish', 'bio', 'op', 'consulting', 'scotgov', 'fm', 'keynote', 'speech', 'coincidence', 'dave', 'collected', 'shocker', 'cities', 'manila', 'territories', 'pipeline', 'chesapeake', 'ramps', 'preps', 'naidu', 'expresses', 'delight', 'recognise', 'grown', 'fix', 'travels', 'threatened', 'lawrence', 'wasden', 'rural', 'blueprint', 'nan', 'programme', 'evening', 'generation', 'autoantibodies', 'listeners', 'fn', 'encouraged', 'mutation', 'overnight', 'contrast', 'quarter', 'fans', 'allegiant', 'ahead', 'raiders', 'season', 'opener', 'seniors', 'questioning', 'manitoba', 'ted', 'falk', 'quoted', 'newspaper', 'cbcmb', 'stem', 'exciting', 'rages', 'elementary', 'skipped', 'lebron', 'nba', 'players', 'kernel', 'squander', 'segregated', 'stumbled', 'wanna', 'em', 'grief', 'blind', 'moving', 'annoying', 'bob', 'enyart', 'sued', 'overdue', 'huffpost', 'akin', 'passing', 'hero', 'socal', 'feedly', 'conway', 'rounds', 'passionately', 'tolerate', 'elected', 'dictator', 'organizations', 'lee', 'defined', 'tooth', 'nail', 'wel', 'thrombotic', 'thrombocytopenia', 'pulling', 'levers', 'acquire', 'oof', 'unlawful', 'impose', 'constitute', 'infringements', 'liberties', 'principles', 'federalism', 'separation', 'powers', 'attempted', 'republic', 'example', 'highlights', 'irrelevance', 'tolerance', 'xiamen', 'users', 'sterility', 'gorillas', 'atlanta', 'hoped', 'obtain', 'veterinary', 'primates', 'prepare', 'ignoring', 'supposed', 'dress', 'gestapo', 'nazi', 'shite', 'masse', 'tied', 'setter', 'soaking', 'tampons', 'curing', 'lengths', 'cared', 'waive', 'lights', 'ivermection', 'idione', 'fringing', 'ovarrow', 'demcastfl', 'decreasing', 'cunningham', 'mcmaster', 'demvoice', 'badly', 'manage', 'hosts', 'promoted', 'succumbed', 'arkansas', 'sincerely', 'belief', 'abstain', 'ranging', 'acetaminophen', 'zoloft', 'newsweek', 'wow', 'army', 'resigns', 'pension', 'tyrannical', 'marxist', 'flack', 'discouraging', 'database', 'disgraceful', 'blasts', 'campsie', 'consultations', 'globalists', 'hence', 'prioritized', 'domingo', 'apply', 'beautiful', 'prime', 'suffers', 'crash', 'expeditious', 'cant', 'establishments', 'reject', 'unique', 'colonisers', 'ashamed', 'oppressive', 'obviously', 'damaged', 'fancy', 'span', 'diminished', 'appliance', 'hoping', 'commitment', 'kenny', 'transactional', 'rewarding', 'management', 'exception', 'disappointing', 'albertans', 'pllc', 'btma', 'incredible', 'beacon', 'miles', 'mixed', 'findings', 'comprehensive', 'symptom', 'halves', 'longcovid', 'consultation', 'lisawilson', 'belle', 'glade', 'wilson', 'insistence', 'conviction', 'navy', 'coercion', 'stayfree', 'voteppc', 'apologizes', 'imminent', 'michigan', 'adamantly', 'applying', 'negotiate', 'arrangements', 'relieved', 'jag', 'plz', 'helpline', 'scheduled', 'chilenos', 'remarkable', 'positivity', 'bcpoli', 'singer', 'rapper', 'loves', 'caskets', 'senses', 'maskholes', 'eli', 'schwartz', 'hail', 'ricardo', 'sceptics', 'crusade', 'persuading', 'vaccinates', 'lady', 'minutes', 'keralamodel', 'opposition', 'deleted', 'youtube', 'square', 'condemn', 'likening', 'persecution', 'jews', 'liars', 'vaccinne', 'contravenes', 'nuremberg', 'oops', 'mocking', 'hate', 'merchant', 'causally', 'mate', 'stealing', 'destined', 'fu', 'beach', 'exhaust', 'soldiers', 'domestic', 'xi', 'jinping', 'socialist', 'internationalism', 'gaps', 'knowledge', 'inform', 'postpartum', 'advisories', 'deceptive', 'violated', 'sputnik', 'dcgi', 'redcross', 'slowed', 'overtaken', 'carers', 'suspension', 'gained', 'stands', 'bigpharma', 'osha', 'gaol', 'warm', 'comfort', 'solace', 'hears', 'craig', 'kelly', 'ignorant', 'tga', 'threatens', 'misleading', 'texts', 'pledged', 'send', 'mocked', 'stephen', 'harmon', 'hillsong', 'megachurch', 'vocal', 'yoshihide', 'suga', 'scandal', 'shinzo', 'abe', 'depends', 'firstly', 'feared', 'swamped', 'overrunning', 'govts', 'vaxxes', 'overrun', 'insanity', 'bugger', 'totalitarianism', 'eighty', 'islanders', 'wet', 'pussy', 'witty', 'rogue', 'rape', 'siguemeytesigo', 'followback', 'sdv', 'wrongly', 'described', 'translation', 'autopsies', 'schirmacher', 'heidelberg', 'pathology', 'meds', 'greed', 'dirty', 'deals', 'civillaws', 'masschildabuse', 'universities', 'concentrated', 'northeast', 'ability', 'advisers', 'resigning', 'veronica', 'wolski', 'vain', 'improving', 'bound', 'graham', 'carlos', 'internal', 'eskenazi', 'staggering', 'amplifying', 'argue', 'stat', 'docs', 'enforcing', 'quzt', 'li', 'minorities', 'assurances', 'congressional', 'bovine', 'excrement', 'rs', 'vykbluh', 'firing', 'religions', 'gross', 'losers', 'lick', 'kool', 'gargling', 'iodine', 'commie', 'agencies', 'urgency', 'scott', 'gottlieb', 'halloween', 'horrendous', 'malaysia', 'arrestfauci', 'assertions', 'singing', 'aim', 'badder', 'invalidated', 'uch', 'blackstock', 'dumped', 'founder', 'armenian', 'lebanon', 'immigrant', 'developers', 'turkish', 'immigrants', 'jew', 'interdependent', 'longterm', 'restraining', 'objections', 'permanent', 'personally', 'catastrophe', 'unethical', 'franklinjpug', 'txag', 'nickiminaj', 'certified', 'urologist', 'orchitis', 'tons', 'semen', 'parameters', 'vietnam', 'occasion', 'wang', 'donated', 'vaccineconfidence', 'vaxxing', 'pointless', 'sudan', 'shipment', 'extend', 'citizenship', 'avoiding', 'massively', 'drmadej', 'headteachers', 'letters', 'programmes', 'cdl', 'kasauli', 'communicable', 'implemented', 'jayjaygee', 'presses', 'thread', 'essexpr', 'trialling', 'submits', 'childabusers', 'maintain', 'arseholes', 'shop', 'bothers', 'deworm', 'independent', 'billionaires', 'fail', 'actionaid', 'campaigner', 'goods', 'peoplesvaccine', 'gennova', 'powder', 'ii', 'scots', 'nightclubs', 'modern', 'chorus', 'activists', 'delegates', 'puts', 'committing', 'curb', 'scale', 'westminster', 'alert', 'zimbabwe', 'imposes', 'churchgoers', 'afp', 'censor', 'parties', 'fault', 'contradiction', 'sofiekashmir', 'kupwaradeveloping', 'joshilajahaan', 'possibly', 'discussions', 'elders', 'hypocrites', 'exempt', 'secretly', 'unjabbed', 'fines', 'billy', 'ray', 'stutzmann', 'newsbreaklocal', 'everyday', 'un', 'richest', 'horrible', 'ht', 'campaigners', 'novaccinepassportanywhere', 'nasal', 'friendship', 'serene', 'declines', 'blocks', 'ruled', 'pathogen', 'canceled', 'dismissed', 'adonicab', 'advocacy', 'laws', 'prohibit', 'waiver', 'bombshell', 'contracts', 'scrapped', 'atrupar', 'menstral', 'mail', 'dolly', 'parton', 'laco', 'walt', 'disney', 'columbia', 'sportswear', 'puzzled', 'assembly', 'gutteres', 'welfare', 'affords', 'pitches', 'disgusting', 'promoting', 'pumped', 'patchwork', 'dv', 'poverty', 'racialised', 'restriction', 'wonder', 'disrupted', 'lived', 'mahanthesh', 'invites', 'coping', 'covidiancult', 'vaccinedeaths', 'rte', 'britain', 'irregular', 'cycles', 'mingle', 'smoke', 'margin', 'deeply', 'disturbing', 'mucosal', 'nose', 'barrier', 'referees', 'objection', 'lines', 'goodbye', 'tylenol', 'medicines', 'heynext', 'disproportionately', 'income', 'vish', 'nene', 'ilri', 'performance', 'lawlessly', 'limiting', 'nuts', 'follows', 'sacrifice', 'l', 'patrons', 'wineries', 'sporting', 'eyewitness', 'inexplicably', 'warding', 'exclude', 'segregation', 'apartheid', 'nasty', 'timetogogladys', 'fido', 'ladies', 'telegraph', 'mystery', 'drawn', 'giant', 'vaxxd', 'fixed', 'eager', 'enroll', 'authentication', 'verification', 'fbcnews', 'fijinews', 'fiji', 'fjunited', 'malone', 'inherent', 'carer', 'sought', 'bloomberg', 'topstories', 'berkleybearnews', 'occupied', 'standing', 'overall', 'probability', 'terrorist', 'letting', 'glorify', 'rally', 'mist', 'dumber', 'rocks', 'supremacist', 'insurrection', 'nationwide', 'dashboards', 'neared', 'overrode', 'tailored', 'optimistic', 'looming', 'firefighters', 'queen', 'silent', 'ignorent', 'hollywood', 'faucci', 'cardiologist', 'alinaya', 'cordero', 'specialist', 'broke', 'malaria', 'eye', 'goalkeepers', 'disrupting', 'endmalaria', 'xiomara', 'ambulance', 'emergencies', 'australians', 'prophylaxis', 'nutraceuticals', 'aflds', 'regeneron', 'infusion', 'swift', 'recovering', 'bless', 'manager', 'toll', 'tallied', 'ing', 'ed', 'inevitable', 'dangled', 'supermarkets', 'expose', 'gleefully', 'obituaries', 'sufferers', 'cranking', 'bites', 'dust', 'firebrand', 'rappers', 'cousins', 'dialogue', 'factual', 'stis', 'er', 'serving', 'unv', 'deliberately', 'infecting', 'datascience', 'merck', 'disavows', 'seing', 'chandigarhuniversity', 'soo', 'carrier', 'electrical', 'aerospace', 'engineering', 'sapace', 'imp', 'celebr', 'opencu', 'sufficiently', 'skewed', 'trauma', 'opioid', 'od', 'curtail', 'overdose', 'grounds', 'persistent', 'thrive', 'division', 'fostered', 'elite', 'athletes', 'swimming', 'regain', 'interested', 'catastrophes', 'unexpected', 'mongolia', 'touted', 'jonathan', 'van', 'tam', 'averted', 'teen', 'mins', 'schooling', 'hilary', 'brien', 'respective', 'exaggerated', 'hamilton', 'wearamask', 'summarise', 'stunned', 'conservatives', 'throne', 'challenge', 'criticism', 'liberals', 'stunning', 'ah', 'soles', 'sacs', 'happily', 'floyd', 'shift', 'diem', 'shifts', 'depressing', 'gods', 'typhoid', 'innoculated', 'clue', 'chimara', 'rns', 'thinks', 'employment', 'farm', 'brexitisnotworking', 'brexitchaos', 'toriesout', 'toryincompetence', 'gala', 'vmas', 'calgary', 'stampede', 'pancakes', 'donors', 'begs', 'pancake', 'breakfast', 'crowding', 'lack', 'influx', 'downs', 'rethinking', 'surgeries', 'unit', 'prompting', 'straining', 'father', 'newborn', 'constitutes', 'epic', 'recommending', 'functions', 'punjab', 'cu', 'classify', 'unprecedented', 'breach', 'ethics', 'immunological', 'answered', 'scriptures', 'lord', 'matthew', 'chemistry', 'evade', 'underwriting', 'discusses', 'comedian', 'alum', 'jim', 'breuer', 'performing', 'sahpra', 'celebrities', 'thorough', 'disinfecting', 'sterilizing', 'thick', 'pleads', 'expired', 'pharm', 'crafts', 'bedazzled', 'purse', 'crafting', 'statistic', 'danish', 'societal', 'sample', 'scrap', 'clarified', 'defence', 'cameras', 'theater', 'bitcoin', 'connect', 'currencies', 'cbdc', 'quoting', 'pitch', 'manufactured', 'relatively', 'labs', 'democracies', 'fatally', 'joy', 'uncle', 'tomasina', 'fan', 'rightly', 'finished', 'nights', 'exhausted', 'attended', 'shrugged', 'shoulders', 'cops', 'brutally', 'assaulting', 'idps', 'shan', 'mizzima', 'insight', 'communicate', 'healthcareworkers', 'invite', 'partnerships', 'communityleaders', 'welivehere', 'mode', 'introduced', 'specially', 'majorly', 'reopencu', 'pundit', 'mentioned', 'fastest', 'democracy', 'parliament', 'agreed', 'remove', 'evaluation', 'gmo', 'regulations', 'environment', 'democracyday', 'amidst', 'intensifying', 'values', 'respecting', 'wavering', 'terrible', 'ticket', 'holders', 'convicted', 'row', 'mute', 'risch', 'representing', 'exam', 'tyoharonkerangcabkesang', 'appropriate', 'behaviour', 'cab', 'festive', 'liberty', 'stefano', 'explained', 'keen', 'brag', 'spend', 'payments', 'canberrans', 'hpl', 'melville', 'predated', 'liarsgonnalie', 'covidiots', 'tougher', 'highered', 'ajc', 'kinda', 'convenient', 'random', 'avfc', 'careful', 'accepting', 'dire', 'predictions', 'estimates', 'overestimated', 'visited', 'vaccinnation', 'masjid', 'vinayaka', 'nagar', 'jjr', 'chamarajpete', 'constituency', 'goonellabah', 'cotton', 'clever', 'predict', 'livid', 'legally', 'acceptable', 'knowingly', 'brings', 'noor', 'hisham', 'abdullah', 'tribute', 'posting', 'memories', 'brig', 'nadeem', 'gentleman', 'pakistanarmy', 'adviser', 'hc', 'kampala', 'metropolitan', 'youve', 'complicit', 'immediate', 'bouncing', 'asia', 'alongside', 'bawumia', 'zambia', 'prevalence', 'threshold', 'redlist', 'psa', 'prescriptions', 'dexamethasone', 'azithromycin', 'cough', 'cytokine', 'maternal', 'babyloss', 'practices', 'molds', 'feet', 'deogarh', 'accumulated', 'couldn', 'taemin', 'rotten', 'chaos', 'ableg', 'diagnosing', 'curious', 'retweet', 'twirl', 'birminghampride', 'ripphilisking', 'vp', 'extermination', 'weapon', 'murder', 'buildbackbetter', 'replaces', 'ubiquitous', 'monoculture', 'conformity', 'domination', 'technocracy', 'terrorists', 'waronterror', 'demands', 'newnormal', 'edition', 'revolve', 'unitedkingdom', 'brexit', 'affairs', 'bf', 'minuscule', 'interference', 'hyojin', 'choi', 'mega', 'mission', 'worrying', 'convey', 'dancing', 'happiness', 'indeed', 'perf', 'hub', 'manages', 'distributable', 'latter', 'stranger', 'seung', 'hyub', 'kim', 'jae', 'hyun', 'yoo', 'hwe', 'seo', 'dong', 'sung', 'architect', 'survived', 'grifters', 'flailing', 'realised', 'bowtell', 'resorting', 'con', 'expect', 'lifts', 'hits', 'beliefs', 'interviewed', 'battling', 'benches', 'cabinet', 'tory', 'diplomatic', 'scottydonothing', 'ive', 'waited', 'diagnosis', 'neurologists', 'acquaintance', 'pubs', 'reminders', 'unbelievable', 'criminally', 'phone', 'individually', 'wrapped', 'surgical', 'keys', 'valance', 'reserve', 'trail', 'clearer', 'slowly', 'emerging', 'discredit', 'unwillingness', 'deprived', 'promising', 'plea', 'pattern', 'defunded', 'livestreaming', 'probing', 'fblive', 'internationaldemocradyday', 'steward', 'unapologetic', 'hadn', 'offending', 'copies', 'murdochroyalcommission', 'underscores', 'sos', 'unaffected', 'exceeded', 'kayburley', 'strike', 'huh', 'jrp', 'alumni', 'collaborated', 'multi', 'brief', 'reappraisal', 'interventions', 'emotions', 'outwith', 'repeatedly', 'blamed', 'import', 'committed', 'ver', 'protocol', 'recoveries', 'reclassified', 'ailment', 'existent', 'drowning', 'train', 'wreck', 'federation', 'lite', 'rely', 'activist', 'nighttime', 'peter', 'hotez', 'changeagedcare', 'certify', 'opt', 'medically', 'realise', 'unverified', 'rumors', 'swore', 'bits', 'lists', 'replaced', 'stillbirths', 'clinch', 'nomination', 'authoritarian', 'virpi', 'recording', 'guessing', 'irregularities', 'indulged', 'irregularity', 'transferring', 'refund', 'pic', 'uoiwf', 'y', 'aerosol', 'suggested', 'corsirosenthalbox', 'es', 'boxes', 'diy', 'purifiers', 'fortune', 'blowing', 'melania', 'criticises', 'thenewdaily', 'discourage', 'vaccineinjuries', 'znzsdemsq', 'brunswick', 'antipsychotic', 'psychosis', 'procession', 'charity', 'patronages', 'key', 'champions', 'birthday', 'honours', 'chinadidn', 'crates', 'cqpansorx', 'homeless', 'obeng', 'dankwa', 'spr', 'ly', 'mpvvq', 'neurology', 'declared', 'chicagomag', 'magazi', 'manifestations', 'ovarian', 'sequelae', 'twelve', 'presented', 'mdtcp', 'iron', 'ore', 'stabilized', 'estate', 'woes', 'priced', 'vale', 'luciano', 'siani', 'transformation', 'bbg', 'correlation', 'lasting', 'establishing', 'transparent', 'nytimes', 'opi', 'disables', 'boo', 'higgins', 'patrol', 'denier', 'auschwitz', 'poster', 'whentheytellyouwhotheyarebelievethem', 'splcenter', 'default', 'thestate', 'violates', 'allocated', 'constituting', 'impermissible', 'ofthose', 'pest', 'training', 'ferrier', 'derek', 'mackay', 'texting', 'snp', 'awash', 'measles', 'pox', 'tm', 'babysitting', 'foremost', 'zicam', 'swabs', 'specialize', 'md', 'trolling', 'manny', 'jens', 'spot', 'tampa', 'cups', 'earther', 'skeptic', 'reactionary', 'hilarious', 'float', 'accomplished', 'nature', 'measurable', 'chapple', 'exhaled', 'walz', 'bandwagon', 'leg', 'fuss', 'roadster', 'bankrupt', 'consumer', 'ev', 'models', 'reasonable', 'cybertruck', 'closings', 'drones', 'dreamed', 'filterable', 'borne', 'addressed', 'solved', 'specializing', 'hepa', 'ppe', 'preferable', 'furthermore', 'deleterious', 'gee', 'gotta', 'toaster', 'recipe', 'producing', 'lingering', 'wo', 'rep', 'worldcon', 'pathologist', 'unpleasantness', 'cleaner', 'water', 'surreal', 'economies', 'youtu', 'ryt', 'ucwjs', 'symposium', 'dude', 'spoiler', 'insidious', 'conscious', 'anxiety', 'advocate', 'sampling', 'laughable', 'sap', 'payment', 'het', 'administraion', 'mis', 'happned', 'constant', 'bought', 'gorgeous', 'fell', 'va', 'camp', 'flight', 'idk', 'carries', 'earnest', 'northshore', 'buddy', 'fraudulent', 'xsirkjpsyk', 'funneling', 'audit', 'im', 'sending', 'emails', 'tommy', 'sheppard', 'knuckle', 'risky', 'instacart', 'blaming', 'workforce', 'unprovoked', 'inflation', 'dint', 'toilet', 'wipe', 'gym', 'tanked', 'visits', 'karma', 'doomed', 'covidyour', 'banging', 'skills', 'leftie', 'kiwi', 'diverted', 'stunt', 'bivalent', 'interval', 'recycling', 'millionaires', 'mad', 'corny', 'exiting', 'mentality', 'approaching', 'constructed', 'hopelessly', 'predictive', 'af', 'sucks', 'resting', 'mlg', 'boating', 'adventures', 'stopmlg', 'nm', 'nmpol', 'nmleg', 'grandkids', 'justintrudeau', 'peterborough', 'hall', 'psw', 'drove', 'gg', 'muatxyjc', 'sessions', 'zoomathons', 'ugh', 'allergies', 'tories', 'belated', 'referring', 'behaved', 'changer', 'voice', 'evidenced', 'demeaning', 'speeches', 'chastising', 'mexicans', 'deserve', 'dictating', 'borrowing', 'debt', 'pyramid', 'kpop', 'fandoms', 'bts', 'joke', 'outlets', 'eaters', 'ts', 'tw', 'nks', 'bat', 'ordering', 'shopping', 'habits', 'lbbny', 'granny', 'freeze', 'tony', 'fabulous', 'miracle', 'tastebuds', 'monkey', 'confluence', 'manmade', 'applaud', 'battering', 'requesting', 'preparedness', 'mri', 'wheelchair', 'imprisoned', 'thr', 'mobilised', 'raking', 'forests', 'votebluetosaveamerica', 'yadvncocuz', 'dems', 'persuaded', 'wavers', 'faced', 'lrysn', 'kl', 'laugh', 'benign', 'teachersfirst', 'monarchlead', 'slide', 'sprouting', 'deliberate', 'neglect', 'depraved', 'indifference', 'sums', 'migrants', 'faithfully', 'repeats', 'exponentially', 'withering', 'eyes', 'chair', 'leak', 'infectiousness', 'redacted', 'pages', 'surgisphere', 'theguardian', 'fiction', 'author', 'artist', 'professional', 'fulltime', 'originated', 'proceeds', 'jail', 'attributed', 'depression', 'thankfully', 'anxious', 'clandestinely', 'sanctuary', 'embrace', 'unsecured', 'porous', 'permission', 'bella', 'isolated', 'na', 'ultimate', 'hk', 'exacerbate', 'skyrocket', 'denver', 'restroom', 'smelled', 'tent', 'repulsive', 'smells', 'vascular', 'vessels', 'neurons', 'micro', 'blots', 'ensue', 'invisible', 'reservoirs', 'lurking', 'hound', 'meaning', 'grand', 'outlaw', 'coup', 'bottomless', 'obama', 'dumpster', 'conned', 'brainwashed', 'treasury', 'fsunshine', 'throat', 'proposed', 'omicron', 'wks', 'chest', 'followup', 'wic', 'purchase', 'fruits', 'vegetables', 'nutritionsecurity', 'satisfaction', 'diet', 'mdpi', 'wrhajv', 'bh', 'mcrdetroit', 'pit', 'floor', 'studentloanforgiveness', 'esg', 'shades', 'ponzi', 'ac', 'blogger', 'buzz', 'buff', 'tzy', 'tbb', 'gjrskhsduv', 'sunshine', 'song', 'pml', 'kn', 'sjq', 'snoopdogg', 'rap', 'hiphop', 'nft', 'nftcommunity', 'musica', 'boredapeyc', 'boredapeyachtclub', 'ozciwtri', 'bmj', 'inquiry', 'et', 'alfull', 'references', 'pointsthis', 'favoriteas', 'cited', 'ref', 'kasperkepp', 'sta', 'suicidal', 'ideation', 'weselymd', 'statu', 'besties', 'unmasked', 'sniffling', 'kieran', 'moore', 'boosted', 'bombs', 'kooyong', 'costing', 'monique', 'ostracized', 'heeding', 'unmask', 'surrender', 'programmed', 'abide', 'rejecting', 'systematic', 'inflammatory', 'illicited', 'clip', 'rumble', 'pvr', 'ntljzeno', 'abbot', 'unclejay', 'ball', 'madness', 'generational', 'wealth', 'destruction', 'powell', 'realestate', 'djia', 'spy', 'fdx', 'jsubf', 'boyfriend', 'privilege', 'ofvwhats', 'elephants', 'tonread', 'tealeaves', 'rchlygfwl', 'esp', 'superspreading', 'superficial', 'banter', 'laughs', 'cheerfully', 'killer', 'martha', 'vineyard', 'locals', 'interview', 'focused', 'mastriano', 'strident', 'martin', 'luther', 'congregation', 'courage', 'mbmtgirimx', 'honored', 'breakout', 'sewage', 'ixjtjdqfmk', 'cameron', 'americanahblog', 'danes', 'ijsybcpu', 'examined', 'childrenshealthdefense', 'defender', 'flew', 'boom', 'lengthening', 'entering', 'inches', 'taller', 'gq', 'leng', 'graphite', 'muddy', 'quay', 'helford', 'river', 'throwbackthursday', 'jjihbu', 'performed', 'videocast', 'khglhwdnct', 'exposing', 'enclosed', 'poorly', 'ventilated', 'labelling', 'ran', 'alzheimer', 'wapo', 'duq', 'twilight', 'zone', 'returns', 'coworkers', 'dismisses', 'episode', 'aaaaaahhhhhhnot', 'rateswhy', 'bears', 'capublichealth', 'involvement', 'chartering', 'planes', 'mil', 'transport', 'tampabay', 'extensively', 'trialed', 'tweaks', 'redo', 'bny', 'vr', 'crashes', 'housing', 'dipped', 'sma', 'spx', 'forgottengrievers', 'gm', 'z', 'conversation', 'onted', 'ltc', 'denniskendel', 'brought', 'hea', 'pointed', 'economics', 'positions', 'sunetra', 'gupta', 'emily', 'von', 'opel', 'blogs', 'bedside', 'harmful', 'circle', 'effecting', 'restored', 'vvlmqjk', 'awwwwwwwww', 'mihtgh', 'complain', 'turning', 'feral', 'lockdowners', 'crushed', 'snobby', 'democrats', 'wonders', 'rail', 'refraining', 'washingtonpost', 'uw', 'ttkcm', 'handy', 'charlie', 'davids', 'rehabilitation', 'nevot', 'lro', 'undocumented', 'ice', 'und', 'entertainerkevin', 'sonei', 'charged', 'spreader', 'rsz', 'zyze', 'drops', 'earned', 'cruelty', 'baaned', 'thecountersignal', 'slandered', 'justin', 'trudeau', 'med', 'studyconfirms', 'predicting', 'obw', 'lier', 'twindemic', 'asset', 'cherish', 'lk', 'yv', 'esvk', 'promises', 'subpoenas', 'senate', 'obscuring', 'origins', 'edi', 'bwm', 'msm', 'socialism', 'shrinking', 'linkedin', 'pivoting', 'meantime', 'net', 'programs', 'complaining', 'windows', 'hliu', 'ede', 'tinyurl', 'qmjt', 'zk', 'childrenwe', 'explores', 'fassst', 'dpr', 'ian', 'charlotte', 'alexberenson', 'substack', 'vavehnqft', 'banned', 'collapsing', 'venezuelans', 'approximately', 'venezuelan', 'accessible', 'affordable', 'firms', 'brunt', 'bright', 'py', 'wngyqq', 'harvey', 'emeritus', 'epidemiology', 'onto', 'butts', 'rgreumjwl', 'career', 'pakistani', 'pia', 'unbearable', 'careers', 'pialootingpakstudents', 'corsi', 'rosenthal', 'everytime', 'regard', 'totally', 'bush', 'pvmomup', 'shorts', 'etherum', 'locally', 'pump', 'nuke', 'ethereummerge', 'vkjdyqpfh', 'thesis', 'malebody', 'pubescent', 'androgynous', 'yqbrugh', 'tomoz', 'ruin', 'grind', 'seasonno', 'est', 'gradual', 'plateau', 'fkhuzwuqly', 'stepped', 'kidnap', 'cruelly', 'reaped', 'arp', 'oc', 'occupydemocrats', 'nightmare', 'censorship', 'networks', 'overdrive', 'flood', 'posts', 'yili', 'foreignpolicy', 'featuring', 'chiropractor', 'ruufrkvny', 'fyi', 'privatizing', 'educator', 'lonely', 'talked', 'losertrump', 'vdz', 'iejcib', 'bulk', 'timing', 'freelance', 'writer', 'copy', 'newsletters', 'pls', 'investigations', 'prosecutions', 'rant', 'noting', 'kyrie', 'irving', 'platform', 'height', 'evgg', 'tbkxb', 'queuing', 'stood', 'sardines', 'coffin', 'supermarket', 'abcnews', 'stg', 'proportions', 'travelled', 'sacrificed', 'yrpvvsvvsx', 'belt', 'diplomas', 'bounced', 'cerb', 'cons', 'istandwithtrudeau', 'paramedic', 'decimated', 'extremists', 'trudeaumustgo', 'unouxlbido', 'retired', 'oncology', 'vy', 'pdpfwqj', 'schoolkids', 'dizziness', 'slight', 'diluted', 'daysthen', 'jackasses', 'regulating', 'vagina', 'grass', 'wings', 'taste', 'salty', 'asf', 'buds', 'neurodegeneration', 'void', 'thelancet', 'journals', 'lance', 'deregulate', 'levernews', 'serves', 'wwqpz', 'cuiz', 'brit', 'lovely', 'pup', 'lawyer', 'homeschooled', 'pycmr', 'zoc', 'noticing', 'cognitively', 'physically', 'drained', 'fatigue', 'stuffy', 'diarrhea', 'dizzy', 'foggy', 'cvs', 'terrific', 'hearing', 'nyti', 'qpwwe', 'conversations', 'justice', 'russell', 'books', 'nefarious', 'characters', 'saga', 'propel', 'communist', 'witch', 'drjinrussell', 'ig', 'applicants', 'tune', 'newstrib', 'al', 'qjlz', 'covidian', 'utopia', 'zoom', 'interaction', 'exists', 'micromanaged', 'daycare', 'ker', 'takeaway', 'besides', 'mishandling', 'quote', 'politician', 'ck', 'attribute', 'zeynep', 'tufekci', 'qgw', 'soviet', 'hurting', 'kaggler', 'tricks', 'solutions', 'rsna', 'detection', 'comp', 'jjiqbvms', 'srckwjovo', 'infrequent', 'distracted', 'apartment', 'apple', 'products', 'shocked', 'disrupt', 'irrational', 'brilliant', 'tagged', 'violating', 'tter', 'screenshot', 'nazis', 'plhdighzla', 'apparent', 'deter', 'bully', 'dropping', 'lecce', 'sizes', 'desks', 'dare', 'honouring', 'globalnews', 'joan', 'sears', 'scores', 'sometimes', 'till', 'breaks', 'bitter', 'ashes', 'jojo', 'backpack', 'tells', 'grades', 'absent', 'alarm', 'nlcchicago', 'vhrrf', 'socn', 'straight', 'distract', 'stole', 'documents', 'traffickers', 'prepared', 'launching', 'licensing', 'overhead', 'disinfection', 'entries', 'uga', 'competition', 'disinfects', 'surfaces', 'invention', 'retweeetplease', 'akrwzg', 'fog', 'mood', 'swings', 'damageare', 'lhasa', 'capital', 'tibet', 'autonomous', 'ccp', 'chose', 'evict', 'civilians', 'concentration', 'hiky', 'wxk', 'labor', 'usanalyses', 'estimate', 'shortageanother', 'commentisfree', 'wfh', 'retirement', 'immunosuppressed', 'evusheld', 'rtwt', 'theuk', 'messing', 'ifayv', 'cp', 'guang', 'sichuan', 'earthquake', 'climbed', 'accommodate', 'whopping', 'refugees', 'vacfhchxle', 'slammed', 'lllaqar', 'dku', 'voted', 'lawmakers', 'mfs', 'pedsplntspeppr', 'pacific', 'porn', 'philippinestar', 'lynn', 'gkywko', 'tg', 'hardhatbeast', 'residential', 'outunder', 'counties', 'tra', 'cry', 'fetfld', 'webmd', 'lung', 'kob', 'nmd', 'inched', 'lcsun', 'loc', 'sub', 'odishatv', 'otv', 'organized', 'struggled', 'ableism', 'counterrevolutionary', 'midnightsunmag', 'le', 'immunologists', 'boostered', 'cs', 'qxwylr', 'nikkei', 'visa', 'tourist', 'visafree', 'flights', 'tourists', 'hokkaido', 'sapporo', 'niseko', 'jpy', 'yen', 'weakyen', 'internationaltravelasia', 'spotlight', 'coro', 'theflstandard', 'narrat', 'janehughesmd', 'jqdrcdmccq', 'images', 'powerrangers', 'redesign', 'conceptart', 'artistontwitter', 'gl', 'saltwire', 'halifax', 'ontarians', 'knova', 'ksource', 'ramen', 'dad', 'weed', 'cunylongcovid', 'unicornswe', 'upgraded', 'visible', 'monitors', 'assess', 'riskpeople', 'favours', 'phishing', 'hxxps', 'biz', 'secure', 'kit', 'zip', 'stewart', 'pleased', 'snsd', 'binge', 'solo', 'bbyinnocenz', 'execs', 'statements', 'finest', 'hhj', 'nlfhh', 'tip', 'organizing', 'gd', 'lrde', 'transition', 'xri', 'ph', 'commissions', 'figure', 'pager', 'editorial', 'summarize', 'pvc', 'vgjxtr', 'edyong', 'funky', 'fined', 'prompts', 'anger', 'ame', 'roger', 'federer', 'player', 'earnings', 'meals', 'legendary', 'kfmiqkm', 'amira', 'roess', 'newest', 'ow', 'kkvlh', 'ubm', 'wzj', 'dlvr', 'syppmf', 'ujvxr', 'pe', 'fathers', 'grandfathers', 'murderous', 'calamity', 'cleared', 'ironically', 'declaration', 'blank', 'chores', 'sports', 'wonderful', 'observations', 'doe', 'interrupted', 'moaned', 'assets', 'publishing', 'upl', 'ashland', 'gazette', 'edu', 'layers', 'improve', 'nwi', 'tequitygrant', 'therapeutic', 'tgrants', 'oscu', 'anmf', 'intends', 'bonus', 'politas', 'xvgu', 'wbhvr', 'wellkiwis', 'hutt', 'groupage', 'underreporting', 'range', 'diegans', 'countynewscenter', 'acknowledged', 'relied', 'justify', 'dqqopy', 'commercializes', 'wherein', 'insurers', 'monopolize', 'tragic', 'thenation', 'societ', 'belongs', 'disastrous', 'apsmunro', 'implications', 'suicide', 'grave', 'reut', 'jl', 'vtalpuipoe', 'blasted', 'rauivjhbib', 'backlash', 'leaked', 'laboratory', 'regarded', 'credible', 'estimating', 'iraq', 'invasion', 'estimation', 'lowball', 'whitewash', 'spillover', 'incident', 'midwest', 'partly', 'fueled', 'reliefat', 'detention', 'facilitiesmeanwhile', 'investigate', 'patreon', 'discreetly', 'triumphantly', 'philippine', 'rodrigo', 'duterte', 'statutes', 'hung', 'grandma', 'grandpa', 'gun', 'bureaucrats', 'thefederalist', 'finalthoughts', 'outkick', 'bi', 'oxv', 'wvbx', 'wpo', 'underused', 'dosing', 'colluded', 'manipulate', 'discourse', 'politico', 'explosive', 'revelations', 'expos', 'morrison', 'childrenantivaxxers', 'airpurifier', 'instructions', 'hones', 'responding', 'holocaust', 'theepochtimes', 'holoc', 'yolo', 'woodland', 'baqlf', 'khn', 'guest', 'recap', 'lindseygraham', 'uninsured', 'sins', 'orderseeing', 'onlydenying', 'morbidity', 'upset', 'notebook', 'familiar', 'volunteered', 'maskup', 'hanks', 'taylor', 'folklore', 'karinasophia', 'stir', 'ivm', 'scabies', 'adobiq', 'yrd', 'infects', 'strokes', 'imagining', 'theconversation', 'covi', 'unsure', 'ufglmh', 'virulent', 'coronoavruses', 'disputed', 'uyghurs', 'xinjiang', 'separations', 'collapses', 'alike', 'blooded', 'arrogant', 'footage', 'mv', 'fl', 'topped', 'attacks', 'hint', 'oyn', 'ubcbxj', 'protections', 'sdzclnvfcu', 'feeding', 'daycares', 'veterans', 'tricking', 'votehimout', 'fr', 'victim', 'cudv', 'gabfest', 'summits', 'teal', 'summit', 'pillow', 'jared', 'hijacked', 'deny', 'warming', 'switch', 'profpcdoherty', 'epi', 'helpful', 'sorted', 'learnt', 'function', 'irritating', 'remembers', 'cleanest', 'staying', 'dw', 'mill', 'monkeypox', 'eig', 'rqnaha', 'polarize', 'ctvnews', 'fortunealong', 'kathy', 'hochul', 'nypost', 'hoc', 'packing', 'ers', 'hcw', 'stroke', 'pulmonary', 'emboli', 'colds', 'thx', 'chronicallybee', 'ruined', 'maksiat', 'dalam', 'keadaan', 'pelajar', 'tgh', 'tak', 'minat', 'dgn', 'pendidikan', 'sebab', 'ni', 'kau', 'kata', 'macam', 'tu', 'bcs', 'mcm', 'mana', 'tah', 'rulestheepochtimes', 'blurb', 'speculation', 'psychosomaticthe', 'therapist', 'afaik', 'lc', 'skditta', 'shedding', 'worthiness', 'assistantprofessorandlibrarians', 'teacherstudent', 'teachersday', 'mere', 'utmost', 'legit', 'laboratories', 'bb', 'covidhoax', 'postage', 'vile', 'elaborate', 'showered', 'bedding', 'oral', 'cbd', 'prevented', 'cbg', 'cbdproducts', 'cbdedibles', 'cbdoil', 'cbdmoms', 'shadesofgreen', 'seconds', 'praying', 'passover', 'covidisntover', 'thereby', 'wildly', 'exaggerating', 'hysteria', 'laissez', 'faire', 'slap', 'survivors', 'uniform', 'unfettered', 'betting', 'proud', 'subways', 'buses', 'maskon', 'agedcare', 'leronlimab', 'cydy', 'swing', 'annual', 'mini', 'confinement', 'nobel', 'hubby', 'fits', 'selfless', 'marriage', 'tay', 'stayhome', 'stayathome', 'coronavirusoutbreak', 'covidisairborne', 'fires', 'burning', 'breathe', 'bcstorm', 'bcwildfire', 'stocking', 'outgrowing', 'item', 'budget', 'backtoschool', 'cherry', 'picking', 'spinning', 'inconvenience', 'performative', 'reverence', 'objects', 'xxxxxx', 'climatechange', 'globalwarming', 'epidemics', 'leftandright', 'newsnight', 'remembrance', 'airbrushes', 'betrayal', 'landscape', 'comment', 'corrupted', 'arn', 'exept', 'disabilities', 'deathsantis', 'cackled', 'beaches', 'nicer', 'lauding', 'benefitted', 'neverforget', 'vehicle', 'deliver', 'italiangp', 'grandparentsday', 'trudeaufortreason', 'rains', 'rain', 'bengalurufloods', 'odishafloods', 'humidityendscorona', 'inaccurate', 'catastrophic', 'climateemergency', 'reductions', 'shortness', 'odisha', 'odishanews', 'azadikaamritmahotsav', 'meta', 'mtimeslive', 'tel', 'aviv', 'advance', 'healthforall', 'rc', 'tlv', 'hideous', 'pretext', 'baseless', 'berenson', 'marxists', 'memorials', 'collective', 'mourning', 'behavior', 'tx', 'il', 'ga', 'asinine', 'mypov', 'cruises', 'sea', 'export', 'imports', 'stagnated', 'darkening', 'property', 'slump', 'detoxify', 'matched', 'heavymetal', 'toxicity', 'german', 'remedy', 'wearthedamnmask', 'complacent', 'satire', 'sf', 'nationally', 'winteriscoming', 'lil', 'telangana', 'hyd', 'rr', 'detox', 'bus', 'shanghai', 'resort', 'abruptly', 'saddens', 'monarch', 'subjects', 'grandmothers', 'rinse', 'fast', 'anniversary', 'patriotday', 'devastated', 'species', 'perspective', 'afflicted', 'handwringing', 'tripe', 'humor', 'midst', 'swab', 'recurrent', 'sundayvibes', 'flare', 'untreated', 'hbv', 'antivirals', 'presidentbiden', 'theamericanrescueplan', 'infrastructure', 'climateremediation', 'chips', 'pact', 'amazingly', 'spectacular', 'expectations', 'excluding', 'tally', 'newsphilippines', 'novelcoronavirus', 'motrin', 'traditional', 'smartest', 'vaxine', 'uncensored', 'primetime', 'burrowed', 'explored', 'tweaked', 'nanoparticle', 'nepal', 'covidnepal', 'coronavirusupdate', 'coronaviruspandemic', 'nepalreports', 'mixing', 'defences', 'awol', 'connection', 'sicker', 'disability', 'representative', 'healthpublicy', 'vaxinated', 'monstruous', 'thrombosis', 'distopic', 'nwo', 'greatreset', 'caregiver', 'orphaned', 'ego', 'blissfully', 'schwab', 'ukraine', 'hiv', 'bronchitis', 'staffed', 'easyjet', 'reinstate', 'surges', 'boards', 'interrupting', 'molecule', 'inconsistent', 'hamsters', 'coz', 'bout', 'wishing', 'knocked', 'shooting', 'pains', 'endmandates', 'holdthemaccountable', 'donoharm', 'loveallthyneighbors', 'inhumane', 'amyloid', 'fibrin', 'inflamed', 'chains', 'interacts', 'chemicals', 'corrupt', 'profited', 'orchestrated', 'bangladesh', 'sees', 'hongkong', 'outbound', 'transit', 'macao', 'temperature', 'aviation', 'vitamind', 'millennials', 'investing', 'genz', 'bear', 'stockmarket', 'mentalhealth', 'patriotic', 'gonebutnotforgotten', 'towers', 'puppetmasters', 'psy', 'prevail', 'stoptrollingus', 'autism', 'degrees', 'teaching', 'autistic', 'sideeffect', 'democratsaredestroyingamerica', 'votethemallout', 'impeachbiden', 'stoptheshots', 'fjb', 'mccullough', 'tesla', 'battery', 'supplier', 'operating', 'globalist', 'freaks', 'silence', 'queenelizabeth', 'pfizerdocuments', 'bulgaria', 'stopcovid', 'energy', 'hunterbiden', 'laptop', 'bread', 'noodles', 'distress', 'activecaseload', 'covidtests', 'newcovidcases', 'vaccinationrate', 'directive', 'inoperative', 'lea', 'michele', 'covidnewstoday', 'clinician', 'stomach', 'ruptured', 'ribs', 'cracked', 'intense', 'nowadays', 'cardiacarrest', 'arrests', 'fe', 'undermining', 'asian', 'clouds', 'selling', 'employed', 'declining', 'liabilities', 'globally', 'registers', 'premiership', 'adopted', 'seriousness', 'obfuscated', 'dithered', 'moments', 'apologists', 'commending', 'conveniently', 'partied', 'grieved', 'husbands', 'stopthewho', 'queenelizabethii', 'functional', 'synthetic', 'sequence', 'added', 'acts', 'immunologic', 'activity', 'igg', 'modification', 'diplomats', 'reviewers', 'ai', 'legacy', 'drfauci', 'worthlessness', 'rona', 'covidsucks', 'welsh', 'cardiff', 'scrapthesensdd', 'explanation', 'avinash', 'bareilly', 'zaporizhzhia', 'nuclear', 'plant', 'energoatom', 'doyouknow', 'internationalnews', 'newsfeed', 'viralnews', 'contrasts', 'ordinary', 'luxury', 'torycoviddisaster', 'partygate', 'tends', 'postcovid', 'fiber', 'corpses', 'embalmers', 'deceased', 'woke', 'alot', 'sore', 'mln', 'demonstration', 'spirit', 'zheng', 'zhihong', 'counselor', 'embassy', 'openaccess', 'vestibular', 'syndromes', 'pts', 'presenting', 'diagnoses', 'pppd', 'vm', 'combination', 'grows', 'wildfires', 'blm', 'finale', 'gritting', 'teeth', 'sanfrancisco', 'skilled', 'floors', 'novakdjokovic', 'australianopen', 'novak', 'slams', 'usopen', 'ausopen', 'earmarked', 'seized', 'aggressive', 'closing', 'royalfever', 'stations', 'keepschoolsopen', 'coronaviruslockdown', 'coronavirusindia', 'anmnews', 'concerning', 'signing', 'drugregulator', 'intranasal', 'comforting', 'lubricating', 'slippery', 'slope', 'saidi', 'healthministry', 'nat', 'sciver', 'lydia', 'greenway', 'healthyeating', 'fresh', 'seller', 'offload', 'ageing', 'cev', 'appointing', 'liz', 'truss', 'vasculitis', 'hastened', 'cognitive', 'overlooked', 'uncounted', 'ecb', 'boe', 'banks', 'printing', 'enoughisenough', 'costoflivingcrisis', 'interpretation', 'intubation', 'prepping', 'alright', 'weaponization', 'cont', 'despicable', 'kremlin', 'unforgivable', 'extremepoverty', 'aide', 'covidactivecaseload', 'covidcases', 'covidcountinindia', 'coviddeaths', 'indiacovid', 'cannabis', 'cbda', 'cbga', 'minions', 'distain', 'injustice', 'mouths', 'representation', 'morality', 'nuns', 'walled', 'gutting', 'fab', 'goodluck', 'fat', 'hug', 'netzero', 'climatecrisis', 'impoverishing', 'enrich', 'feudal', 'superrich', 'obey', 'climatescam', 'boston', 'deciphered', 'neutralized', 'armamentarium', 'tea', 'paxlovid', 'chemists', 'songs', 'callously', 'vaccinesplus', 'remembering', 'spangled', 'buckingham', 'palace', 'diabetic', 'otherworldly', 'circles', 'kitchen', 'wrist', 'handholding', 'nonsense', 'nostril', 'redfield', 'administrator', 'substances', 'registry', 'soberaf', 'recoveryposse', 'odaat', 'thane', 'newcovid', 'threads', 'eh', 'magazine', 'advertising', 'revenue', 'austria', 'oesterreich', 'unneeded', 'crises', 'sanctions', 'austrians', 'vienna', 'alexander', 'schallenberg', 'prices', 'activecovidcases', 'unionhealthministry', 'coviddeathtoll', 'nationalnews', 'wished', 'hadnt', 'flash', 'iffy', 'thequeen', 'whatdidthequeendieof', 'slip', 'index', 'hdi', 'classed', 'pseudoscience', 'minded', 'steered', 'greedy', 'krishnam', 'raju', 'marginal', 'odishabytes', 'odishabytesnews', 'maharashtra', 'ist', 'disclaimer', 'generated', 'tonnes', 'greenhouse', 'gases', 'sebastian', 'rushworth', 'examines', 'flies', 'transmissable', 'generally', 'diversity', 'bacteria', 'gut', 'sundayreadingseries', 'guthealth', 'nutrition', 'lifestyle', 'changingseasons', 'wellbeing', 'logs', 'indiacoviddailycases', 'indiacovidpositivityrate', 'myocardial', 'infarction', 'embolism', 'dysfunction', 'sclerosis', 'collector', 'tiruvallur', 'alby', 'varghese', 'organised', 'albyjohnvarghese', 'vaccinecamps', 'vaccineshots', 'ludhiana', 'vet', 'covidtest', 'overhearing', 'pem', 'antinflam', 'isreal', 'kingdom', 'quietly', 'removes', 'imposed', 'quad', 'irreplaceable', 'aefi', 'redressal', 'vacccines', 'compensatory', 'mechanisms', 'ordeal', 'rithaika', 'prong', 'indiacovidupdate', 'capitalist', 'disruptive', 'pestilences', 'destructive', 'wars', 'pad', 'peeing', 'twicein', 'mo', 'imvaxd', 'kms', 'albomp', 'coverup', 'livingwithcovid', 'latestnews', 'carelessness', 'generations', 'nifty', 'heaven', 'vaccinedeath', 'fauciliedmillionsdied', 'alien', 'youdecide', 'ufos', 'acknowledgement', 'ufo', 'debilitating', 'migraine', 'willingly', 'boardconnecting', 'dubai', 'controlled', 'bp', 'borders', 'crimes', 'cuz', 'identification', 'lethality', 'bibleprophecy', 'antigenic', 'sin', 'corner', 'split', 'covidboosters', 'technically', 'slept', 'defiance', 'tiricos', 'tonights', 'cris', 'collinsworth', 'nfl', 'snf', 'mutates', 'evolves', 'subvariants', 'reactive', 'decreases', 'awesome', 'chi', 'vitali', 'sintchenko', 'genomic', 'surveillance', 'chriscollinsworth', 'quiet', 'revolution', 'americasucks', 'wearethe', 'longcovidisreal', 'youarehurtingchildren', 'administrations', 'soft', 'landing', 'underinsured', 'criscollinsworth', 'trashed', 'heath', 'gold', 'tracers', 'woolworths', 'incompetent', 'hq', 'sackdanandrews', 'cookversescrook', 'commentating', 'sundaynighyltfootball', 'hack', 'legislate', 'decouple', 'demise', 'puzzling', 'rampantly', 'classrooms', 'unmitigated', 'politely', 'trico', 'sickday', 'thugs', 'burn', 'governement', 'footballnightinamerica', 'hoarsevoice', 'tampavsdallas', 'collingsworth', 'sundaynightfootball', 'topics', 'covers', 'haul', 'auto', 'whitehouse', 'couldnt', 'stores', 'tire', 'walmart', 'costco', 'bribery', 'didnt', 'risked', 'responders', 'firstresponders', 'tome', 'medtech', 'medreport', 'measlesoutbreak', 'zeke', 'hasnt', 'dallascowboys', 'dalvstb', 'narratives', 'subcontract', 'elites', 'ism', 'undiagnosed', 'neuroses', 'ibd', 'lets', 'gitwitter', 'pbbm', 'meets', 'dilg', 'tackled', 'proposal', 'aitf', 'optional', 'cximpact', 'trivia', 'thoughout', 'messiah', 'libs', 'obligation', 'exclusive', 'analyses', 'progression', 'tmr', 'peds', 'heal', 'impetigo', 'finger', 'chinas', 'centric', 'ba', 'getboosted', 'reposting', 'mishap', 'commemorate', 'memorialize', 'resolve', 'shouldnt', 'familys', 'dig', 'scientificresearch', 'modifier', 'judicial', 'michellewu', 'amp', 'unconstitutional', 'medicaltyranny', 'vaccinemandates', 'damned', 'workin', 'studio', 'pradapocalypse', 'imjustsayin', 'yourwoman', 'hustlehard', 'hustle', 'raplife', 'lockport', 'forest', 'sarcasm', 'endorse', 'circumvent', 'accidents', 'tas', 'anybody', 'pcrtest', 'monkeyboy', 'tuned', 'bookings', 'departure', 'yday', 'deseased', 'oldman', 'inturned', 'yrs', 'penalised', 'bitterly', 'bohica', 'lbs', 'wtfffff', 'abdominal', 'biopsy', 'endoscopy', 'colonoscopy', 'mucosa', 'broadway', 'legislature', 'hochuls', 'dollar', 'terrifying', 'speaks', 'develops', 'southdakota', 'mourn', 'tragedies', 'noem', 'expendable', 'traveller', 'appalled', 'chemo', 'trudeaus', 'faked', 'flags', 'phenomenal', 'assessing', 'debunking', 'supplements', 'controller', 'rockstar', 'mismanagement', 'tramp', 'cultists', 'losses', 'admin', 'weakness', 'apathy', 'incompetence', 'acqsc', 'substandard', 'royalcommission', 'kings', 'queens', 'coffee', 'markets', 'hurricane', 'spotted', 'floods', 'subsided', 'poc', 'ethniccleansing', 'score', 'banking', 'gatherings', 'redkahina', 'siege', 'sketches', 'witness', 'repressive', 'classwar', 'detaching', 'podcasts', 'podcasting', 'sniffles', 'reset', 'greensboronc', 'exodus', 'charlottenc', 'realestateinvestor', 'postpone', 'tightening', 'chinesecommunistparty', 'cashiers', 'bagging', 'reserving', 'procurement', 'boeing', 'crashing', 'guiding', 'milesguo', 'destroyed', 'humble', 'collaboration', 'barriermeasures', 'societalwellbeing', 'societalimpact', 'humanityfirst', 'humanitarian', 'macdonaldcovidround', 'thissucks', 'albanese', 'primierxi', 'presidentputin', 'lettuce', 'redbubble', 'stickers', 'tshirts', 'mugs', 'diligently', 'yay', 'optimimum', 'septemberisthenewjuly', 'oly', 'indie', 'inspiring', 'whomp', 'fomococo', 'thrust', 'det', 'cheerily', 'reminds', 'asks', 'chin', 'borrelia', 'babesia', 'bartonella', 'rats', 'ebv', 'lyme', 'dame', 'janegoodall', 'ape', 'zoonotic', 'outcome', 'underfunded', 'privatized', 'expectancy', 'advertisement', 'mainly', 'machines', 'dream', 'davos', 'davosagenda', 'traveler', 'hiring', 'micu', 'jobseekers', 'jobsearch', 'welbehealth', 'pasadena', 'humanresources', 'ali', 'muhamad', 'coaches', 'rahway', 'disbelief', 'herr', 'rock', 'ernst', 'kuipers', 'mocks', 'youdoyou', 'twisting', 'tainted', 'wind', 'normalization', 'publichealthisdead', 'justly', 'tastes', 'cardboard', 'blech', 'weather', 'theres', 'newyorktimes', 'humbled', 'venting', 'harassed', 'ridiculed', 'zerocovid', 'zealot', 'acknowledgements', 'endure', 'kick', 'psychiatric', 'respects', 'longhaul', 'indigenouspeople', 'alaskanatives', 'systemicracism', 'native', 'alaska', 'natives', 'exacerbated', 'inequities', 'existed', 'creepy', 'custom', 'shaking', 'houston', 'donotcomply', 'masksdontwork', 'curated', 'collection', 'entitlement', 'reigns', 'fuelled', 'letitrip', 'mentalillness', 'notley', 'fabric', 'waterparks', 'globehead', 'abpoli', 'childrensbook', 'childrensbooks', 'games', 'project', 'arts', 'artshare', 'quarentena', 'nftdrop', 'godsavethequeen', 'tips', 'space', 'disbanded', 'rallies', 'dunno', 'temporal', 'booktour', 'diminishing', 'limp', 'faucis', 'underlines', 'hidden', 'heights', 'wendy', 'rent', 'generosity', 'adulthood', 'prescribe', 'hyperbaric', 'chamber', 'blinken', 'shore', 'bailout', 'stimulus', 'package', 'heathrow', 'recruit', 'brexitbenefits', 'terrorism', 'embraces', 'murderers', 'concentrate', 'answering', 'massachusetts', 'mobiletesting', 'covidtesting', 'kira', 'oversaw', 'testandtrace', 'burgers', 'burger', 'appreciate', 'mcdonalds', 'declaring', 'managers', 'owners', 'refill', 'trails', 'jfkmurder', 'hawaii', 'rhino', 'entero', 'hmpv', 'obv', 'throw', 'bcktoschool', 'particulate', 'theperfectstorm', 'breathing', 'sucking', 'checking', 'groomers', 'hunt', 'minimizers', 'jays', 'spikes', 'deficits', 'sri', 'lankans', 'recharge', 'procedure', 'rechargeyourimmunity', 'sourced', 'annarbor', 'remote', 'mstep', 'neap', 'python', 'ripqueenelizabeth', 'collectivist', 'marxism', 'punishment', 'negligence', 'extended', 'countermeasure', 'cicp', 'bidensamerica', 'terminating', 'leaba', 'aches', 'exhaustion', 'appetite', 'importantly', 'persist', 'observation', 'dsma', 'notfun', 'goals', 'cfs', 'envelope', 'mecfs', 'spoonie', 'enduring', 'tesco', 'asthma', 'dis', 'orgs', 'assert', 'injured', 'flue', 'sc', 'trifecta', 'bereaved', 'uncommon', 'discomfort', 'mankind', 'dumbest', 'burnings', 'novax', 'lacking', 'judgement', 'burry', 'sand', 'distinguishing', 'timetobewise', 'reconciliation', 'buy', 'ynwa', 'thomas', 'lfc', 'jft', 'readmitted', 'havent', 'reflections', 'sayings', 'kate', 'antoniades', 'vent', 'wth', 'provinces', 'nb', 'covidinhanced', 'chinavirus', 'boostershot', 'newsday', 'hemisphere', 'cook', 'treats', 'whine', 'contradict', 'nkm', 'prov', 'wtaf', 'cannon', 'fodder', 'rituals', 'hurts', 'whats', 'combat', 'gaza', 'gazas', 'namor', 'membership', 'aquaman', 'fish', 'divorced', 'spikeprotein', 'lethargy', 'mitochondria', 'mono', 'suppressor', 'ta', 'psych', 'scrutiny', 'ri', 'downgrade', 'slt', 'ranking', 'ehcp', 'crib', 'provision', 'incarceration', 'violent', 'offenders', 'dupont', 'reinstatemaskmandates', 'airfiltration', 'preventative', 'returned', 'kovid', 'tribune', 'attribune', 'swogas', 'promotebusiness', 'buildbusiness', 'dailyupdates', 'pr', 'prevailing', 'horowitz', 'neutralizing', 'eliminate', 'visors', 'wont', 'quarantinings', 'besafeoutthere', 'generate', 'immunizeyourkids', 'nfid', 'prediction', 'gaslight', 'guilty', 'pursuing', 'pol', 'childrens', 'convinced', 'traveling', 'chldren', 'tow', 'goingcrazy', 'sendhelp', 'lesions', 'scratching', 'rubbing', 'administrativecontrol', 'monkeypoxvirus', 'orthopox', 'ergo', 'sverige', 'repost', 'premiums', 'surplus', 'jump', 'riskmanagement', 'surpluslines', 'emergingrisks', 'murdering', 'sdgs', 'ito', 'gender', 'peace', 'phasa', 'gray', 'respone', 'niagara', 'switched', 'ffp', 'prominent', 'advocating', 'comorbidities', 'inflict', 'incalculable', 'unions', 'upsets', 'smooth', 'operations', 'exert', 'cos', 'unionfinanceministry', 'gdp', 'shures', 'shure', 'shuremicrophones', 'wireless', 'wirelessmicrophone', 'disposable', 'consecutive', 'boz', 'fools', 'grandfather', 'fukin', 'vitemadosedevaccin', 'messi', 'peoples', 'rdv', 'aspects', 'correction', 'inclusion', 'criteria', 'ughhhhhhh', 'sickest', 'legs', 'bathroom', 'swallow', 'youre', 'drunk', 'js', 'filtered', 'brunch', 'spouse', 'elizabeth', 'lays', 'prince', 'vision', 'safeguard', 'hepafilters', 'equivalent', 'bather', 'belatedly', 'designated', 'tat', 'runner', 'dwelling', 'dementia', 'perspectives', 'geriatrics', 'encountering', 'prophylactics', 'saves', 'trains', 'daft', 'idiotic', 'grieving', 'traumatized', 'javiermarias', 'cleanup', 'abandoned', 'patriot', 'judy', 'mikovits', 'theorist', 'blod', 'cloths', 'sads', 'plain', 'realized', 'groceries', 'mayoclinic', 'backyard', 'bonfire', 'lake', 'nomorefires', 'marginalized', 'insofar', 'capability', 'disappeared', 'poof', 'drilling', 'solar', 'throwing', 'rat', 'hole', 'wordswordswordswordswordswordswordswwordswordswordswordswordswordswordswordswordswordswordswordswordswordswordswordswordswordswordswordswordswordswordswordswordswordswordswordswordswordswordswordswords', 'reflect', 'devastation', 'palliative', 'foreseeable', 'disabling', 'cram', 'comfor', 'weaponized', 'neoliberal', 'undermine', 'practicing', 'doubts', 'spare', 'journalists', 'crowing', 'shifting', 'commercial', 'relation', 'ageism', 'cling', 'zerohedge', 'recession', 'battled', 'yryou', 'ranting', 'whining', 'waving', 'flag', 'deathmy', 'sightedness', 'fundraiser', 'census', 'educated', 'dislike', 'fwc', 'ucsf', 'cooks', 'latino', 'covidless', 'crops', 'covidwar', 'ukrainesanctions', 'harming', 'bumping', 'bastard', 'strengthening', 'supporters', 'enables', 'bird', 'ofchina', 'locates', 'imprison', 'inmates', 'geez', 'mateeeee', 'loan', 'handouts', 'misstatements', 'ineligible', 'busier', 'teetering', 'notification', 'guangzhou', 'chongqing', 'citywith', 'flip', 'sar', 'alleviate', 'hardships', 'huang', 'reacting', 'hair', 'lorna', 'cheap', 'activewear', 'rubbish', 'contributor', 'unconscionable', 'reinstaterwmalonemd', 'wearenotchildren', 'nima', 'wangdi', 'inbound', 'unicorn', 'crimps', 'pound', 'flesh', 'rebekah', 'imprisonment', 'rebekahjones', 'defeat', 'abbey', 'downing', 'istcases', 'temp', 'underwater', 'puerto', 'rico', 'armenia', 'tajikistan', 'invaded', 'youtubers', 'vtubers', 'lane', 'unsurprisingly', 'fomite', 'likeminded', 'formal', 'investments', 'dharmic', 'revive', 'jimmy', 'fallon', 'hylt', 'teleprompter', 'painful', 'raccoon', 'ids', 'booklist', 'vessel', 'unchecked', 'conflicts', 'enthusiastically', 'fifth', 'groundhog', 'respectfully', 'adoring', 'inclined', 'rodrigopulle', 'reginaheart', 'confidential', 'guild', 'longest', 'goth', 'streaming', 'internet', 'continuously', 'camera', 'slot', 'howard', 'bauchner', 'jihyo', 'comeback', 'nervous', 'exemplary', 'malefertility', 'spermparameters', 'nikhil', 'aggarwal', 'iit', 'kanpur', 'briefed', 'techniques', 'modelizing', 'equipment', 'swachhatastartupconclave', 'swachhamritmahotsav', 'monologue', 'welt', 'trillions', 'contribute', 'todays', 'scams', 'hhs', 'backed', 'gaffe', 'sanatise', 'bith', 'solely', 'blew', 'weighed', 'soccer', 'tix', 'hitc', 'jkt', 'minimizer', 'libertarianism', 'heather', 'elkins', 'urban', 'responsive', 'bridges', 'ceased', 'dinners', 'alito', 'thanksalito', 'deaththis', 'neurovascular', 'examples', 'bond', 'denounce', 'presi', 'dots', 'quotes', 'wef', 'helen', 'petousis', 'rory', 'nairn', 'disgust', 'disrespect', 'lessons', 'session', 'venue', 'tbaprice', 'dm', 'refreshments', 'condoms', 'lubricant', 'anal', 'fraudstop', 'singh', 'idol', 'donations', 'hoshi', 'disinfectant', 'goodo', 'derided', 'wachter', 'fixates', 'patachanjotuwechonjo', 'egjbzjj', 'limbs', 'amputated', 'saliva', 'polish', 'prohibition', 'cricket', 'newly', 'salaries', 'hindi', 'audio', 'multicultural', 'plandemic', 'votered', 'saveamerica', 'uninterrupted', 'aneurysms', 'implicated', 'degenerative', 'predispose', 'cerebral', 'aneurysm', 'formation', 'morphology', 'resultant', 'rupture', 'guarantee', 'sharpest', 'ensured', 'druwc', 'snap', 'nicely', 'nets', 'dries', 'halloweens', 'bidenthe', 'unintended', 'susan', 'michie', 'retweeting', 'utter', 'competence', 'organisation', 'ups', 'detects', 'mccone', 'barrel', 'futility', 'futile', 'blindsided', 'reply', 'neuropsychological', 'difficulties', 'enthusiast', 'sickly', 'tolerated', 'hazard', 'draws', 'detrick', 'amplify', 'truthful', 'origination', 'wall', 'contemplating', 'lest', 'impairment', 'profound', 'frustration', 'aiding', 'abetting', 'evident', 'aid', 'organisations', 'ties', 'hindu', 'marjorie', 'greene', 'whines', 'salary', 'brendon', 'urie', 'haahahha', 'backflipped', 'culpable', 'adjusting', 'macau', 'liuquan', 'beijing', 'leaks', 'inhaler', 'nil', 'onev', 'referenced', 'denominator', 'deadlier', 'potus', 'comprehend', 'jfc', 'cruz', 'impressing', 'emphasized', 'initiatives', 'himachal', 'uplift', 'assumed', 'completing', 'disingenuously', 'talismanic', 'magically', 'slay', 'exhausting', 'atleast', 'counted', 'peaks', 'geographical', 'continents', 'wrecking', 'havoc', 'unstable', 'consensus', 'domain', 'deadliest', 'koch', 'hallway', 'exaggeration', 'confusion', 'undermined', 'communication', 'clicks', 'platforming', 'engaged', 'male', 'sleepwalking', 'financing', 'caise', 'aura', 'influenzas', 'someon', 'bodily', 'integrity', 'spew', 'compilation', 'beating', 'narrate', 'mr', 'prema', 'frank', 'mawer', 'oldest', 'guizhou', 'galvanized', 'cmp', 'translated', 'outrage', 'addicts', 'angrily', 'recognised', 'myalgicencephalomyelitis', 'millionsmissing', 'yeup', 'sailing', 'tend', 'preparing', 'incoming', 'trumper', 'nicknamed', 'touchdown', 'lightening', 'marched', 'endocrinology', 'ballots', 'vasculature', 'alzheimers', 'gw', 'affiliations', 'thin', 'nourished', 'amusing', 'lounge', 'blackface', 'maintaining', 'arbitrary', 'arrivecan', 'exercising', 'unacceptable', 'muhyiddin', 'tapi', 'langkah', 'sheraton', 'instilled', 'darurat', 'pmship', 'dia', 'buat', 'tutup', 'differs', 'compassionate', 'balances', 'collateral', 'startling', 'adenovirus', 'rhinovirus', 'metapneumovirus', 'parainfluenza', 'specialists', 'unusual', 'reader', 'lover', 'hockey', 'autonomy', 'intolererable', 'jennifer', 'reimbursement', 'routinely', 'category', 'doubling', 'decreased', 'misled', 'notify', 'hancock', 'fenced', 'worthless', 'onedollarlawyer', 'namgoongmin', 'miq', 'button', 'dominic', 'perrottet', 'represented', 'airports', 'cc', 'undertakers', 'showers', 'sorely', 'ignor', 'pandemicisover', 'mongers', 'tf', 'chromatica', 'authenticity', 'friendliness', 'interestingness', 'corrected', 'wearers', 'sensor', 'detect', 'notifications', 'falls', 'fortunate', 'facilitate', 'uplifted', 'hamaraappnamoapp', 'happybdaymodiji', 'cyprus', 'gamble', 'wm', 'hhewevt', 'unhinged', 'demagogue', 'lbgtq', 'brainer', 'letsgobrandon', 'bot', 'fortunately', 'accommodations', 'placing', 'guise', 'fare', 'nejm', 'reflected', 'arrivals', 'ailing', 'aftermath', 'thaipbsworld', 'thailandnews', 'sales', 'recruitment', 'recruiting', 'nowhiring', 'jobhunt', 'jobopening', 'jobseeker', 'recruiter', 'implying', 'chynna', 'ortaleza', 'nonprofit', 'tulips', 'haney', 'sussex', 'azure', 'user', 'oshodi', 'ikeja', 'oregun', 'allen', 'windsor', 'castle', 'haunted', 'paranormal', 'farms', 'starts', 'pushers', 'psychopaths', 'memes', 'heading', 'eased', 'tim', 'concert', 'belgica', 'dendermonde', 'toon', 'vlerick', 'guitar', 'bernd', 'coene', 'drums', 'mattias', 'geernaert', 'bass', 'voluntarily', 'bored', 'shits', 'ptsd', 'vibes', 'policing', 'leicester', 'tsg', 'calm', 'majesty', 'vera', 'expectation', 'cyril', 'ramaphosa', 'replying', 'existence', 'nightlife', 'recreate', 'eerie', 'mu', 'dang', 'kitten', 'crashed', 'survives', 'structures', 'prisoners', 'yule', 'unhappy', 'rarse', 'cage', 'eerily', 'strongest', 'pieces', 'inspired', 'sibling', 'magician', 'hat', 'karl', 'paulanergarten', 'trumpian', 'yikes', 'congrats', 'cracking', 'shortfilm', 'goodwill', 'sheer', 'gomake', 'roads', 'meters', 'serf', 'atrocity', 'vertizonenews', 'ummahbersatu', 'saveuyghur', 'stopuyghurgenocide', 'starvationgenocide', 'vodacom', 'scientificresult', 'participative', 'blursday', 'compiles', 'subjective', 'temporalities', 'saturdaythoughts', 'tutoring', 'trudge', 'cobwebs', 'howdy', 'daydrinking', 'sane', 'village', 'capitalism', 'dnb', 'glow', 'album', 'seagrave', 'workflow', 'pmi', 'indicator', 'pointing', 'downward', 'margins', 'sofa', 'chengdu', 'outlook', 'freeschoolmeals', 'afford', 'heating', 'situ', 'marmalade', 'sandwiches', 'cba', 'inhabitants', 'chinesevirus', 'dating', 'freetibet', 'freetaiwan', 'freehk', 'freeet', 'xijinping', 'holdchinaaccountable', 'cta', 'dalailama', 'warfare', 'beaten', 'massacred', 'cowardly', 'evilchina', 'oppressing', 'weapons', 'muslims', 'abuses', 'korea', 'dictators', 'fosters', 'terror', 'insult', 'civilised', 'dictatorship', 'represents', 'lableak', 'wuflu', 'evergrande', 'sch', 'condemning', 'feeds', 'reframes', 'procedural', 'sachs', 'originofcovid', 'cm', 'agricultural', 'paddy', 'crop', 'dwarf', 'sleepyjoe', 'limping', 'ukrainerussiawar', 'winners', 'trumpwon', 'electionfraud', 'chairmanbiden', 'peoplesrepublicofamerica', 'heilcovid', 'welcometo', 'whoisjohngalt', 'resistcommunism', 'vivov', 'boycottchina', 'hectares', 'farmers', 'punjabnews', 'paddycrop', 'yup', 'critics', 'gendered', 'cdr', 'tina', 'vidal', 'duart', 'inefficiencies', 'teams', 'manual', 'automation', 'techology', 'fintech', 'digitaltransformation', 'revoked', 'rob', 'everyones', 'immunofluorescence', 'sock', 'presidents', 'gear', 'executives', 'hague', 'pres', 'heightened', 'crsnews', 'southeast', 'hacking', 'kade', 'miller', 'prabhuwrites', 'prabhu', 'hymprudious', 'prabhudattasahoo', 'nominal', 'readings', 'shutting', 'blink', 'disruptions', 'masters', 'diploma', 'picc', 'master', 'analytics', 'clone', 'spinoff', 'forgiveness', 'inappropriate', 'determining', 'qualities', 'explaining', 'impossibility', 'touring', 'spins', 'concessions', 'bands', 'audiences', 'unmasking', 'institutional', 'drying', 'artists', 'oxymoronic', 'timetoactcancer', 'breadth', 'lyinbiden', 'normalcy', 'dnc', 'bidenmustgo', 'imarussianbot', 'acknowledges', 'fatalist', 'fearless', 'gloss', 'announcements', 'pulled', 'desists', 'citing', 'cowardice', 'intelligent', 'retract', 'retain', 'ounce', 'handlers', 'walkitbackjoe', 'billgates', 'cronies', 'oversight', 'divorce', 'questionable', 'hardest', 'insecurity', 'unga', 'bargaining', 'acceptance', 'satisfy', 'interests', 'plunged', 'payers', 'sdr', 'reallocation', 'endextremepoverty', 'rondesantis', 'amishcovid', 'wwiii', 'victory', 'lather', 'rince', 'themed', 'apocalyptic', 'movies', 'drama', 'decent', 'abs', 'evangelicals', 'crazydonald', 'trumpvirus', 'abrogated', 'organising', 'quack', 'ridden', 'viable', 'preoccupied', 'patriotact', 'ndaa', 'malinformation', 'fraudci', 'offence', 'subjected', 'heroes', 'opposite', 'festivals', 'uninfected', 'djokovic', 'fukken', 'wuhanvirus', 'chinaliedpeopledied', 'chinamustpay', 'humane', 'buggers', 'goddamn', 'mirror', 'fcps', 'quiting', 'covidians', 'maskmandate', 'amazement', 'palpitations', 'gullible', 'overselling', 'martyrdom', 'undercover', 'jfk', 'oan', 'twgrp', 'themighty', 'mighty', 'ftnwo', 'newworldorder', 'screaming', 'chicoms', 'unleash', 'screw', 'presidency', 'cheering', 'invading', 'forgive', 'worstpresidentever', 'bidendestroysamerica', 'retirements', 'mds', 'flurona', 'riddle', 'ingrained', 'targets', 'asianamericans', 'southafrica', 'draining', 'encouragement', 'omicronvariant', 'nile', 'ebola', 'xenophobic', 'suppose', 'pens', 'murdered', 'devil', 'chineseplague', 'epsteindidntkillhimself', 'edkh', 'ghislainedidntkillherself', 'trumprallyflorencex', 'ruse', 'lock', 'pissed', 'wuhanflu', 'kungflu', 'bettywhite', 'omnicron', 'shutdow', 'qaumilutvirus', 'batvirus', 'patriots', 'stillmypresidenttrump', 'unleashed', 'makechinapay', 'holdchinaaccountanle', 'fuckchina', 'apologize', 'wuhanlabvirus', 'wuhanlab', 'liberalismisamentaldisorder', 'usaf', 'veteran', 'tinnitus', 'solid', 'duped', 'sociological', 'twisted', 'reprehensible', 'relationships', 'reparations', 'gqp', 'engineered', 'jokers', 'instituting', 'misinformaton', 'carnage', 'resemble', 'joerogan', 'massformationpsychosis', 'autboritarianism', 'covidisover', 'factsfirst', 'casedemic', 'pouring', 'appreciated', 'convid', 'questioned', 'physicians', 'effed', 'fa', 'depopulate', 'wealthy', 'illegals', 'customs', 'thanksgiving', 'unenforceable', 'int', 'egx', 'shifted', 'adelaide', 'deposits', 'toddlers', 'bombay', 'bmc', 'rontgene', 'solante', 'amendment', 'thanx', 'smiling', 'duke', 'uni', 'mobility', 'resumption', 'councilor', 'golez', 'paving', 'bongbong', 'marcos', 'lifting', 'para', 'aque', 'metromanilasnitch', 'cheese', 'slices', 'vulnerability', 'restaurant', 'abhorrent', 'equally', 'sage', 'queues', 'ludicrous', 'munich', 'obvs', 'subservience', 'obeying', 'relenquish', 'coverings', 'southkorea', 'thekoreaherald', 'dom', 'accessing', 'domicron', 'covidnsw', 'communicated', 'smth', 'interviewee', 'accountable', 'tr', 'nodding', 'huohhhh', 'pubwic', 'twanspowt', 'scwapped', 'taxis', 'transportation', 'abolished', 'reiner', 'firings', 'tears', 'birx', 'nationals', 'finalsolution', 'advisors', 'recirculated', 'germs', 'lowered', 'granddaughters', 'reproduce', 'bidden', 'jabbing', 'delirious', 'plagiarist', 'coward', 'cnnmsnbcabcnbcnytcbs', 'brandon', 'intel', 'arrogance', 'crimesagainsthumanity', 'lockhimupalready', 'oustcommies', 'libertyfirst', 'demonrats', 'waterboarded', 'rhinos', 'gobbledygook', 'integralist', 'ultra', 'roots', 'favoring', 'expansion', 'likes', 'critter', 'daszak', 'klaus', 'ralph', 'baric', 'murders', 'innocent', 'accessory', 'yearly', 'deflect', 'behalf', 'daley', 'mengele', 'goebbels', 'turd', 'traitorous', 'jacka', 'betrayed', 'factcheckers', 'fakenews', 'tricked', 'geno', 'vacs', 'warroom', 'bannon', 'bigmedia', 'bigtech', 'badgovt', 'cpc', 'rw', 'pmjt', 'liberate', 'tables', 'destabilize', 'dfg', 'irony', 'bog', 'scamdemics', 'masterminds', 'fraudulently', 'amplification', 'voter', 'employ', 'spies', 'whistleblower', 'payroll', 'brainwash', 'mainstream', 'msnbc', 'trustworthy', 'fakes', 'truckers', 'vitamins', 'ashley', 'proclaimed', 'legitimize', 'ita', 'overreact', 'fuckcovid', 'fuckmasks', 'covidfake', 'pedophile', 'scumbag', 'puppets', 'fuckvaccines', 'foot', 'meal', 'riding', 'jetski', 'stupidfuck', 'beta', 'spandex', 'neck', 'fucksheep', 'succeeding', 'amateur', 'sleuths', 'fauciemails', 'chinaliedmillionsdied', 'ccpvirus', 'depo', 'faucivirus', 'hitler', 'chinaisevil', 'communistvirus', 'communism', 'coronaupdate', 'coronanews', 'coronachina', 'animalcruelty', 'closethecamps', 'cower', 'intimidation', 'concealment', 'liarwho', 'fuktard', 'wt', 'enemies', 'banhuawei', 'dirtychinese', 'banchina', 'worldwariii', 'bullet', 'wreaking', 'disgusted', 'likelu', 'seatbelt', 'deciding', 'drinking', 'loud', 'seize', 'uncertainty', 'enacted', 'elections', 'dismantled', 'pearl', 'harbor', 'djt', 'impacting', 'warrant', 'contagiou', 'magical', 'warped', 'bleak', 'pacemaker', 'eats', 'meat', 'inhale', 'wheel', 'coviddeath', 'spans', 'zpg', 'achieving', 'perpetuating', 'pestilence', 'boredom', 'tad', 'messy', 'receptionist', 'desk', 'coughs', 'clears', 'phlegm', 'tighten', 'quadruple', 'unafraid', 'sobering', 'sentence', 'hired', 'capitulation', 'cuff', 'remark', 'heartless', 'aggravated', 'mortalities', 'savepaddyfarmers', 'graveyards', 'suspicion', 'distrust', 'blowhards', 'deriding', 'pervasive', 'dishonest', 'cnnmsnbc', 'dontgetvaccinated', 'commonsense', 'envy', 'necks', 'listened', 'rogers', 'endanger', 'wristband', 'endangered', 'maskers', 'zonked', 'sweet', 'dreams', 'sissies', 'transmitted', 'transmissions', 'appeal', 'feed', 'inadequately', 'prematurely', 'shock', 'retweeted', 'scandemic', 'escaped', 'virology', 'strangely', 'sophisticated', 'helathy', 'instantly', 'fuckin', 'dummy', 'supposedly', 'numerous', 'gon', 'buggin', 'stollen', 'land', 'excessive', 'wipeout', 'testosterone', 'estrogenized', 'firefauci', 'cancelcovid', 'cancelmasks', 'cancelvaccines', 'cancelfauci', 'cancelliberals', 'quanrantine', 'chinaliedandpeopledied', 'hongkongneedshelp', 'overreacted', 'understandably', 'economical', 'forgiven', 'kamtim', 'indonesian', 'allah', 'swt', 'tracks', 'echoing', 'indicators', 'numb', 'qt', 'borderobserver', 'pla', 'uyghurgenocide', 'harvesting', 'uyghur', 'technologies', 'conceal', 'resorts', 'cartoons', 'monstrous', 'cali', 'reiterates', 'invitation', 'korean', 'dial', 'chat', 'email', 'pdf', 'juvintech', 'hpe', 'hpeserver', 'mercantile', 'branch', 'proteja', 'sus', 'hijos', 'vacun', 'ndolos', 'contra', 'el', 'hoy', 'assured', 'remedial', 'catchup', 'transformingeducation', 'dominating', 'stypsguerrero', 'prevenci', 'bolivarian', 'undertakes', 'gobiernodesoluciones', 'oms', 'tedrosadhanomghebreyesus', 'pandemia', 'cuarentena', 'estadosunidos', 'deconfinement', 'gestesbarrieres', 'datem', 'pontevivo', 'juntossalimosadelante', 'netosis', 'implication', 'inflammations', 'torch', 'runs', 'algorithmic', 'influencers', 'hashtags', 'foreverychild', 'foodindustry', 'brainwashing', 'leftists', 'masspsychosis', 'unseen', 'purchases', 'homebuying', 'sightunseen', 'registrations', 'compromise', 'fungal', 'shameonyou', 'cuba', 'pinardelr', 'judging', 'prefectures', 'url', 'der', 'bavaria', 'markus', 'csu', 'spoken', 'quarantaene', 'radiology', 'namibia', 'drought', 'shocks', 'contributors', 'hunger', 'worldfoodday', 'sized', 'piling', 'inconvenient', 'incapacitated', 'medtwitter', 'nursetwitter', 'longevity', 'mentalhealthmatters', 'imported', 'hosp', 'herhaalprik', 'sweat', 'select', 'communicating', 'investigates', 'diversion', 'grande', 'natal', 'crossing', 'dissonance', 'webinar', 'proposals', 'krauseneck', 'brighton', 'ax', 'harmed', 'begging', 'alt', 'montreal', 'mongering', 'virtue', 'signaling', 'subside', 'muchaatenci', 'peque', 'os', 'rezagados', 'primeradosis', 'query', 'abuelo', 'seatbelts', 'fictional', 'midterms', 'winds', 'shrooms', 'lsd', 'feverish', 'blacking', 'injures', 'matheny', 'wage', 'rescinds', 'penalties', 'dod', 'alleged', 'lockdowneasing', 'restricciones', 'ebook', 'massie', 'predicated', 'voided', 'genome', 'devised', 'stayathomesavelives', 'umesh', 'yadav', 'recalled', 'shami', 'umeshyadav', 'indvaus', 'starbucks', 'barista', 'scmp', 'transporting', 'srilanka', 'lka', 'utvnews', 'balasore', 'bargarh', 'bhadrak', 'cuttack', 'dhenkanal', 'southwestern', 'guiyang', 'dozen', 'bare', 'necessities', 'deploy', 'detain', 'jokowi', 'joebiden', 'funnier', 'colbert', 'colorful', 'emergencydeclaration', 'emergencypower', 'declarations', 'mailinballot', 'nina', 'turner', 'abusing', 'leftist', 'cato', 'nines', 'branchcovidian', 'sect', 'branchcovidians', 'bdsmbros', 'worship', 'bigguy', 'sigh', 'fascism', 'charade', 'excercise', 'democratsaretheproblem', 'ccpchina', 'wuhancoronavirus', 'malasia', 'bioattack', 'reelect', 'overseas', 'xitler', 'unfavorably', 'soil', 'tibetans', 'revealing', 'chinashouldpay', 'thankschina', 'chickens', 'roost', 'repression', 'oppression', 'occupation', 'inhuman', 'endorsed', 'crores', 'mss', 'rnc', 'resolution', 'pursue', 'propagation', 'oppress', 'extrem', 'fullmich', 'steal', 'alleagence', 'gearing', 'shutdown', 'fark', 'graphically', 'psychologically', 'swathes', 'batches', 'scammed', 'lele', 'bo', 'myfriend', 'wiping', 'stamping', 'urs', 'notovaccinemandate', 'chemtrail', 'implosion', 'controllers', 'realm', 'fiasco', 'unravel', 'savetheirskin', 'newworldorderfail', 'unboosted', 'untested', 'whoohoo', 'upsidedown', 'shake', 'elbow', 'bump', 'pratt', 'honey', 'coated', 'cashews', 'hallmarks', 'satanic', 'ritual', 'whatnot', 'transmutation', 'alchemist', 'brotherhood', 'salvation', 'valhalla', 'enlightenment', 'kontrol', 'outfit', 'audacity', 'mediacontrol', 'naive', 'quackzeens', 'ostracism', 'awakened', 'tickers', 'lamestreammedia', 'journalismisdead', 'miserably', 'hyper', 'coworker', 'clued', 'cvirus', 'indiana', 'bitches', 'squatter', 'nowt', 'hocus', 'pocus', 'depopulationagenda', 'videotape', 'cretins', 'howling', 'banshees', 'liked', 'trudeaucorruption', 'trudeauresign', 'trudeauhastogo', 'trudeaumustresign', 'trudeauhasgottogo', 'trudeaumustgonow', 'pierrepoilievreislyingtoyou', 'pierrepoilievreisafascist', 'deactivate', 'password', 'stolen', 'hunters', 'slack', 'relentless', 'hypochondriac', 'awaited', 'blackfungus', 'whitefungus', 'yellowfungus', 'birdflu', 'chinaupto', 'destroy', 'blend', 'sean', 'lin', 'walter', 'reed', 'seafood', 'assumption', 'ignores', 'tryna', 'version', 'olympics', 'dat', 'misery', 'stopasianhate', 'voteredtosaveamerica', 'asianlivesmatter', 'asianhate', 'asiansarehuman', 'crooks', 'thrillions', 'honoring', 'expressing', 'sadness', 'covidscam', 'stinking', 'massdeath', 'normalized', 'covidsurrender', 'newark', 'assuming', 'appetizer', 'parma', 'trading', 'amnesia', 'defending', 'steroids', 'lornajane', 'lornajanescam', 'twitters', 'governmentscammers', 'fooker', 'beliving', 'brothers', 'urkaine', 'covidfraud', 'diverting', 'newswire', 'covidisascam', 'bullsh', 'covidlockdown', 'bookbikelondon', 'saaaafety', 'chinalockdown', 'gavinnewsom', 'bloodsugar', 'meded', 'cultivation', 'southflorida', 'licorice', 'compounds', 'witnessing', 'dehumanisation', 'trillion', 'dai', 'likens', 'shamdemic', 'style', 'trending', 'enoughlsenough', 'stoptheclinicaltrials', 'stopharmingpeople', 'multitudes', 'seeimg', 'possbly', 'gonan', 'dnr', 'pincushions', 'knocks', 'demographic', 'urbanised', 'residences', 'congested', 'baffled', 'getvaxxedfuckers', 'stcharlescounty', 'scheduling', 'induce', 'sans', 'adoptions', 'rides', 'inhaled', 'getvaxxed', 'hastag', 'scarier', 'getvaxxedtoday', 'dusted', 'cadence', 'stopthevax', 'chemtrails', 'soggy', 'shall', 'conditioning', 'controls', 'blessing', 'dissent', 'grateful', 'cleverly', 'potrayed', 'nut', 'demonise', 'withhold', 'misinterpretation', 'nswlockdown', 'aiming', 'divert', 'propped', 'invoice', 'rash', 'disgraced', 'insulted', 'dynamic', 'kamikaze', 'bloc', 'calculate', 'naci', 'layer', 'retailers', 'slowest', 'alasdair', 'henderson', 'indirect', 'jama', 'hid', 'stds', 'senators', 'perth', 'uniforms', 'facemasks', 'umpteenth', 'meningitis', 'croup', 'wards', 'tight', 'interactions', 'welp', 'kiddo', 'spookyseason', 'bribed', 'candles', 'confirming', 'spiked', 'perpetrated', 'badged', 'loneliness', 'perception', 'vivo', 'mouse', 'nad', 'pathway', 'overworked', 'underpaid', 'disgrace', 'trade', 'dynamics', 'vaccinatiedwang', 'indiacovidcases', 'hashtag', 'gravity', 'taxes', 'surprisingly', 'smack', 'antonio', 'increasingly', 'agrees', 'letthebodiespilehigh', 'northmacedonia', 'originsofcovid', 'centaurus', 'manipur', 'nuetralized', 'fought', 'rationally', 'racial', 'ethnic', 'dhhr', 'virusequalitynow', 'sneeze', 'rtpcr', 'lockeddown', 'petition', 'cardiovascular', 'familymedicine', 'chlamydophila', 'pneumoniae', 'inability', 'burningman', 'reimposed', 'urgh', 'hatecovid', 'taxpayers', 'irs', 'automatically', 'refunds', 'bizarre', 'rejection', 'thisengland', 'starring', 'kenneth', 'branagh', 'swamp', 'reopened', 'psychologicaldistress', 'pureblood', 'covidisfake', 'seamlessly', 'integrated', 'accelerated', 'obliterated', 'africans', 'retards', 'safeseptember', 'asshole', 'seat', 'bag', 'aerosols', 'afloat', 'leaves', 'yah', 'gas', 'plexiglass', 'barriers', 'stopthenonsence', 'preachers', 'pastors', 'chuseok', 'arirang', 'lovelies', 'woo', 'hoo', 'lemme', 'guilt', 'embarrassing', 'rambling', 'darth', 'vader', 'nocovid', 'rascist', 'compete', 'nomandate', 'nomask', 'ekinsu', 'resumes', 'trudeauisdestroyingcanada', 'novaccine', 'savecanada', 'ngl', 'sinus', 'signals', 'popped', 'gyle', 'tmrnews', 'tmrphoto', 'filter', 'reformulated', 'figured', 'gowns', 'gloves', 'wipes', 'trolley', 'shields', 'restocked', 'disposal']\n"
     ]
    }
   ],
   "source": [
    "print (total_bow)"
   ]
  },
  {
   "cell_type": "markdown",
   "metadata": {},
   "source": [
    "Let's drop all the entries that aren't unique, as they would mess with our model"
   ]
  },
  {
   "cell_type": "code",
   "execution_count": 272,
   "metadata": {},
   "outputs": [
    {
     "data": {
      "text/html": [
       "<div>\n",
       "<style scoped>\n",
       "    .dataframe tbody tr th:only-of-type {\n",
       "        vertical-align: middle;\n",
       "    }\n",
       "\n",
       "    .dataframe tbody tr th {\n",
       "        vertical-align: top;\n",
       "    }\n",
       "\n",
       "    .dataframe thead th {\n",
       "        text-align: right;\n",
       "    }\n",
       "</style>\n",
       "<table border=\"1\" class=\"dataframe\">\n",
       "  <thead>\n",
       "    <tr style=\"text-align: right;\">\n",
       "      <th></th>\n",
       "      <th>Content</th>\n",
       "      <th>Label</th>\n",
       "      <th>Binarised Label</th>\n",
       "      <th>BoW</th>\n",
       "    </tr>\n",
       "  </thead>\n",
       "  <tbody>\n",
       "    <tr>\n",
       "      <th>0</th>\n",
       "      <td>US regulators give full approval to Pfizer COV...</td>\n",
       "      <td>not fake</td>\n",
       "      <td>0</td>\n",
       "      <td>[us, regulators, give, full, approval, pfizer,...</td>\n",
       "    </tr>\n",
       "    <tr>\n",
       "      <th>1</th>\n",
       "      <td>\"Researchers in The Netherlands and Germany ha...</td>\n",
       "      <td>not fake</td>\n",
       "      <td>0</td>\n",
       "      <td>[researchers, netherlands, germany, warned, pf...</td>\n",
       "    </tr>\n",
       "    <tr>\n",
       "      <th>2</th>\n",
       "      <td>#Iran: #Coronavirus Fatalities Exceed 386,900 ...</td>\n",
       "      <td>not fake</td>\n",
       "      <td>0</td>\n",
       "      <td>[iran, coronavirus, fatalities, exceed, cities...</td>\n",
       "    </tr>\n",
       "    <tr>\n",
       "      <th>3</th>\n",
       "      <td>(#PMOI/#MEK #Iran)&amp;(#NCRI): #COVID Tehran Univ...</td>\n",
       "      <td>not fake</td>\n",
       "      <td>0</td>\n",
       "      <td>[pmoi, mek, iran, ncri, covid, tehran, univers...</td>\n",
       "    </tr>\n",
       "    <tr>\n",
       "      <th>4</th>\n",
       "      <td>@AndyPan03390600 @IsoTupe @jonatho84952843 @ZO...</td>\n",
       "      <td>not fake</td>\n",
       "      <td>0</td>\n",
       "      <td>[proven, deaths, caused, vaccine, need, read, ...</td>\n",
       "    </tr>\n",
       "  </tbody>\n",
       "</table>\n",
       "</div>"
      ],
      "text/plain": [
       "                                             Content     Label  \\\n",
       "0  US regulators give full approval to Pfizer COV...  not fake   \n",
       "1  \"Researchers in The Netherlands and Germany ha...  not fake   \n",
       "2  #Iran: #Coronavirus Fatalities Exceed 386,900 ...  not fake   \n",
       "3  (#PMOI/#MEK #Iran)&(#NCRI): #COVID Tehran Univ...  not fake   \n",
       "4  @AndyPan03390600 @IsoTupe @jonatho84952843 @ZO...  not fake   \n",
       "\n",
       "   Binarised Label                                                BoW  \n",
       "0                0  [us, regulators, give, full, approval, pfizer,...  \n",
       "1                0  [researchers, netherlands, germany, warned, pf...  \n",
       "2                0  [iran, coronavirus, fatalities, exceed, cities...  \n",
       "3                0  [pmoi, mek, iran, ncri, covid, tehran, univers...  \n",
       "4                0  [proven, deaths, caused, vaccine, need, read, ...  "
      ]
     },
     "execution_count": 272,
     "metadata": {},
     "output_type": "execute_result"
    }
   ],
   "source": [
    "merged_df = merged_df.drop_duplicates(subset='BoW')\n",
    "merged_df.head()"
   ]
  },
  {
   "cell_type": "markdown",
   "metadata": {},
   "source": [
    "### We now need to count each occurence of each words, in each tweet in order to construct its vector."
   ]
  },
  {
   "cell_type": "code",
   "execution_count": 277,
   "metadata": {},
   "outputs": [],
   "source": [
    "def vectorize(BoW):\n",
    "    ''' This function takes list of words in a sentence as input \n",
    "    and returns a vector of size of filtered_vocab.It puts 0 if the \n",
    "    word is not present in tokens and count of token if present.'''\n",
    "    vector=[]\n",
    "    for w in total_bow:\n",
    "        vector.append(BoW.count(w))\n",
    "    return vector\n",
    "merged_df[\"Vector\"] = merged_df[\"BoW\"].apply(vectorize)\n",
    "merged_df.head()"
   ]
  },
  {
   "cell_type": "markdown",
   "metadata": {},
   "source": [
    "### We now have sucessfully vectorized the tweets"
   ]
  },
  {
   "cell_type": "markdown",
   "metadata": {},
   "source": [
    "# Implementing Naive Bayes Classifier\n",
    "\n",
    "1. Here I chose to train the model on 80% of the dataset and test it on 20%\n",
    "2. I specify a random state to keep the results constant"
   ]
  },
  {
   "cell_type": "code",
   "execution_count": 286,
   "metadata": {},
   "outputs": [
    {
     "name": "stdout",
     "output_type": "stream",
     "text": [
      "Number of mislabeled points out of a total 850 points: 237\n",
      "Precision is 72.11764705882354 %\n"
     ]
    }
   ],
   "source": [
    "from sklearn.model_selection import train_test_split\n",
    "from sklearn.naive_bayes import MultinomialNB\n",
    "import numpy as np\n",
    "\n",
    "X = np.array(merged_df[\"Vector\"].tolist())  # Assumed to be a list of lists representing vectors\n",
    "y = merged_df[\"Binarised Label\"]\n",
    "X_train, X_test, y_train, y_test = train_test_split(X, y, test_size=0.2, random_state=42)\n",
    "\n",
    "mnb = MultinomialNB()\n",
    "y_pred = mnb.fit(X_train, y_train).predict(X_test)\n",
    "total = X_test.shape[0]\n",
    "wrong = (y_test != y_pred).sum()\n",
    "print(\"Number of mislabeled points out of a total %d points: %d\"\n",
    "      % (X_test.shape[0], (y_test != y_pred).sum()))\n",
    "print (f\"Precision is {((total-wrong)/total)*100} %\")"
   ]
  },
  {
   "cell_type": "markdown",
   "metadata": {},
   "source": [
    "## 1. The precision, keeping the \"#\" content in the tweet is 72% vs 70% when we get rid of them.\n",
    "## 2. When stemming the words, precision falls to 43%\n",
    "## 3. Naive Bayes is a very basic classifier, and it seems pretty hard to get a better accuracy than 72%\n",
    "## 4. I think I know need to generate some graphs for the presentation, save the model, and create a script that labels tweets from a file. "
   ]
  }
 ],
 "metadata": {
  "kernelspec": {
   "display_name": "Python 3",
   "language": "python",
   "name": "python3"
  },
  "language_info": {
   "codemirror_mode": {
    "name": "ipython",
    "version": 3
   },
   "file_extension": ".py",
   "mimetype": "text/x-python",
   "name": "python",
   "nbconvert_exporter": "python",
   "pygments_lexer": "ipython3",
   "version": "3.10.12"
  }
 },
 "nbformat": 4,
 "nbformat_minor": 2
}
